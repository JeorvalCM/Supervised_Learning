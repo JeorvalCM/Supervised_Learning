{
 "cells": [
  {
   "cell_type": "code",
   "execution_count": 1,
   "metadata": {},
   "outputs": [],
   "source": [
    "import numpy as np\n",
    "import pandas as pd\n",
    "import matplotlib.pyplot as plt\n",
    "from sklearn.model_selection import train_test_split\n",
    "from sklearn.datasets import load_boston"
   ]
  },
  {
   "cell_type": "code",
   "execution_count": 2,
   "metadata": {},
   "outputs": [
    {
     "data": {
      "text/html": [
       "<div>\n",
       "<style scoped>\n",
       "    .dataframe tbody tr th:only-of-type {\n",
       "        vertical-align: middle;\n",
       "    }\n",
       "\n",
       "    .dataframe tbody tr th {\n",
       "        vertical-align: top;\n",
       "    }\n",
       "\n",
       "    .dataframe thead th {\n",
       "        text-align: right;\n",
       "    }\n",
       "</style>\n",
       "<table border=\"1\" class=\"dataframe\">\n",
       "  <thead>\n",
       "    <tr style=\"text-align: right;\">\n",
       "      <th></th>\n",
       "      <th>CRIM</th>\n",
       "      <th>ZN</th>\n",
       "      <th>INDUS</th>\n",
       "      <th>CHAS</th>\n",
       "      <th>NOX</th>\n",
       "      <th>RM</th>\n",
       "      <th>AGE</th>\n",
       "      <th>DIS</th>\n",
       "      <th>RAD</th>\n",
       "      <th>TAX</th>\n",
       "      <th>PTRATIO</th>\n",
       "      <th>B</th>\n",
       "      <th>LSTAT</th>\n",
       "      <th>MEDV</th>\n",
       "    </tr>\n",
       "  </thead>\n",
       "  <tbody>\n",
       "    <tr>\n",
       "      <th>0</th>\n",
       "      <td>0.00632</td>\n",
       "      <td>18.0</td>\n",
       "      <td>2.31</td>\n",
       "      <td>0.0</td>\n",
       "      <td>0.538</td>\n",
       "      <td>6.575</td>\n",
       "      <td>65.2</td>\n",
       "      <td>4.0900</td>\n",
       "      <td>1.0</td>\n",
       "      <td>296.0</td>\n",
       "      <td>15.3</td>\n",
       "      <td>396.90</td>\n",
       "      <td>4.98</td>\n",
       "      <td>24.0</td>\n",
       "    </tr>\n",
       "    <tr>\n",
       "      <th>1</th>\n",
       "      <td>0.02731</td>\n",
       "      <td>0.0</td>\n",
       "      <td>7.07</td>\n",
       "      <td>0.0</td>\n",
       "      <td>0.469</td>\n",
       "      <td>6.421</td>\n",
       "      <td>78.9</td>\n",
       "      <td>4.9671</td>\n",
       "      <td>2.0</td>\n",
       "      <td>242.0</td>\n",
       "      <td>17.8</td>\n",
       "      <td>396.90</td>\n",
       "      <td>9.14</td>\n",
       "      <td>21.6</td>\n",
       "    </tr>\n",
       "    <tr>\n",
       "      <th>2</th>\n",
       "      <td>0.02729</td>\n",
       "      <td>0.0</td>\n",
       "      <td>7.07</td>\n",
       "      <td>0.0</td>\n",
       "      <td>0.469</td>\n",
       "      <td>7.185</td>\n",
       "      <td>61.1</td>\n",
       "      <td>4.9671</td>\n",
       "      <td>2.0</td>\n",
       "      <td>242.0</td>\n",
       "      <td>17.8</td>\n",
       "      <td>392.83</td>\n",
       "      <td>4.03</td>\n",
       "      <td>34.7</td>\n",
       "    </tr>\n",
       "    <tr>\n",
       "      <th>3</th>\n",
       "      <td>0.03237</td>\n",
       "      <td>0.0</td>\n",
       "      <td>2.18</td>\n",
       "      <td>0.0</td>\n",
       "      <td>0.458</td>\n",
       "      <td>6.998</td>\n",
       "      <td>45.8</td>\n",
       "      <td>6.0622</td>\n",
       "      <td>3.0</td>\n",
       "      <td>222.0</td>\n",
       "      <td>18.7</td>\n",
       "      <td>394.63</td>\n",
       "      <td>2.94</td>\n",
       "      <td>33.4</td>\n",
       "    </tr>\n",
       "    <tr>\n",
       "      <th>4</th>\n",
       "      <td>0.06905</td>\n",
       "      <td>0.0</td>\n",
       "      <td>2.18</td>\n",
       "      <td>0.0</td>\n",
       "      <td>0.458</td>\n",
       "      <td>7.147</td>\n",
       "      <td>54.2</td>\n",
       "      <td>6.0622</td>\n",
       "      <td>3.0</td>\n",
       "      <td>222.0</td>\n",
       "      <td>18.7</td>\n",
       "      <td>396.90</td>\n",
       "      <td>5.33</td>\n",
       "      <td>36.2</td>\n",
       "    </tr>\n",
       "    <tr>\n",
       "      <th>...</th>\n",
       "      <td>...</td>\n",
       "      <td>...</td>\n",
       "      <td>...</td>\n",
       "      <td>...</td>\n",
       "      <td>...</td>\n",
       "      <td>...</td>\n",
       "      <td>...</td>\n",
       "      <td>...</td>\n",
       "      <td>...</td>\n",
       "      <td>...</td>\n",
       "      <td>...</td>\n",
       "      <td>...</td>\n",
       "      <td>...</td>\n",
       "      <td>...</td>\n",
       "    </tr>\n",
       "    <tr>\n",
       "      <th>501</th>\n",
       "      <td>0.06263</td>\n",
       "      <td>0.0</td>\n",
       "      <td>11.93</td>\n",
       "      <td>0.0</td>\n",
       "      <td>0.573</td>\n",
       "      <td>6.593</td>\n",
       "      <td>69.1</td>\n",
       "      <td>2.4786</td>\n",
       "      <td>1.0</td>\n",
       "      <td>273.0</td>\n",
       "      <td>21.0</td>\n",
       "      <td>391.99</td>\n",
       "      <td>9.67</td>\n",
       "      <td>22.4</td>\n",
       "    </tr>\n",
       "    <tr>\n",
       "      <th>502</th>\n",
       "      <td>0.04527</td>\n",
       "      <td>0.0</td>\n",
       "      <td>11.93</td>\n",
       "      <td>0.0</td>\n",
       "      <td>0.573</td>\n",
       "      <td>6.120</td>\n",
       "      <td>76.7</td>\n",
       "      <td>2.2875</td>\n",
       "      <td>1.0</td>\n",
       "      <td>273.0</td>\n",
       "      <td>21.0</td>\n",
       "      <td>396.90</td>\n",
       "      <td>9.08</td>\n",
       "      <td>20.6</td>\n",
       "    </tr>\n",
       "    <tr>\n",
       "      <th>503</th>\n",
       "      <td>0.06076</td>\n",
       "      <td>0.0</td>\n",
       "      <td>11.93</td>\n",
       "      <td>0.0</td>\n",
       "      <td>0.573</td>\n",
       "      <td>6.976</td>\n",
       "      <td>91.0</td>\n",
       "      <td>2.1675</td>\n",
       "      <td>1.0</td>\n",
       "      <td>273.0</td>\n",
       "      <td>21.0</td>\n",
       "      <td>396.90</td>\n",
       "      <td>5.64</td>\n",
       "      <td>23.9</td>\n",
       "    </tr>\n",
       "    <tr>\n",
       "      <th>504</th>\n",
       "      <td>0.10959</td>\n",
       "      <td>0.0</td>\n",
       "      <td>11.93</td>\n",
       "      <td>0.0</td>\n",
       "      <td>0.573</td>\n",
       "      <td>6.794</td>\n",
       "      <td>89.3</td>\n",
       "      <td>2.3889</td>\n",
       "      <td>1.0</td>\n",
       "      <td>273.0</td>\n",
       "      <td>21.0</td>\n",
       "      <td>393.45</td>\n",
       "      <td>6.48</td>\n",
       "      <td>22.0</td>\n",
       "    </tr>\n",
       "    <tr>\n",
       "      <th>505</th>\n",
       "      <td>0.04741</td>\n",
       "      <td>0.0</td>\n",
       "      <td>11.93</td>\n",
       "      <td>0.0</td>\n",
       "      <td>0.573</td>\n",
       "      <td>6.030</td>\n",
       "      <td>80.8</td>\n",
       "      <td>2.5050</td>\n",
       "      <td>1.0</td>\n",
       "      <td>273.0</td>\n",
       "      <td>21.0</td>\n",
       "      <td>396.90</td>\n",
       "      <td>7.88</td>\n",
       "      <td>11.9</td>\n",
       "    </tr>\n",
       "  </tbody>\n",
       "</table>\n",
       "<p>506 rows × 14 columns</p>\n",
       "</div>"
      ],
      "text/plain": [
       "        CRIM    ZN  INDUS  CHAS    NOX     RM   AGE     DIS  RAD    TAX  \\\n",
       "0    0.00632  18.0   2.31   0.0  0.538  6.575  65.2  4.0900  1.0  296.0   \n",
       "1    0.02731   0.0   7.07   0.0  0.469  6.421  78.9  4.9671  2.0  242.0   \n",
       "2    0.02729   0.0   7.07   0.0  0.469  7.185  61.1  4.9671  2.0  242.0   \n",
       "3    0.03237   0.0   2.18   0.0  0.458  6.998  45.8  6.0622  3.0  222.0   \n",
       "4    0.06905   0.0   2.18   0.0  0.458  7.147  54.2  6.0622  3.0  222.0   \n",
       "..       ...   ...    ...   ...    ...    ...   ...     ...  ...    ...   \n",
       "501  0.06263   0.0  11.93   0.0  0.573  6.593  69.1  2.4786  1.0  273.0   \n",
       "502  0.04527   0.0  11.93   0.0  0.573  6.120  76.7  2.2875  1.0  273.0   \n",
       "503  0.06076   0.0  11.93   0.0  0.573  6.976  91.0  2.1675  1.0  273.0   \n",
       "504  0.10959   0.0  11.93   0.0  0.573  6.794  89.3  2.3889  1.0  273.0   \n",
       "505  0.04741   0.0  11.93   0.0  0.573  6.030  80.8  2.5050  1.0  273.0   \n",
       "\n",
       "     PTRATIO       B  LSTAT  MEDV  \n",
       "0       15.3  396.90   4.98  24.0  \n",
       "1       17.8  396.90   9.14  21.6  \n",
       "2       17.8  392.83   4.03  34.7  \n",
       "3       18.7  394.63   2.94  33.4  \n",
       "4       18.7  396.90   5.33  36.2  \n",
       "..       ...     ...    ...   ...  \n",
       "501     21.0  391.99   9.67  22.4  \n",
       "502     21.0  396.90   9.08  20.6  \n",
       "503     21.0  396.90   5.64  23.9  \n",
       "504     21.0  393.45   6.48  22.0  \n",
       "505     21.0  396.90   7.88  11.9  \n",
       "\n",
       "[506 rows x 14 columns]"
      ]
     },
     "execution_count": 2,
     "metadata": {},
     "output_type": "execute_result"
    }
   ],
   "source": [
    "boston_df = pd.DataFrame(load_boston()['data'], columns = load_boston()['feature_names'])\n",
    "boston_df['MEDV'] = load_boston()['target']\n",
    "boston_df"
   ]
  },
  {
   "cell_type": "markdown",
   "metadata": {},
   "source": [
    "# a) [0.5pts] Make a scatterplot between MEDV and LSTAT"
   ]
  },
  {
   "cell_type": "code",
   "execution_count": 3,
   "metadata": {},
   "outputs": [],
   "source": [
    "plt.rcParams[\"figure.figsize\"] = (10,10)"
   ]
  },
  {
   "cell_type": "code",
   "execution_count": 4,
   "metadata": {},
   "outputs": [
    {
     "data": {
      "image/png": "[encoded data removed]",
      "text/plain": [
       "<Figure size 720x720 with 1 Axes>"
      ]
     },
     "metadata": {
      "needs_background": "light"
     },
     "output_type": "display_data"
    }
   ],
   "source": [
    "plt.scatter(boston_df.LSTAT, boston_df.MEDV)\n",
    "plt.xlabel(\"LSTAT\")\n",
    "plt.ylabel(\"MEDV\")\n",
    "plt.title(\"MEDV depending on LSTAT\")\n",
    "plt.show()"
   ]
  },
  {
   "cell_type": "markdown",
   "metadata": {},
   "source": [
    "# b) [3.5pts] Fit a Polynomial Curveto model MEDV with respect to LSTAT. In order to complete this task:"
   ]
  },
  {
   "cell_type": "markdown",
   "metadata": {},
   "source": [
    "### a. Divide your data (80%) into train and test set (20%)."
   ]
  },
  {
   "cell_type": "code",
   "execution_count": 5,
   "metadata": {},
   "outputs": [],
   "source": [
    "boston_train, boston_test = train_test_split(boston_df, train_size = .80)"
   ]
  },
  {
   "cell_type": "markdown",
   "metadata": {},
   "source": [
    "### b. Make a comparison plot of the root-mean-square error in the training set and test set with different values for the polynomial order.Which is the most appropriate value of the polynomial order."
   ]
  },
  {
   "cell_type": "code",
   "execution_count": 6,
   "metadata": {},
   "outputs": [],
   "source": [
    "def predict(x, w):\n",
    "    \"\"\"\n",
    "    Docstring\n",
    "    \n",
    "    Input\n",
    "    x: a vector including all the values of the input variable x for a given set of point, i.e- values for we want to predict the value on \n",
    "    the y.axis\n",
    "    \n",
    "    w:polynomial coefficient vector. Obtained from function fit\n",
    "    \n",
    "    Output:\n",
    "    List of y-axis points predicted from the x-values, they are in order so the x in index 1 its prediction is also in index one\n",
    "    of the obtained list\n",
    "    \"\"\"\n",
    "    \n",
    "    m = len(w)\n",
    "    \n",
    "    #This part represents the first summation showed in section 2\n",
    "    predictions = [sum([w[i] * np.power(j, i) for i in range(m)])[0] for j in x]\n",
    "    \n",
    "    return np.array(predictions)\n",
    "\n",
    "def fit(x, t, M):\n",
    "    \"\"\"\n",
    "    Docstring\n",
    "    \n",
    "    Input:\n",
    "    x: a vector including all the values of the input variable x for a given set of point.\n",
    "    t: a vector including all the values of the target variable t for a given set of point.\n",
    "    M: the degree of the polynomial to be fitted.\n",
    "    \n",
    "    Output:\n",
    "    polynomial coefficient vector for the M degree polynomial.\n",
    "    \"\"\"\n",
    "    n = len(x)\n",
    "    \n",
    "    #Here we obtain the matrix that contains the x in summation\n",
    "    A_matrix = np.array([[sum(np.power(x, i+j)) for i in range(M+1)] for j in range(M+1)])\n",
    "    \n",
    "    #here we obtain the vector which contains t\n",
    "    B_matrix = np.array([ [sum(t * np.power(x, i))] for i in range(M+1)])\n",
    "    \n",
    "    #here we obtain the inverse of A\n",
    "    A_inversed = np.linalg.inv(A_matrix)\n",
    "    \n",
    "    #Return the matrix multiplication of A^-1 x B\n",
    "    return np.matmul(A_inversed, B_matrix)\n",
    "\n",
    "def rmse(y, t):\n",
    "    \"\"\"\n",
    "    Docstring\n",
    "    \n",
    "    Input:\n",
    "    y: a vector including all the predicted values of the target variable for a given set of point.\n",
    "    t: a vector including all the values of the target variable t for a given set of point.\n",
    "    \n",
    "    Output:\n",
    "    The root.mean square error\n",
    "    \"\"\"\n",
    "    N = len(y)\n",
    "    \n",
    "    #computing the error for each data point\n",
    "    error = np.power(y - t, 2)\n",
    "    \n",
    "    #computing the sumation divided by N\n",
    "    rmse_fun = sum(error)/N\n",
    "    \n",
    "    #applying root square\n",
    "    rmse_fun = np.sqrt(rmse_fun)\n",
    "    return round(rmse_fun,5)"
   ]
  },
  {
   "cell_type": "code",
   "execution_count": 7,
   "metadata": {},
   "outputs": [],
   "source": [
    "boston_train_LSTAT = np.array(boston_train.LSTAT)\n",
    "boston_train_MEDV = np.array(boston_train.MEDV)\n",
    "\n",
    "boston_test_LSTAT = np.array(boston_test.LSTAT)\n",
    "boston_test_MEDV = np.array(boston_test.MEDV)\n",
    "\n",
    "rmse_train = []\n",
    "\n",
    "rmse_test = []\n",
    "\n",
    "for i in range(10):\n",
    "    #obtaining the model in the i polynomial and its rmse\n",
    "    \n",
    "    w_i = fit(boston_train_LSTAT, boston_train_MEDV, i)\n",
    "    predicted_i = predict(boston_train_LSTAT, w_i)\n",
    "    rmse_tra = rmse(boston_train_MEDV, predicted_i)\n",
    "    \n",
    "    #testing the test data in the model and getting the rmse\n",
    "    predicted_test = predict(boston_test_LSTAT, w_i)\n",
    "    rmse_te = rmse(boston_test_MEDV, predicted_test)\n",
    "    rmse_train.append(rmse_tra)\n",
    "    rmse_test.append(rmse_te)"
   ]
  },
  {
   "cell_type": "code",
   "execution_count": 8,
   "metadata": {},
   "outputs": [
    {
     "data": {
      "image/png": "[encoded data removed]",
      "text/plain": [
       "<Figure size 720x720 with 1 Axes>"
      ]
     },
     "metadata": {
      "needs_background": "light"
     },
     "output_type": "display_data"
    }
   ],
   "source": [
    "#PLotting Train rmse vs test rmse\n",
    "x_axis = [i for i in range(10)]\n",
    "\n",
    "plt.plot(x_axis, rmse_train, color = 'red', label = 'train')\n",
    "plt.scatter(x_axis, rmse_train, color = 'red')\n",
    "plt.plot(x_axis, rmse_test, color = 'blue', label = 'test')\n",
    "plt.scatter(x_axis, rmse_test, color = 'blue')\n",
    "plt.title(\"Train vs test\", fontsize = 20)\n",
    "plt.xlabel(\"M\")\n",
    "plt.ylabel(\"RMSE\")\n",
    "plt.legend()\n",
    "plt.show()"
   ]
  },
  {
   "cell_type": "markdown",
   "metadata": {},
   "source": [
    "I would choose when M = 3 because of the scatter plot is easy to see how the values goes down and mostM equal to an even number goes up again and the others odd M suddenly goes to 0"
   ]
  },
  {
   "cell_type": "markdown",
   "metadata": {},
   "source": [
    "### c. The mean percentage error is a metric that can be helpful to understand if your model  is  over  overestimating  or  underestimating  the  real  value. This  can  be computed as follows:"
   ]
  },
  {
   "cell_type": "code",
   "execution_count": 9,
   "metadata": {},
   "outputs": [],
   "source": [
    "def MPE(y_real, y_predicted):\n",
    "    \"\"\"\n",
    "    Dosctring\n",
    "    Function to compute the Mean Percentage Error only accepts numpy arrays\n",
    "    \n",
    "    input \n",
    "    y_real: real values of the predicted variable\n",
    "    y_predicted: predicted values of the predicted variable\n",
    "    \n",
    "    output\n",
    "    return the Mean precentage error on percentages without %\n",
    "    \n",
    "    \"\"\"\n",
    "    n = len(y_real)\n",
    "    \n",
    "    mpe = (100 * round((1/n) * sum(abs((y_real- y_predicted)/y_real)), 5))\n",
    "    \n",
    "    return mpe"
   ]
  },
  {
   "cell_type": "markdown",
   "metadata": {},
   "source": [
    "#### M = 3, polynomial of degree 3"
   ]
  },
  {
   "cell_type": "code",
   "execution_count": 10,
   "metadata": {},
   "outputs": [
    {
     "name": "stdout",
     "output_type": "stream",
     "text": [
      "19.464000000000002\n"
     ]
    }
   ],
   "source": [
    "boston_train_LSTAT_2 = np.array(boston_train.LSTAT)\n",
    "boston_train_MEDV_2 = np.array(boston_train.MEDV)\n",
    "\n",
    "w_2 = fit(boston_train_LSTAT_2, boston_train_MEDV_2, 3)\n",
    "predicted_2 = predict(boston_train_LSTAT_2, w_2)\n",
    "rmse_2 = rmse(boston_train_MEDV_2, predicted_2)\n",
    "\n",
    "mpe_2 = MPE(boston_train_MEDV_2, predicted_2)\n",
    "\n",
    "print(mpe_2)"
   ]
  },
  {
   "cell_type": "markdown",
   "metadata": {},
   "source": [
    "I would say my model is neither underfitting nor overfitting"
   ]
  },
  {
   "cell_type": "markdown",
   "metadata": {},
   "source": [
    "### d. Make a scatterplot between MEDV and LSTAT including the predicted curved and the metrics (RMSE and MPE)."
   ]
  },
  {
   "cell_type": "code",
   "execution_count": 11,
   "metadata": {},
   "outputs": [
    {
     "data": {
      "image/png": "[encoded data removed]",
      "text/plain": [
       "<Figure size 720x720 with 1 Axes>"
      ]
     },
     "metadata": {
      "needs_background": "light"
     },
     "output_type": "display_data"
    }
   ],
   "source": [
    "x_axis = np.linspace(0, 50, 500)\n",
    "\n",
    "y_axis = predict(x_axis, w_2)\n",
    "\n",
    "plt.plot(x_axis, y_axis, color = 'red')\n",
    "plt.scatter(boston_df.LSTAT, boston_df.MEDV)\n",
    "plt.xlabel(\"LSTAT\")\n",
    "plt.ylabel(\"MEDV\")\n",
    "plt.title(\"MEDV dependient on LSTAT\")\n",
    "plt.text(40,45 , \"RMSE: \" + str(rmse_2), fontsize = 15)\n",
    "plt.text(40,42 , \"MPE: \" + str(mpe_2) + \"%\", fontsize = 15)\n",
    "plt.ylim([0, 50])\n",
    "plt.show()"
   ]
  },
  {
   "cell_type": "code",
   "execution_count": null,
   "metadata": {},
   "outputs": [],
   "source": []
  }
 ],
 "metadata": {
  "kernelspec": {
   "display_name": "Python 3",
   "language": "python",
   "name": "python3"
  },
  "language_info": {
   "codemirror_mode": {
    "name": "ipython",
    "version": 3
   },
   "file_extension": ".py",
   "mimetype": "text/x-python",
   "name": "python",
   "nbconvert_exporter": "python",
   "pygments_lexer": "ipython3",
   "version": "3.8.6"
  }
 },
 "nbformat": 4,
 "nbformat_minor": 4
}
