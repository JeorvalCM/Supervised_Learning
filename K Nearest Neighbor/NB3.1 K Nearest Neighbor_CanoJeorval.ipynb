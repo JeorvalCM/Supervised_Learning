{
 "cells": [
  {
   "cell_type": "markdown",
   "metadata": {},
   "source": [
    "# NB3.1 K Nearest Neighbors\n",
    "\n",
    "K Nearest Neighbors (KNN) is a machine learning algorithm which uses the training dataset directly to make predictions.\n",
    "\n",
    "In order to make prediction for new data points, KNN identifies the *k* most similar instances from tje entire training set and summarizes the output variable for those *k* instances.\n",
    "\n",
    "In classification, the predicted value is deternined by the majority class (mode) of the *k* most similar instances. For regression, it could be the mean of the output varible or a weighted mean where each neighbor contributes based on how close is to the new data point.\n",
    "\n",
    "**NB3.1 K Nearest Neighbors** is divided in two sections:\n",
    "* KNN Classifier. In this section you will implement KNN as classifier and use it to classify flowers from the Iris Dataset. \n",
    "* KNN Regresor. In this section you use the scikit-learn implementation of KNN as regressor to predict the value of Boston houses from the Boston House Pricing Dataset. \n",
    "\n",
    "Additionally, you will learn how to use the scikit-learn implementation of the algorithm.\n",
    "\n",
    "## KNN Classifier\n",
    "\n",
    "### A. Implementation\n",
    "\n",
    "The implementation of the KNN Classifier of this activity will be done by using an Object Oriented Programming style. Consider the following structure:"
   ]
  },
  {
   "cell_type": "code",
   "execution_count": 1,
   "metadata": {},
   "outputs": [],
   "source": [
    "import numpy as np\n",
    "import pandas as pd\n",
    "import matplotlib.pyplot as plt\n",
    "from operator import itemgetter\n",
    "\n",
    "from sklearn import datasets\n",
    "from sklearn.preprocessing import StandardScaler\n",
    "from sklearn.model_selection import train_test_split\n",
    "import sklearn.metrics as metrics\n",
    "from sklearn.neighbors import KNeighborsClassifier, KNeighborsRegressor\n",
    "from sklearn.model_selection import cross_val_score"
   ]
  },
  {
   "cell_type": "code",
   "execution_count": 2,
   "metadata": {},
   "outputs": [],
   "source": [
    "class KNNClassifier:\n",
    "    \"\"\"\n",
    "    Class for the algorithm KNN classifier\n",
    "    \n",
    "    Parameters:\n",
    "    k: number of K-neighbors to use in the algorithm           \n",
    "    distance: type of distance used in the algorithm\n",
    "    \n",
    "    Attributes:\n",
    "    self.k: saves the parameter k\n",
    "    self.distance: sves the parameter distance\n",
    "    self.Xdata: saves the data to use in the algorithm\n",
    "    self.Ydata: saves the target to use in the algorithm\n",
    "    \n",
    "    \"\"\"\n",
    "    def __init__(self, k = 3, distance = 'euclidean'):\n",
    "        \"\"\"\n",
    "        class initializer\n",
    "        \n",
    "        Input:\n",
    "        \n",
    "        k: number of K-neighbors to use in the algorithm           \n",
    "        distance: type of distance used in the algorithm\n",
    "        \n",
    "        Output:\n",
    "        return nothing\n",
    "        \"\"\"\n",
    "        \n",
    "        self.k = k\n",
    "        self.distance = distance\n",
    "        self.Xdata = None\n",
    "        self.Ydata = None\n",
    "    \n",
    "    \n",
    "    def fit(self, XTrain, YTrain):\n",
    "        \"\"\"\n",
    "        function to fit the algorithm, but only saves the XTrain and YTrain in two attributes\n",
    "        to use later on\n",
    "        \n",
    "        Input:\n",
    "        XTrain: data of X\n",
    "        YTrain: target data\n",
    "        \n",
    "        Output:\n",
    "        return nothing\n",
    "        \"\"\"\n",
    "        self.Xdata = np.array(XTrain)\n",
    "        self.Ydata = np.array(YTrain)\n",
    "        \n",
    "    \n",
    "    def predict(self, XTest):\n",
    "        \"\"\"\n",
    "        Function to predict the class of the given values\n",
    "        \n",
    "        Input:\n",
    "        XTest. lists of lists containing the information to predict the class\n",
    "        \n",
    "        Output:\n",
    "        return an array of the class prediction for the given XTest\n",
    "        \"\"\"\n",
    "        #list to save the predictions\n",
    "        prediction = []\n",
    "        #transforming to a numpy array to ease the computing\n",
    "        XTest = np.array(XTest)\n",
    "        \n",
    "        #iterating for each row of XTest\n",
    "        for row_test in XTest:\n",
    "\n",
    "            #getting the closest K-neighbors\n",
    "            Neighbors = self._getNeighbors(row_test)\n",
    "\n",
    "            #getting the unique classes of the data\n",
    "            unicos = np.unique(self.Ydata)\n",
    "\n",
    "            #dictionary to use later on, to compute the average distance\n",
    "            distance_avg = {key:0 for key in unicos}\n",
    "\n",
    "            #counter for the number of classes for each neighbor\n",
    "            counter = [0 for i in unicos]\n",
    "\n",
    "            #iterating in each neighbors\n",
    "            for idx, distance in Neighbors:\n",
    "                \n",
    "                #getting the position of the class of the neihgbor in the unique list\n",
    "                position = list(unicos).index(self.Ydata[idx])\n",
    "                \n",
    "                #saving the distance in its respective key\n",
    "                distance_avg[unicos[position]] += distance\n",
    "\n",
    "                #adding the appearance of the class of that neighbor\n",
    "                counter[position] += 1\n",
    "                \n",
    "                \n",
    "            #auxiliar to check if there are more than one class with the maximum of appearence\n",
    "            #which means the row_test could be classified for both of those classes, so now we check the avg distance\n",
    "            aux = [index for index, value in enumerate(counter) if value == max(counter)]\n",
    "            #case there are more than 1 class\n",
    "            if len(aux) > 1:\n",
    "                #initializing variables\n",
    "                temp = float(\"inf\")\n",
    "                index = \"\"\n",
    "                #going through each index on auxiliar\n",
    "                for idx in aux:\n",
    "                    #checking if the avg distance of those object of one class is less than the avg of the previous class\n",
    "                    if distance_avg[unicos[idx]]/counter[idx] < temp:\n",
    "                        temp = distance_avg[unicos[idx]] / counter[idx]\n",
    "                        \n",
    "                        #saving the index\n",
    "                        index = idx\n",
    "                    else:\n",
    "                        pass\n",
    "                prediction.append(unicos[index])\n",
    "            else:\n",
    "                #adding the class prediction for that row\n",
    "                prediction.append( unicos[counter.index(max(counter))] )\n",
    "                \n",
    "\n",
    "        return prediction\n",
    "            \n",
    "        \n",
    "        \n",
    "        \n",
    "        \n",
    "    def _getNeighbors(self, Xrow):\n",
    "        \"\"\"\n",
    "        Function to get the K closest neighbors to a given point\n",
    "        \n",
    "        Input:\n",
    "        Xrow: list of values, to compute the distance\n",
    "        \n",
    "        Output:\n",
    "        return the K-closest neighbors using the distance of the self.distance\n",
    "        \"\"\"\n",
    "        #declaring variables\n",
    "        values = []\n",
    "        idx = 0\n",
    "        \n",
    "        #getting the distance for each value in XTrain\n",
    "        for XTrain_row in self.Xdata:\n",
    "            values.append([idx, self._distance(XTrain_row, Xrow)])\n",
    "            #index of the Xtrain_row\n",
    "            idx += 1\n",
    "            \n",
    "        #sorting the list according to the distance\n",
    "        if self.distance == \"cosine\":\n",
    "            sorted_list = sorted(values, key=itemgetter(1), reverse = True)\n",
    "        \n",
    "            return sorted_list[0:self.k]\n",
    "            \n",
    "        else:\n",
    "            sorted_list = sorted(values, key=itemgetter(1), reverse = False)\n",
    "            \n",
    "            print(sorted_list)\n",
    "        \n",
    "            return sorted_list[0:self.k]\n",
    "    \n",
    "    \n",
    "    \n",
    "    def _distance(self, Xrow1, Xrow2):\n",
    "        \"\"\"\n",
    "        function to choose the correct distance function\n",
    "        \n",
    "        Input:\n",
    "        Xrow1, Xrow1: lists containing the values to compute the distance\n",
    "        \n",
    "        Output:\n",
    "        return the distance\n",
    "        \"\"\"\n",
    "        if self.distance == \"euclidean\":\n",
    "            return self._EuclideanDistance(Xrow1,Xrow2)\n",
    "        \n",
    "        elif self.distance == \"manhattan\":\n",
    "            return self._ManhattanDistance(Xrow1,Xrow2)\n",
    "        \n",
    "        elif self.distance == \"chebyshev\":\n",
    "            return self._ChebyshevDistance(Xrow1,Xrow2)\n",
    "        \n",
    "        elif self.distance == \"cosine\":\n",
    "            return self._CosineSimilarity(Xrow1,Xrow2)\n",
    "        \n",
    "        elif self.distance == \"hamming\":\n",
    "            return self._HammingDistance(Xrow1,Xrow2)\n",
    "        \n",
    "        else:\n",
    "            raise Exception(\"The distance you wrote is incorrect\")\n",
    "            \n",
    "        \n",
    "    \n",
    "    def _EuclideanDistance(self, Xrow1, Xrow2):       \n",
    "        \"\"\"\n",
    "        Function to compute the Euclidean Distance\n",
    "        \n",
    "        Input:\n",
    "        Xrow1, Xrow1: lists containing the values to compute the distance\n",
    "        \n",
    "        Output:\n",
    "        return the Euclidean distance \n",
    "        \"\"\"\n",
    "        Distance = np.sqrt(sum(np.square(Xrow1 - Xrow2)))\n",
    "        \n",
    "        return Distance\n",
    "    \n",
    "    def _ManhattanDistance(self, Xrow1, Xrow2):       \n",
    "        \"\"\"\n",
    "        Function to compute the Manhattan Distance\n",
    "        \n",
    "        Input:\n",
    "        Xrow1, Xrow1: lists containing the values to compute the distance\n",
    "        \n",
    "        Output:\n",
    "        return the Manhattan distance \n",
    "        \"\"\"\n",
    "        Distance = sum(np.abs(Xrow1-Xrow2))\n",
    "        return Distance\n",
    "    \n",
    "    def _ChebyshevDistance(self, Xrow1, Xrow2):      \n",
    "        \"\"\"\n",
    "        Function to compute the Chebyshev Distance\n",
    "        \n",
    "        Input:\n",
    "        Xrow1, Xrow1: lists containing the values to compute the distance\n",
    "        \n",
    "        Output:\n",
    "        return the Chebyshev distance \n",
    "        \"\"\"\n",
    "        Distance = max(np.abs(Xrow1-Xrow2))\n",
    "        return Distance\n",
    "\n",
    "    def _CosineSimilarity(self, Xrow1, Xrow2):     \n",
    "        \"\"\"\n",
    "        Function to compute the Cosine Similarity\n",
    "        \n",
    "        Input:\n",
    "        Xrow1, Xrow1: lists containing the values to compute the Cosine similarity\n",
    "        \n",
    "        Output:\n",
    "        return the Cosine Similarity \n",
    "        \"\"\"\n",
    "        Numerator = sum(Xrow1 * Xrow2)\n",
    "        DenominadorA = np.sqrt(sum(Xrow1 * Xrow1))\n",
    "        DenominadorB = np.sqrt(sum(Xrow2 * Xrow2))\n",
    "        return Numerator/(DenominadorA * DenominadorB)\n",
    "\n",
    "    def _HammingDistance(self, Xrow1, Xrow2):      \n",
    "        \"\"\"\n",
    "        Function to compute the Hamming Distance\n",
    "        \n",
    "        Input:\n",
    "        Xrow1, Xrow1: lists containing the values to compute the distance\n",
    "        \n",
    "        Output:\n",
    "        return the Hamming distance \n",
    "        \"\"\"\n",
    "        suma = 0\n",
    "        for value1, value2 in zip(Xrow1, Xrow2):\n",
    "            if len(str(value1)) != len(str(value2)):\n",
    "                raise Exception(\"The strings has not the same lenghts\")\n",
    "            else:\n",
    "                if str(value1) == str(value2):\n",
    "                    suma+=1\n",
    "                    \n",
    "        return suma\n",
    "            \n",
    "\n",
    "        "
   ]
  },
  {
   "cell_type": "markdown",
   "metadata": {},
   "source": [
    "Complete the following task by implementing the functions. You can create \"private\" methods and attributes.\n",
    "\n",
    "**T1.** Complete the function `KNNClassifier.fit(self, XTrain, YTrain)`. The function should `XTrain` and `YTrain` into `self.XData` and `self.YData`, respectively. The function should not return any value.\n",
    "\n",
    "**T2.** Complete the following functions which compute the distance metrics between two instances (`Xrow1`, `Xrow2`) by different approaches:\n",
    "* `_EuclideanDistance(self, Xrow1, Xrow2` which computes the euclidean distance between Xrow1 and Xrow2.\n",
    "* `_ManhattanDistance(self, Xrow1, Xrow2)` which computes the manhattan distance between Xrow1 and Xrow2.\n",
    "* `_ChebyshevDistance(self, Xrow1, Xrow2)` which computes the chebishev distance between Xrow1 and Xrow2.\n",
    "* `_CosineSimilarity(self, Xrow1, Xrow2)` which computes the cosine similarity between Xrow1 and Xrow2.\n",
    "* `_HammingDistance(self, Xrow1, Xrow2)`which computes the hamming distance between Xrow1 and Xrow2.\n",
    "\n",
    "**T3.** Complete the function `_getNeighbors(self, Xrow)` which should return the index of the `self.k` nearest neighbors to `Xrow`given the `self.distance` metric. Select the appropiate distance metric function to be used given the `self.distance`. Consider the following values: 'euclidean', 'manhattan', 'chebyshev', 'cosine', 'hamming'.\n",
    "\n",
    "**T4.** Complete the function `predict(self, XTest)` which should return the predicted values for all instances in `XTest` according to `self.k` and `self.distance`.\n",
    "\n",
    "### B. Iris Data\n",
    "\n",
    "The Iris Dataset is one of the most known in the literature. This dataset has 50 instances of three different types of the plant Iris: Iris Versicolor, Iris Setosa and Iris Virginica (Fig. 1).\n",
    "\n",
    "![IrisPlanta](./Images/Iris1.png)\n",
    "*Figure 1. There are three types of the plant Iris: Versicolor, Setosa y Virginica. Image retrieved from [[1](https://www.datacamp.com/community/tutorials/machine-learning-in-r)]*\n",
    "\n",
    "The attributes in the dataset are the length and width of the petal and sepal (Fig. 2).\n",
    "\n",
    "![IrisPlanta](./Images/Iris2.png)\n",
    "*Figura 2. Attributes in the Iris Dataset. Image R'retrieved from [[2](https://bishwamittra.github.io/imli.html)]*\n",
    "\n",
    "The common goal is to predict the type of plant based on the features. One of the classes is linearly separable but the rest are not [[3](https://archive.ics.uci.edu/ml/datasets/iris)]."
   ]
  },
  {
   "cell_type": "code",
   "execution_count": 3,
   "metadata": {},
   "outputs": [],
   "source": [
    "iris = datasets.load_iris()\n",
    "irisDF = pd.DataFrame(iris.data, columns=iris.feature_names)\n",
    "irisDF[\"target\"] = iris.target"
   ]
  },
  {
   "cell_type": "code",
   "execution_count": 4,
   "metadata": {},
   "outputs": [
    {
     "data": {
      "text/html": [
       "<div>\n",
       "<style scoped>\n",
       "    .dataframe tbody tr th:only-of-type {\n",
       "        vertical-align: middle;\n",
       "    }\n",
       "\n",
       "    .dataframe tbody tr th {\n",
       "        vertical-align: top;\n",
       "    }\n",
       "\n",
       "    .dataframe thead th {\n",
       "        text-align: right;\n",
       "    }\n",
       "</style>\n",
       "<table border=\"1\" class=\"dataframe\">\n",
       "  <thead>\n",
       "    <tr style=\"text-align: right;\">\n",
       "      <th></th>\n",
       "      <th>sepal length (cm)</th>\n",
       "      <th>sepal width (cm)</th>\n",
       "      <th>petal length (cm)</th>\n",
       "      <th>petal width (cm)</th>\n",
       "      <th>target</th>\n",
       "    </tr>\n",
       "  </thead>\n",
       "  <tbody>\n",
       "    <tr>\n",
       "      <th>0</th>\n",
       "      <td>5.1</td>\n",
       "      <td>3.5</td>\n",
       "      <td>1.4</td>\n",
       "      <td>0.2</td>\n",
       "      <td>0</td>\n",
       "    </tr>\n",
       "    <tr>\n",
       "      <th>1</th>\n",
       "      <td>4.9</td>\n",
       "      <td>3.0</td>\n",
       "      <td>1.4</td>\n",
       "      <td>0.2</td>\n",
       "      <td>0</td>\n",
       "    </tr>\n",
       "    <tr>\n",
       "      <th>2</th>\n",
       "      <td>4.7</td>\n",
       "      <td>3.2</td>\n",
       "      <td>1.3</td>\n",
       "      <td>0.2</td>\n",
       "      <td>0</td>\n",
       "    </tr>\n",
       "    <tr>\n",
       "      <th>3</th>\n",
       "      <td>4.6</td>\n",
       "      <td>3.1</td>\n",
       "      <td>1.5</td>\n",
       "      <td>0.2</td>\n",
       "      <td>0</td>\n",
       "    </tr>\n",
       "    <tr>\n",
       "      <th>4</th>\n",
       "      <td>5.0</td>\n",
       "      <td>3.6</td>\n",
       "      <td>1.4</td>\n",
       "      <td>0.2</td>\n",
       "      <td>0</td>\n",
       "    </tr>\n",
       "  </tbody>\n",
       "</table>\n",
       "</div>"
      ],
      "text/plain": [
       "   sepal length (cm)  sepal width (cm)  petal length (cm)  petal width (cm)  \\\n",
       "0                5.1               3.5                1.4               0.2   \n",
       "1                4.9               3.0                1.4               0.2   \n",
       "2                4.7               3.2                1.3               0.2   \n",
       "3                4.6               3.1                1.5               0.2   \n",
       "4                5.0               3.6                1.4               0.2   \n",
       "\n",
       "   target  \n",
       "0       0  \n",
       "1       0  \n",
       "2       0  \n",
       "3       0  \n",
       "4       0  "
      ]
     },
     "execution_count": 4,
     "metadata": {},
     "output_type": "execute_result"
    }
   ],
   "source": [
    "irisDF.head()"
   ]
  },
  {
   "cell_type": "markdown",
   "metadata": {},
   "source": [
    "**T5.** In order to validate the implementation in *Part A*, some preprocessing steps are needed to improve the performance of the KNN Model. Complete the following.\n",
    "* Use the StandardScaler (`sklearn.preprocessing.StandardScaler`) to standardize the features.\n",
    "* Perform a stratified split of data (70% Train and 30% Test) into a Train and Test set. You can use `sklearn.model_selection.train_test_split`. Do not forget to set correctly the parameter `stratify`. You should split the data in a stratified way, using the target variable."
   ]
  },
  {
   "cell_type": "code",
   "execution_count": 5,
   "metadata": {},
   "outputs": [],
   "source": [
    "scaler = StandardScaler()\n",
    "irisDF[iris.feature_names] = scaler.fit_transform(irisDF[iris.feature_names])"
   ]
  },
  {
   "cell_type": "code",
   "execution_count": 6,
   "metadata": {},
   "outputs": [],
   "source": [
    "iris_data = irisDF[iris.feature_names]\n",
    "iris_target = irisDF[\"target\"]"
   ]
  },
  {
   "cell_type": "code",
   "execution_count": 7,
   "metadata": {},
   "outputs": [],
   "source": [
    "data_train, data_test, target_train, target_test = train_test_split(iris_data,iris_target, train_size = .7, stratify = iris_target, \n",
    "                                                                    random_state = 1)"
   ]
  },
  {
   "cell_type": "markdown",
   "metadata": {},
   "source": [
    "**T6.** Complete the following:\n",
    "* Create a `KNNClassifier` with `k = 5` and `distance = 'euclidean`.\n",
    "* Fit the model with the trainning set.\n",
    "* Predict the values of the test set.\n",
    "* Create a new dataframe with the following columns: *y_real* and *y_predicted* for the test set."
   ]
  },
  {
   "cell_type": "code",
   "execution_count": 8,
   "metadata": {},
   "outputs": [],
   "source": [
    "KNN = KNNClassifier(k = 5, distance = \"euclidean\")"
   ]
  },
  {
   "cell_type": "code",
   "execution_count": 9,
   "metadata": {},
   "outputs": [],
   "source": [
    "KNN.fit(data_train,target_train)"
   ]
  },
  {
   "cell_type": "code",
   "execution_count": 10,
   "metadata": {},
   "outputs": [
    {
     "name": "stdout",
     "output_type": "stream",
     "text": [
      "[[25, 0.21196852870537594], [85, 0.5032674073707344], [2, 0.5233730115255355], [3, 0.720010025999465], [84, 0.7274027808492006], [90, 0.9062361910894482], [5, 0.9349894575840679], [69, 0.9452886491934723], [38, 0.985924877310077], [28, 1.0242063347281316], [61, 1.0813977609432348], [95, 1.1080668356303602], [73, 1.1249995898186842], [48, 1.1901218367082016], [34, 1.2066685462487317], [22, 1.2811279410239746], [88, 1.336242194979947], [99, 1.3749004252232508], [57, 1.3812059140992123], [74, 1.4130235166828737], [35, 1.431298904674332], [49, 1.4529901883687182], [29, 1.4795160553788613], [62, 1.493184863849189], [59, 1.5446709426309315], [20, 1.5675246068605713], [75, 1.5725048863100353], [36, 1.598156670964039], [71, 1.6595452317990689], [26, 1.7032994985497973], [42, 1.7493844568851449], [40, 1.767811298586101], [15, 1.771369640359276], [66, 1.771369640359276], [72, 1.7770972357455712], [8, 1.79352350321964], [93, 1.8569751314649534], [9, 1.870594819176456], [79, 1.8797240815892464], [68, 1.9118171587863892], [92, 1.9433610088790727], [83, 1.9722320605935748], [13, 2.043821548608571], [6, 2.063965093525703], [23, 2.0661738307326583], [70, 2.0759371057936544], [78, 2.1112424122138274], [30, 2.133859810634821], [67, 2.152367589332309], [33, 2.153099324305764], [32, 2.171290185795319], [27, 2.1960165047158466], [45, 2.3444847347293782], [80, 2.3600506527760667], [18, 2.3779981635395946], [37, 2.4316513628351655], [11, 2.4889863048429195], [52, 2.5111083579707363], [101, 2.521120630570885], [65, 2.5554679492777614], [14, 2.716158220129741], [21, 2.724266526955828], [51, 2.802304944810033], [91, 2.835970326937239], [96, 2.9124372699606473], [81, 2.974892253061157], [24, 3.056232147726398], [56, 3.1433003374735695], [77, 3.444702301163515], [76, 3.4796931350330844], [50, 3.5451724877113455], [43, 3.582839849513746], [10, 3.5887226914658714], [1, 3.606021619230677], [102, 3.6102698751846893], [31, 3.6636093522573114], [97, 3.7207622234916995], [89, 3.732167235914637], [54, 3.7378258159045714], [55, 3.751793827261534], [82, 3.7710648268249267], [41, 3.7786472878315047], [53, 3.7856678513132467], [86, 3.8037772792343136], [16, 3.8047574279446836], [58, 3.8116164855381416], [39, 3.863985239496057], [64, 3.8700334108968235], [87, 3.8905179931527774], [7, 3.9347652025818394], [46, 3.938643849977663], [63, 3.957344063227324], [4, 3.9580211120133786], [19, 3.9776107414864628], [98, 3.978071707104144], [12, 4.072715810740079], [17, 4.073669408295751], [103, 4.097586993950192], [0, 4.113490769183285], [94, 4.167081203090156], [44, 4.226809796140127], [104, 4.247410705948898], [60, 4.321618252386548], [47, 4.528508660469391], [100, 4.797512484233559]]\n",
      "[[43, 0.445025166748152], [50, 0.44994717310770915], [86, 0.46408450844674437], [39, 0.507606193331884], [54, 0.5423949713451728], [82, 0.5557643005522939], [31, 0.597510713399378], [7, 0.6617910936690303], [94, 0.6629887449701594], [0, 0.7681010215061994], [87, 0.9001133104540827], [97, 0.9917290402612728], [55, 0.9943870124871823], [89, 1.0131066895495855], [58, 1.0732055655335468], [76, 1.156583655552457], [1, 1.1807082229164794], [41, 1.217322043198685], [53, 1.2406162805258818], [102, 1.25016027702139], [44, 1.2822414091425025], [16, 1.3912344812639632], [77, 1.4342669732115592], [64, 1.4969799110031279], [4, 1.7267060864735113], [19, 1.8407815237088516], [12, 1.8538969805521204], [46, 1.959761898137894], [63, 1.9981174638156056], [104, 2.0458979223608864], [103, 2.10077394254574], [98, 2.2061676315497922], [60, 2.425158952932901], [47, 2.518125429370787], [61, 2.6231855577078353], [92, 2.748155336384279], [68, 2.759567877394203], [67, 2.815577973802989], [22, 2.9485555353779622], [36, 2.9622466168065777], [83, 2.9755231083992304], [72, 2.9868900382660706], [75, 3.0759036924278096], [69, 3.076390816699199], [30, 3.1318118049976618], [93, 3.134642534987946], [52, 3.2171544867907134], [71, 3.2337087183632494], [23, 3.2373118086368855], [18, 3.246233898103458], [26, 3.264751612390328], [51, 3.2799376428897253], [49, 3.2979704755584405], [11, 3.3144573970921796], [13, 3.3388069000531697], [34, 3.364725289893296], [9, 3.396107685215514], [101, 3.46528072318991], [59, 3.4784138569449263], [65, 3.5261940272375374], [84, 3.5416362319057972], [91, 3.585729754225075], [38, 3.594508430023475], [99, 3.6358918241207223], [42, 3.6649817816875467], [14, 3.676037285363381], [20, 3.7218388739257406], [56, 3.722032517463387], [48, 3.758941996523172], [24, 3.769778202137737], [25, 3.789244045673049], [79, 3.793246827586993], [2, 3.808737307470035], [3, 3.816432936522576], [88, 3.846810011086161], [100, 3.8501701139985354], [10, 3.9052870489135283], [15, 3.9368233419428016], [66, 3.9368233419428016], [40, 3.9400477718206486], [73, 4.015572741857056], [27, 4.039936551120798], [85, 4.087942825750214], [62, 4.089336440519843], [8, 4.120029327639418], [45, 4.120674424270857], [95, 4.121388910396157], [28, 4.136802132800396], [29, 4.160772276614088], [90, 4.174660383639145], [5, 4.209155186395601], [35, 4.219136666517556], [74, 4.290403282756659], [96, 4.302710080983594], [33, 4.35797557176357], [57, 4.373697086106855], [80, 4.5608006971737565], [17, 4.586387286379121], [81, 4.632211852472779], [32, 4.637863300208602], [78, 4.736806376728679], [6, 4.915493950274948], [70, 4.956624069016471], [37, 5.166275637530768], [21, 5.631368338706161]]\n",
      "[[16, 0.3959999630131461], [12, 0.4971935062435908], [19, 0.5068459943072187], [102, 0.5149324708923145], [44, 0.5300727556622152], [58, 0.539562312934928], [104, 0.5396724387388552], [64, 0.5524708393956785], [53, 0.6225743696422391], [89, 0.6480986590729644], [87, 0.6813190750084571], [4, 0.6907370370575298], [103, 0.7053172944162333], [77, 0.7200100259994648], [41, 0.7388278106186971], [63, 0.7522569882749585], [55, 0.7759430249945639], [46, 0.7934780156080452], [31, 0.9297923459024995], [98, 0.9521425473354314], [60, 0.9628774353393055], [76, 0.9798894356107541], [1, 0.9929890486842419], [47, 1.0384441536419888], [82, 1.1031198821375947], [86, 1.1036850243295875], [39, 1.1158580304702364], [97, 1.1237268152406708], [43, 1.1458531752481458], [54, 1.1987903347896178], [50, 1.6289270238989302], [94, 1.7881876666798255], [7, 2.0129746284038856], [0, 2.1442798762141266], [67, 2.4676286017745883], [68, 2.530562539156376], [100, 2.5356988860340843], [92, 2.561352179510948], [11, 2.6908559161758077], [83, 2.714157982713719], [72, 2.7179166777069326], [51, 2.7279199566902177], [30, 2.787807830157087], [52, 2.8133163792009013], [18, 2.8518840771294784], [36, 2.890821221644035], [23, 2.9191346143434522], [10, 2.943126859906024], [91, 2.981339994068387], [65, 2.981868966128959], [61, 2.985025329812882], [56, 3.007694201990381], [101, 3.015436320887882], [14, 3.0656100623507148], [24, 3.0753801500652846], [93, 3.0875256749512796], [75, 3.0912483728716227], [71, 3.1308088732781276], [13, 3.1831632538151626], [26, 3.200423958622552], [69, 3.2134395499052664], [22, 3.250909747724027], [34, 3.3702351522703204], [9, 3.498307167424954], [79, 3.5811945510226613], [17, 3.590922792409824], [49, 3.600642087357413], [42, 3.6150097041628144], [20, 3.646806160901382], [15, 3.6836069611314857], [66, 3.6836069611314857], [27, 3.806563785466397], [38, 3.8161252025746335], [40, 3.8334672175235154], [59, 3.8335304813513553], [99, 3.860735037771165], [84, 3.8655007641929977], [45, 3.8713923798645884], [88, 3.8942179521738085], [96, 3.9108824252850938], [48, 3.9340776015131276], [29, 4.010683730692406], [2, 4.100391505663987], [33, 4.142181978889738], [81, 4.146089118819926], [25, 4.193185969927645], [35, 4.239936736948485], [3, 4.256141390469712], [74, 4.3148770220185515], [28, 4.319400266094673], [95, 4.349494513891559], [73, 4.361909743752853], [85, 4.417917504165345], [8, 4.467118664959826], [5, 4.504590410791486], [90, 4.559653876518428], [62, 4.568486083906555], [78, 4.998995408162176], [57, 5.065491311778643], [6, 5.3301545991197585], [70, 5.387382408642091], [80, 5.469909846151063], [37, 5.486227807365053], [32, 5.50331089710016], [21, 5.84837738543343]]\n",
      "[[11, 0.7850720471634747], [14, 0.9415595256345353], [65, 1.0089283149077393], [24, 1.1677317177697983], [91, 1.2080860441109478], [10, 1.2413135900558223], [15, 1.2596753403704586], [66, 1.2596753403704586], [56, 1.279572653815115], [23, 1.301450441930993], [30, 1.3211590147945569], [101, 1.3251952898466006], [72, 1.3270694135420449], [18, 1.396656591256126], [83, 1.4469905145015207], [67, 1.451258853446584], [79, 1.4567316089205664], [51, 1.4712886212789698], [52, 1.5171975937632036], [68, 1.5404821222884049], [81, 1.5503113907055406], [17, 1.5847773684820734], [29, 1.622174823027323], [71, 1.6412303126218857], [27, 1.6474166172382871], [92, 1.6512540075016136], [36, 1.7003857292776159], [45, 1.7316466070169116], [20, 1.733353904571847], [33, 1.7400213819021348], [13, 1.7427480422861736], [26, 1.7694270502643743], [34, 1.7741604329633496], [40, 1.7772397363759982], [96, 1.8357639181542313], [42, 1.881521935646727], [75, 1.8968646677283671], [93, 1.9024202034489575], [69, 2.027585697624239], [88, 2.033142756968087], [35, 2.109125179538522], [74, 2.1457754566665925], [9, 2.3176085714671983], [48, 2.3288716679080586], [38, 2.356142625368178], [22, 2.4431981136680734], [28, 2.4621933384571375], [61, 2.4669904075577165], [99, 2.4824144745742305], [84, 2.5743506310395], [2, 2.594307923710399], [49, 2.597449799213407], [95, 2.619863852914643], [100, 2.6741338491158864], [98, 2.8000084929335967], [59, 2.8109281370266728], [5, 2.8114817426519063], [85, 2.846891326009937], [73, 2.8843064029677943], [25, 2.899957384362307], [77, 2.911686981170428], [63, 2.921945991658046], [46, 2.9518952925417365], [103, 2.9741924439384735], [3, 2.9817233791810307], [60, 2.9830206536064616], [90, 3.025485659620798], [19, 3.0447808627547013], [8, 3.10719141530752], [12, 3.140361561852455], [102, 3.1546837231782403], [47, 3.1659869677682164], [4, 3.16667141207565], [104, 3.189072819573932], [16, 3.223245541498113], [64, 3.226323446809368], [76, 3.239596912263238], [78, 3.247962798287913], [1, 3.3302499520692197], [62, 3.332764518168089], [53, 3.340207663193812], [41, 3.380451978121509], [89, 3.4436004208791644], [58, 3.466678520627438], [55, 3.498173233292018], [97, 3.6102910880764734], [87, 3.6646451945038754], [31, 3.6776457374120137], [37, 3.7022739937470566], [6, 3.7053432578838725], [21, 3.74805863650062], [43, 3.7584852661432033], [70, 3.779677099956881], [44, 3.794723679286433], [82, 3.8303487821002604], [54, 3.8475585334062945], [86, 3.9137797347591197], [39, 3.9534234083525392], [50, 3.9779182724756508], [57, 4.014272950111375], [7, 4.530858314797563], [94, 4.587033894234829], [32, 4.7394676311989326], [0, 4.779737947993869], [80, 4.846755821483357]]\n",
      "[[9, 0.28851266095201145], [49, 0.3377479442546704], [59, 0.5321792799814731], [99, 0.5356516515711508], [22, 0.5396724387388561], [93, 0.5553868214863616], [75, 0.6164116263414191], [26, 0.6701539448332802], [42, 0.7209148867829214], [71, 0.775943024994563], [13, 0.8230346840368054], [48, 0.8263194471641591], [36, 0.8658233035084554], [20, 0.8807888797302458], [38, 0.8830851252519021], [34, 0.9259913079666021], [88, 0.9630934242523287], [40, 0.9833842965619477], [84, 1.0043461401821023], [8, 1.109515334191431], [79, 1.110430885800626], [69, 1.1226235317217848], [92, 1.1275832471319291], [83, 1.128030777321885], [73, 1.1649889705800878], [23, 1.1923647130298483], [30, 1.2031531713227646], [61, 1.2037138122493605], [68, 1.2306773552029853], [45, 1.2469915856749427], [18, 1.251643398482143], [35, 1.2589298579908341], [95, 1.2747245970537835], [27, 1.2961794420396289], [52, 1.3125729277589913], [67, 1.321073209252276], [28, 1.3254389251464345], [62, 1.3582122259689957], [74, 1.3582377797927572], [3, 1.373526305642139], [101, 1.3814740741150597], [2, 1.391347671960512], [33, 1.416464685549455], [15, 1.4170429429207494], [66, 1.4170429429207494], [72, 1.4610665735172765], [5, 1.5051798577785584], [90, 1.5495287510739706], [78, 1.5869392835455345], [51, 1.6049813550936585], [65, 1.641230312621886], [96, 1.6571055838396778], [91, 1.740584579274071], [29, 1.744300817427857], [14, 1.780522028389375], [25, 1.7826603419676292], [11, 1.8534511707827408], [85, 1.8795283807934793], [6, 1.9699615497274914], [24, 1.9890653267870821], [81, 2.013345365757542], [70, 2.0281967569152854], [56, 2.0296961615202216], [37, 2.078736682640933], [57, 2.3380296651432104], [21, 2.4590397688687697], [10, 2.65012496091491], [76, 2.722417072382696], [77, 2.7456886026662795], [80, 2.790800063348778], [1, 2.795018585700731], [32, 2.825904485622666], [97, 2.9497186711461736], [102, 2.97855027255288], [50, 3.005363453730546], [41, 3.021256222376034], [53, 3.0599277770009783], [55, 3.0682739495061315], [46, 3.0834924215093253], [17, 3.0978154715106445], [89, 3.1035705758647025], [64, 3.104505511759531], [98, 3.124239134482476], [4, 3.1262729984339748], [63, 3.136502073311144], [54, 3.15002100165575], [16, 3.181014794246777], [58, 3.206920896440104], [82, 3.2077521150438875], [31, 3.21705716214719], [43, 3.23210899309711], [19, 3.246511676261668], [87, 3.3269654874728762], [12, 3.3334119671108042], [103, 3.337302649955011], [86, 3.39237125374322], [39, 3.4238233528136486], [7, 3.470129454732244], [60, 3.5644798267796736], [104, 3.594089403493325], [44, 3.742975233043188], [47, 3.7699959851255476], [100, 3.7778592665528006], [0, 3.848331554354075], [94, 3.8645276221750415]]\n",
      "[[93, 0.3110412221992773], [13, 0.4190718240956263], [18, 0.4535228237760229], [71, 0.46662903814690926], [26, 0.478133605749244], [30, 0.4879927646428274], [83, 0.5484696608146759], [23, 0.561844082196805], [52, 0.5867701485369405], [75, 0.5878664714529295], [36, 0.5940697907249022], [101, 0.6011855887955331], [67, 0.6868185797302818], [92, 0.6907370370575299], [42, 0.7203640773614417], [9, 0.7323452897547065], [68, 0.763042606004506], [79, 0.7839037928026428], [20, 0.8090791120996328], [51, 0.8267855011746655], [40, 0.8980884711341764], [65, 0.8997314199792702], [34, 0.9308980687592396], [45, 0.9309240789612625], [91, 0.957337402550417], [14, 1.0027235224956181], [27, 1.0277623605938955], [72, 1.0399200202739136], [22, 1.0630400508935571], [15, 1.0953484566114697], [66, 1.0953484566114697], [49, 1.1104308858006275], [11, 1.1237268152406694], [99, 1.1579220731374038], [88, 1.171281005635274], [96, 1.19798926572002], [24, 1.2077327606280976], [33, 1.2175647957164506], [69, 1.243584652226975], [56, 1.2495623418982906], [48, 1.2676377225536688], [59, 1.3219375213907978], [38, 1.330070141693962], [35, 1.4380789800305416], [61, 1.469369630421466], [81, 1.5214134656501737], [84, 1.5240306736967637], [74, 1.5370851296539467], [29, 1.6185164210452818], [28, 1.7020687415779694], [95, 1.7141749930578347], [73, 1.7772584036125123], [8, 1.7863552973097019], [2, 1.8051704136391464], [10, 1.8481020592346498], [3, 1.9737897130381743], [5, 1.9821784885726352], [62, 2.0855938840278467], [90, 2.1133293662462243], [78, 2.128290378231327], [25, 2.2113261976377965], [85, 2.273934966084708], [17, 2.324775448002045], [77, 2.368710610403028], [76, 2.459595211654098], [1, 2.5362497009186447], [98, 2.570929415824069], [46, 2.589730105472107], [6, 2.609229286519637], [63, 2.62972416387632], [102, 2.635980547535799], [37, 2.6386657911903617], [70, 2.6697969921147537], [4, 2.6932519869345515], [41, 2.7161108079992795], [64, 2.7169151571753503], [53, 2.737052096152633], [97, 2.752576401088061], [19, 2.771784202061645], [103, 2.8099672414895482], [55, 2.8109393339009605], [16, 2.812485998563165], [89, 2.8251050989025317], [12, 2.8595547042882155], [21, 2.9017259033838223], [58, 2.9087367813936615], [60, 2.9843860684327703], [50, 2.995929840278167], [57, 3.0145671869286903], [54, 3.0211363237448268], [100, 3.028365824415789], [31, 3.0303378859838883], [82, 3.057366428655248], [87, 3.073802119188992], [104, 3.0890851104828534], [43, 3.097637397419335], [47, 3.190729542920865], [86, 3.2432979793463006], [39, 3.2748366816963173], [44, 3.4203482009898845], [7, 3.5202346088702416], [80, 3.572911869255588], [32, 3.579954929786853], [94, 3.8286770322172563], [0, 3.8980856500886873]]\n",
      "[[33, 0.6774843433385122], [45, 0.807786898671801], [40, 0.8417473439104141], [35, 0.8819949524096178], [27, 0.9336404749408244], [74, 0.9482638449626213], [42, 1.0129456329379942], [88, 1.0467460230510717], [79, 1.0765525918051189], [20, 1.0802803299494048], [78, 1.1147723620329544], [48, 1.18851370589206], [96, 1.2301305198207366], [99, 1.2445249576130124], [81, 1.2486035379893707], [15, 1.2557058881722243], [66, 1.2557058881722243], [28, 1.2886903826235445], [9, 1.3269880469030875], [8, 1.3270694135420449], [95, 1.3690278777139897], [13, 1.4213082977737692], [26, 1.429863803609078], [38, 1.4383564079837245], [73, 1.4744550286139728], [71, 1.5063686231324165], [37, 1.5086610992079774], [21, 1.5314115375639683], [34, 1.5385753404623999], [93, 1.5410797790649746], [59, 1.5440206225259354], [29, 1.5646712598837924], [49, 1.5666820977468106], [5, 1.5951034340517507], [75, 1.6111259413504964], [6, 1.6960756188052943], [84, 1.6979004415707946], [101, 1.7066509144908941], [23, 1.710031980889007], [62, 1.7252536919797712], [90, 1.7457448132682107], [18, 1.7863810461803242], [2, 1.8007248568372336], [36, 1.8020374805976938], [70, 1.8042115449948544], [30, 1.8198539906932871], [65, 1.8504319375547824], [22, 1.8521793933390538], [52, 1.8557259047159549], [3, 1.884295374167093], [83, 1.89108332274773], [14, 1.8957883767814883], [91, 1.9472320266768417], [69, 1.9644877447821458], [92, 2.0600263216011174], [24, 2.0756614277816805], [51, 2.083030659191884], [68, 2.1137720018871784], [85, 2.1185486209405258], [72, 2.123172091202979], [67, 2.1496658506241677], [56, 2.1681157854046322], [11, 2.2268306200836014], [25, 2.2724075810440527], [61, 2.372108154530193], [10, 2.7537153270823076], [57, 2.7671279367602266], [17, 2.8957939050110997], [32, 3.3109622297612997], [80, 3.354872134466782], [77, 3.938099249194985], [76, 4.017799643301897], [1, 4.079168181098722], [98, 4.096053866286589], [46, 4.1319991861904395], [63, 4.164378286847312], [102, 4.198799876121182], [100, 4.214049463872994], [4, 4.255699501663553], [41, 4.276161988054056], [64, 4.280694775235655], [97, 4.288435825272613], [53, 4.296468280599997], [19, 4.313178426844718], [103, 4.334878389936313], [16, 4.352196169398835], [55, 4.360198266278884], [89, 4.382964187429834], [12, 4.409837507257861], [50, 4.444390792857561], [58, 4.470165936220674], [60, 4.479824419160677], [54, 4.529982407860221], [31, 4.556141184718033], [82, 4.573526565121823], [43, 4.585148257012643], [104, 4.61958873225862], [87, 4.6200442830018735], [47, 4.68242109314537], [86, 4.7524383427112795], [39, 4.7799807821894955], [7, 4.937968354571726], [44, 4.9764688150187375], [94, 5.277276471995935], [0, 5.302676882271604]]\n",
      "[[81, 0.37348217998370065], [96, 0.3744473592991263], [45, 0.7370783561887008], [33, 0.921732852892768], [27, 1.1272742207560467], [101, 1.1486778831787001], [14, 1.1603389179658619], [24, 1.1691406528791761], [91, 1.1827868468816876], [79, 1.231712293794542], [40, 1.2438153439181259], [56, 1.2535112884040795], [65, 1.3139343926799052], [18, 1.353481165050734], [15, 1.3975694929892901], [66, 1.3975694929892901], [51, 1.403964119261263], [42, 1.4278092475591204], [52, 1.4298719919071357], [13, 1.4461005344524185], [20, 1.4466089894669245], [23, 1.531015771151343], [30, 1.5478039866484026], [26, 1.6252592610911276], [71, 1.6294979656054664], [93, 1.6366939569625518], [9, 1.7041074129023817], [11, 1.71071734841211], [35, 1.72657153605627], [83, 1.7498459632049812], [10, 1.7508613203412415], [17, 1.7556609354701396], [88, 1.7770907725199034], [74, 1.79061461078401], [75, 1.851117082846752], [67, 1.859046685567249], [36, 1.8848354277957804], [34, 1.9066042098988916], [29, 1.9137276783954864], [99, 1.9769944492725273], [92, 1.985813264783226], [48, 2.0006305879086996], [68, 2.0102066549679156], [72, 2.081110534671907], [49, 2.1615267613332585], [38, 2.1977155993138897], [28, 2.2177709644348584], [95, 2.241798564383595], [59, 2.250182998115074], [78, 2.264079635182784], [22, 2.3146882578233274], [8, 2.328699406289895], [69, 2.369853944950446], [73, 2.4283901511626533], [84, 2.4455395202498895], [5, 2.540404538586003], [2, 2.5833047310400032], [21, 2.668504220376484], [37, 2.6847283265453186], [90, 2.75130901806065], [62, 2.765867790935401], [61, 2.776093120820606], [3, 2.8049709751469676], [6, 2.883993730396098], [70, 2.9378058887818286], [85, 2.98095663986005], [25, 3.072409523020012], [100, 3.1779090217419026], [98, 3.44508282885022], [77, 3.528986606653338], [46, 3.5509359556539213], [63, 3.579797717010889], [76, 3.684328949266882], [4, 3.722833397928854], [103, 3.7264527311075253], [1, 3.7458296998381084], [19, 3.774591381785163], [60, 3.792696154889459], [57, 3.7965804014166613], [102, 3.8155226299738505], [64, 3.8155978518817752], [12, 3.85210596121264], [41, 3.8899327655328455], [53, 3.9042069041949024], [16, 3.952255692495641], [47, 3.977690313399058], [97, 3.988871704032127], [55, 4.032279829237642], [104, 4.0363602374375676], [89, 4.041222539173438], [58, 4.107636630880094], [87, 4.305006191282443], [54, 4.3241429192900975], [31, 4.324739144094635], [82, 4.35290708429667], [50, 4.3543566247291094], [32, 4.391074608458164], [80, 4.405446921751521], [43, 4.429722936883391], [86, 4.554623748036965], [39, 4.581176070826878], [44, 4.585877626105315], [7, 4.883658507170608], [94, 5.186645959895931], [0, 5.286624039243361]]\n",
      "[[40, 0.2893036023616576], [35, 0.3890669824638338], [20, 0.4580464189384638], [74, 0.4878609192676659], [33, 0.5056859652937129], [88, 0.5225373933376146], [42, 0.5981861645616651], [79, 0.6354303306480972], [48, 0.7223888273810457], [15, 0.7358406581558391], [66, 0.7358406581558391], [45, 0.7453618304144101], [27, 0.8045965840443953], [99, 0.8410900081808492], [28, 0.8534062505715501], [34, 0.8999504238590299], [38, 0.937068739991191], [95, 0.943139883775899], [26, 0.9452886491934728], [71, 0.9648070891987174], [29, 1.013719795563374], [9, 1.0260390478837706], [13, 1.0725892705463094], [75, 1.09568234290317], [93, 1.1034089340712958], [73, 1.1346491795676517], [84, 1.1703394537739764], [49, 1.1719701178681787], [5, 1.200930443862165], [36, 1.2296659942413262], [59, 1.2425017265414005], [2, 1.265699921369603], [23, 1.26606328748607], [8, 1.2857862795461408], [78, 1.3144989129942521], [96, 1.3221095124047164], [69, 1.3378693732908677], [22, 1.3448969660301886], [30, 1.3643151013504062], [81, 1.366007750374808], [83, 1.395000361327165], [90, 1.3975694929892897], [101, 1.405883335023988], [18, 1.4180058935535251], [3, 1.4699628348496083], [65, 1.533916209026226], [52, 1.548295868095435], [72, 1.5585455761340912], [92, 1.560842778538593], [62, 1.5620533776512402], [68, 1.5828786743645311], [14, 1.6034034324853326], [85, 1.6445086827282787], [67, 1.64589599945179], [91, 1.7010863226866544], [25, 1.753131169604297], [11, 1.7833985681768996], [37, 1.784570973170507], [61, 1.7872152359461508], [6, 1.790624033494135], [51, 1.795149266993703], [70, 1.8552892922692021], [24, 1.8713417194973638], [21, 1.9074665457847007], [56, 1.973986995948021], [57, 2.46219112499676], [10, 2.533996763983938], [17, 2.815015153402717], [32, 3.1116195071575774], [80, 3.181736204934801], [77, 3.4600110529617707], [76, 3.5536061278454585], [1, 3.641281859120428], [98, 3.6857452793021603], [102, 3.714198190857941], [46, 3.718005509692302], [63, 3.7465196149765063], [41, 3.82515192496595], [4, 3.826269575333375], [64, 3.8348867037464993], [53, 3.8405833673035525], [97, 3.841472418697008], [19, 3.8727017351567605], [16, 3.885486119517319], [55, 3.895882127124937], [89, 3.9015246742333747], [103, 3.90858652201271], [12, 3.967878858428134], [100, 3.9689336885300186], [50, 3.9690927068276634], [58, 3.984157171191713], [31, 4.042730348165117], [54, 4.054573302713852], [60, 4.0652032273820256], [43, 4.0652291732225985], [82, 4.092417302336695], [87, 4.134117902816621], [104, 4.168180190329137], [86, 4.24188734330157], [47, 4.273648562047823], [39, 4.280550584323737], [7, 4.463397112388835], [44, 4.475464683421135], [94, 4.7727451664897815], [0, 4.799289544443143]]\n",
      "[[86, 0.46408450844674437], [50, 0.504123346174491], [39, 0.5324546856720855], [54, 0.5423949713451728], [43, 0.5490201983354658], [82, 0.5557643005522939], [31, 0.597510713399378], [7, 0.6003629046700262], [94, 0.6629887449701594], [0, 0.7510893651580973], [87, 0.8856410259644335], [97, 0.9653178749650285], [55, 0.9943870124871823], [89, 1.000270573207493], [58, 1.0488480806683271], [76, 1.156583655552457], [1, 1.202397520470305], [41, 1.206660272020318], [44, 1.230822207873007], [53, 1.2406162805258818], [102, 1.260454149514163], [16, 1.4279037646140242], [77, 1.452174108024239], [64, 1.4883228511185531], [4, 1.7041074129023817], [12, 1.8399038357831972], [19, 1.8477880189061608], [46, 1.959761898137894], [63, 2.0045741053875212], [104, 2.0332266030007684], [103, 2.10077394254574], [98, 2.200302632301463], [60, 2.414478837641792], [47, 2.4975147444815446], [61, 2.767023818785298], [92, 2.872306435967404], [68, 2.8787423355283215], [67, 2.9103611746749385], [22, 3.077222463320815], [36, 3.0777737941545347], [83, 3.090554040592107], [72, 3.1139734173963802], [75, 3.2034896306113603], [69, 3.2120134861150857], [30, 3.237311808636885], [93, 3.24801697596292], [52, 3.319943607396777], [18, 3.340402549999406], [71, 3.351446019075452], [23, 3.3549226652633926], [51, 3.3578072959820786], [26, 3.389042537905654], [11, 3.4067407462244064], [49, 3.4210547336726314], [13, 3.4604389532213116], [34, 3.48915841634649], [9, 3.5120805369358132], [101, 3.5572839512953447], [59, 3.6025070552166545], [65, 3.630911554485817], [84, 3.6706360772239104], [91, 3.671200422910956], [38, 3.735538601717397], [99, 3.758223972063464], [14, 3.762891008654597], [42, 3.789785412443753], [56, 3.797643064629804], [20, 3.83470139403042], [100, 3.8434518361958108], [24, 3.8478095617343273], [48, 3.894021407829771], [79, 3.9139626348840673], [25, 3.926572573360241], [2, 3.9355494888458056], [3, 3.9560846856400613], [10, 3.96439881199491], [88, 3.9821538139038424], [40, 4.050021057590707], [15, 4.053265354986709], [66, 4.053265354986709], [73, 4.1391712083182854], [27, 4.169015360163359], [45, 4.225949814365907], [85, 4.227795413917276], [62, 4.229142943800884], [95, 4.2358083653290475], [8, 4.252755728510124], [28, 4.269007087334087], [29, 4.2711131979977095], [90, 4.308703156319563], [5, 4.333196178268092], [35, 4.342892578334062], [96, 4.388939329698096], [74, 4.4121607025226695], [33, 4.460548077486957], [57, 4.507554510057773], [17, 4.642394558454236], [80, 4.697579833682343], [81, 4.728839679421778], [32, 4.780550294710436], [78, 4.860674450191049], [6, 5.047783866137551], [70, 5.075129911802847], [37, 5.294741645423142], [21, 5.753944941045835]]\n",
      "[[0, 0.5858561572241535], [7, 0.9802617189355262], [94, 0.9999497832036376], [50, 1.3920879452776826], [86, 1.5663736389499745], [43, 1.5773037863477335], [39, 1.5838996072095766], [54, 1.6727163572512067], [82, 1.7031592942560285], [31, 1.767788593243983], [87, 2.0453202404432793], [97, 2.1055145115479856], [55, 2.174530775898873], [89, 2.200302632301464], [58, 2.2454141354701744], [44, 2.306067155121016], [76, 2.330491363434853], [1, 2.348067310619783], [41, 2.3955448359720455], [53, 2.4283539176076703], [102, 2.4539125088838394], [16, 2.5708490846380485], [77, 2.6401979472843977], [64, 2.6839888792868383], [4, 2.906617093190512], [19, 3.0284225722085605], [12, 3.0300222367429566], [46, 3.156633817987132], [104, 3.1928151841718617], [63, 3.196428577652193], [103, 3.286516586303413], [61, 3.291462650995275], [98, 3.4052781734388216], [60, 3.598552134187745], [22, 3.65432004810584], [47, 3.6703382903626474], [92, 3.721573262370118], [68, 3.7400712037087183], [69, 3.8214488388391135], [67, 3.842615348356634], [36, 3.8595951833241005], [75, 3.9316995741134604], [72, 3.9398347126577606], [83, 3.9599738730032006], [49, 3.97846254629584], [93, 4.028164782622846], [59, 4.111031749532125], [71, 4.130257080103521], [30, 4.1416040404340455], [84, 4.146408612922377], [26, 4.147108461440356], [34, 4.175211150851275], [9, 4.19762806269168], [23, 4.2280627338921155], [52, 4.258701378670122], [25, 4.264840711658086], [13, 4.268189607801766], [38, 4.270795166965494], [18, 4.27769155237026], [3, 4.311162724092603], [99, 4.328964744655333], [51, 4.368627813927944], [2, 4.389752945808618], [11, 4.390304981999035], [48, 4.459894733385967], [101, 4.506840186969969], [42, 4.514134527020912], [20, 4.565821686311753], [62, 4.568572867175977], [73, 4.581555782982814], [65, 4.588402765513663], [85, 4.596016297434134], [57, 4.601272828740732], [80, 4.6049662232548725], [88, 4.612805077101914], [91, 4.674832534349426], [90, 4.681496826137439], [79, 4.704063756561994], [32, 4.704203722258587], [8, 4.707206630123159], [95, 4.746779634582017], [14, 4.7550881555044135], [5, 4.773346845696249], [28, 4.786743559329046], [40, 4.793053001933491], [15, 4.8388275636151], [66, 4.8388275636151], [56, 4.841722720176456], [24, 4.8798465655923575], [27, 4.956511588288544], [29, 4.969687574749196], [35, 4.972218139189957], [74, 5.032832139225974], [45, 5.048677982390391], [100, 5.051063263210294], [10, 5.075301663906699], [33, 5.245385087437738], [96, 5.293175498884103], [78, 5.342554104157156], [6, 5.39409394472592], [70, 5.417526288995959], [81, 5.64211720583638], [37, 5.710447946669986], [17, 5.758292183153423], [21, 6.222280620766772]]\n",
      "[[34, 0.1338362653618539], [20, 0.4794521359945754], [88, 0.5196261389856514], [69, 0.5233730115255358], [71, 0.5246936068446574], [38, 0.5490201983354658], [75, 0.5534500419550119], [26, 0.585785826599745], [48, 0.5926248364516308], [36, 0.6107078357042087], [42, 0.6629887449701602], [84, 0.7273917446507924], [40, 0.7318753801535057], [99, 0.7410108142542702], [22, 0.7427841256208066], [79, 0.7575135073040411], [93, 0.7855862486598219], [15, 0.7995616552510243], [66, 0.7995616552510243], [35, 0.811378166771524], [49, 0.8662536077041629], [28, 0.8796640820523803], [74, 0.8829630530779696], [2, 0.9104728267943187], [13, 0.9212259913038032], [83, 0.9377456780903988], [9, 0.9392987321941303], [72, 0.9628250960608011], [23, 0.9652628337016727], [29, 0.9903495355198183], [61, 0.9917290402612728], [95, 0.9953842163767251], [68, 1.0034782895032246], [92, 1.0084511673515366], [30, 1.0424950872006178], [59, 1.071708738252902], [73, 1.1087479186458962], [27, 1.1328616385072703], [5, 1.1677317177697988], [3, 1.1696791475945576], [67, 1.182861362969883], [33, 1.1849252787619313], [45, 1.2407391662550058], [18, 1.2473461010911486], [90, 1.2990720925684558], [25, 1.299477872891066], [85, 1.332499831918507], [101, 1.3658062766782963], [52, 1.3873469064089772], [65, 1.4425407440585005], [8, 1.4517086694253853], [11, 1.5054602820040575], [62, 1.5425083020297812], [14, 1.5962922731059668], [51, 1.6807325652363858], [91, 1.6922999070854292], [96, 1.7802251952750892], [78, 1.782043650073216], [81, 1.8881871490758946], [24, 1.917319372155916], [56, 2.002578436720408], [6, 2.095931220031672], [70, 2.157978203919187], [57, 2.235700204962469], [37, 2.2553166563214426], [10, 2.5117629820756933], [21, 2.516291910898661], [77, 2.860310048595855], [32, 2.9109810503212894], [76, 2.949202958362588], [17, 2.9694514313638907], [80, 2.9907222986451303], [1, 3.0513922915809717], [102, 3.08843553529018], [98, 3.215141608060925], [46, 3.215170097643889], [41, 3.229572250367059], [97, 3.236625173513372], [53, 3.2382378387476587], [63, 3.2385053712944476], [64, 3.262892761811728], [89, 3.2632599183426114], [16, 3.2668351829086775], [55, 3.2686614779342644], [50, 3.291338457380774], [4, 3.2934339867740774], [19, 3.32314509461184], [43, 3.3411229561498086], [58, 3.3446292790106895], [31, 3.3459304495612154], [54, 3.389116137806838], [103, 3.3950747614506556], [82, 3.4214518830403677], [12, 3.4222807294495414], [87, 3.4752286338273755], [86, 3.534486209837297], [39, 3.579565297647951], [60, 3.586842190474503], [104, 3.61626867145566], [7, 3.780139577228531], [47, 3.7985786527232004], [100, 3.8000449174289708], [44, 3.8158002972541887], [94, 4.04265170725795], [0, 4.068446029649132]]\n",
      "[[60, 0.23710977266679076], [47, 0.33774794425467036], [103, 0.5233730115255358], [98, 0.5524708393956774], [63, 0.678078625545725], [104, 0.692925287359035], [46, 0.7630426060045059], [12, 0.7824834370849304], [19, 0.7886518931738665], [4, 1.009146389261072], [64, 1.1731957726388151], [16, 1.2807937197683388], [77, 1.3237324250211528], [102, 1.391234481263963], [100, 1.3938791270841278], [53, 1.4308722030849677], [41, 1.5047888758496366], [58, 1.5674045010448134], [89, 1.6261573920009784], [44, 1.645281589723444], [1, 1.6798819900715722], [55, 1.6883471553961553], [76, 1.6927692351722652], [87, 1.7677885932439825], [97, 1.9202526730411569], [31, 2.045320240443279], [82, 2.140990342970746], [10, 2.170561539675412], [54, 2.2051737011907098], [39, 2.2415524994584066], [86, 2.243255036877169], [43, 2.271938839549541], [51, 2.343435893978003], [11, 2.3802812379264653], [67, 2.4029747255401346], [56, 2.4329210149983753], [24, 2.5229937344020126], [91, 2.5267676188994326], [52, 2.559985482737465], [68, 2.5726929260659195], [92, 2.6076041996750323], [50, 2.6114814654908036], [18, 2.6155931525172837], [65, 2.6255555479517203], [14, 2.627682060395762], [30, 2.643064549443668], [83, 2.666547727254976], [101, 2.6964857580712547], [17, 2.711890788580549], [72, 2.748441030720305], [23, 2.7812343682794496], [94, 2.9310105216864395], [36, 2.969400179237198], [7, 3.049980757539237], [13, 3.089773194984277], [93, 3.093585472657967], [71, 3.1291013708883684], [75, 3.1779090217419017], [26, 3.202514207720706], [0, 3.275955302546617], [61, 3.4035083416383576], [79, 3.4335271428279297], [69, 3.4569433095448248], [34, 3.4614540114672265], [96, 3.4945316091167355], [22, 3.518856114885807], [9, 3.5370207471909825], [15, 3.538307991311876], [66, 3.538307991311876], [42, 3.5642503659906586], [27, 3.593549088669009], [20, 3.6027789643268875], [45, 3.6102005392039773], [81, 3.6701536188257498], [40, 3.7289560332333695], [49, 3.798003677281856], [33, 3.9169065314559495], [88, 3.928662198880376], [29, 3.9672941681069775], [99, 3.9880930454385886], [38, 3.993845566723163], [59, 4.034057221392589], [48, 4.048923131301492], [84, 4.121653461672942], [35, 4.228392133920695], [74, 4.30755780969946], [2, 4.347916418262901], [28, 4.439892663424197], [95, 4.4861607212478365], [25, 4.55079264912896], [73, 4.561999858610065], [3, 4.565378783220248], [8, 4.605837520658874], [5, 4.69717253625308], [85, 4.706341337228036], [90, 4.807963872511296], [62, 4.822735152422055], [78, 5.040848101366813], [6, 5.484278887424499], [57, 5.51444575422376], [37, 5.5434397211793245], [70, 5.551458440856274], [21, 5.820541005629956], [80, 5.997286924541803], [32, 6.023771448647637]]\n",
      "[[10, 0.2601388168339884], [56, 0.7617265857071861], [24, 0.7915989269810788], [17, 0.9356561571194258], [14, 0.9464499470535352], [91, 0.9518488972706365], [11, 1.0012892183602045], [51, 1.0791246258698548], [65, 1.0957643447510674], [101, 1.276236017911068], [18, 1.360784596884136], [52, 1.368532205723137], [30, 1.4663456092848235], [67, 1.4930447058999354], [23, 1.5519693597882707], [100, 1.5585630564131667], [83, 1.63768213927521], [68, 1.7290909974231825], [72, 1.7813107444830667], [92, 1.782768547162297], [81, 1.8317288284152298], [96, 1.864786169457778], [13, 1.9142861858532723], [79, 1.980870482039168], [98, 1.984332146952175], [71, 1.9999026418126076], [36, 2.0175903611277235], [15, 2.028866232861771], [66, 2.028866232861771], [45, 2.0471386218595637], [93, 2.0700134552920777], [27, 2.0766038553313075], [26, 2.085504961730981], [63, 2.157257798925084], [60, 2.162366399859182], [46, 2.17994192964648], [75, 2.201136909624106], [103, 2.2100411064234677], [20, 2.2726282446439994], [42, 2.2815144829088783], [33, 2.2951463129932104], [40, 2.300098952735941], [47, 2.3244886731471253], [19, 2.343643410898022], [34, 2.349453303757206], [77, 2.368785192844005], [12, 2.4189355450985843], [4, 2.43714062579129], [104, 2.4818468689115822], [9, 2.5039285269761917], [29, 2.5455531270113747], [64, 2.5655514713917884], [69, 2.5875377389783276], [102, 2.621282592103898], [88, 2.649571404455715], [16, 2.656283769458212], [76, 2.7086065336203573], [53, 2.7410566464294477], [22, 2.755564183151424], [1, 2.7571783978634867], [41, 2.7760273859791416], [35, 2.820766282270239], [61, 2.857358792272294], [48, 2.887672362079631], [74, 2.8905439200670324], [49, 2.901679680907125], [99, 2.906398532506467], [89, 2.9130423751751535], [58, 2.927073649895192], [38, 2.927865707064178], [55, 2.9495086672510378], [97, 3.0563905967662293], [59, 3.1191954365501666], [87, 3.149676027420068], [84, 3.1510762222416386], [28, 3.1906603944703766], [44, 3.25278882511887], [31, 3.2687279906877795], [95, 3.280090206952774], [2, 3.303820939473698], [82, 3.368370437672935], [54, 3.387927726625762], [43, 3.4207929552710015], [73, 3.4627180741282224], [8, 3.509570561366861], [86, 3.5129160215737514], [5, 3.529648939228007], [39, 3.533753980586299], [50, 3.6058015216627903], [3, 3.6064421598715826], [25, 3.6444050520244717], [85, 3.6638027043524795], [90, 3.7153134026329897], [78, 3.736318778252414], [62, 3.823865731855228], [7, 4.157928869729544], [37, 4.22201585166903], [94, 4.230434200186095], [6, 4.2690938855120875], [21, 4.340203390979167], [70, 4.345002951331515], [0, 4.469073297893896], [57, 4.672100437045126], [32, 5.3034051770932], [80, 5.332620616629585]]\n",
      "[[12, 0.13383626536185467], [19, 0.16614338753163282], [103, 0.23710977266679076], [104, 0.2489118406375169], [63, 0.3530426814139796], [46, 0.4339999075400166], [4, 0.4978236812750359], [60, 0.5233730115255358], [64, 0.5365603381182115], [98, 0.5366710799327514], [16, 0.5928331498399262], [47, 0.6248988318590981], [102, 0.7273917446507917], [53, 0.7630426060045054], [77, 0.7778493409683703], [58, 0.8557914062715444], [41, 0.8605240883242796], [89, 0.928053507832772], [44, 0.9484390906671619], [55, 1.004333089997627], [87, 1.0405552673359537], [1, 1.0865829115394514], [76, 1.1064025517994889], [97, 1.2920368930171489], [31, 1.3282860089065855], [82, 1.430872203084968], [54, 1.5058618973793625], [39, 1.512489053230679], [86, 1.5150111183714772], [43, 1.5571678197831218], [50, 1.9314609250637242], [100, 2.0802581149314183], [94, 2.2003026323014616], [7, 2.3491435154419547], [67, 2.3675324217257834], [68, 2.476232586206728], [51, 2.4935351081823645], [92, 2.500770277337346], [11, 2.5233814748388044], [0, 2.5472080791819107], [10, 2.608117931531915], [83, 2.623484783023402], [52, 2.6273334961312194], [30, 2.660061868590307], [72, 2.680365693544843], [18, 2.6815449217870335], [56, 2.720012876577669], [91, 2.7362839883607264], [65, 2.781550054296418], [23, 2.797392275584725], [24, 2.800868216706994], [101, 2.8175049917832022], [14, 2.840094203873824], [36, 2.8555448726437738], [93, 3.0081279303098296], [75, 3.0526139000984096], [71, 3.0638686623920335], [13, 3.066256819543995], [61, 3.096799684644814], [26, 3.129438676573494], [17, 3.224767172676988], [69, 3.2636435967004296], [22, 3.2847568831786074], [34, 3.355553062822789], [9, 3.4284357787894395], [79, 3.4671329720649395], [42, 3.5272737256695086], [20, 3.5744261275681204], [15, 3.5873359292723075], [66, 3.5873359292723075], [49, 3.601926544254885], [27, 3.661244891287911], [96, 3.679571573883032], [45, 3.7047479157331993], [40, 3.7364201676600937], [38, 3.8309300623125306], [59, 3.8347369323603337], [99, 3.8434193557056324], [88, 3.8541176201654603], [81, 3.910453493790921], [84, 3.9161945905597118], [48, 3.9215071019377405], [29, 3.9712511047762438], [33, 4.004218520763205], [2, 4.16072789359267], [35, 4.190268808945904], [74, 4.2701413251700835], [25, 4.305790654066489], [28, 4.324012753229097], [3, 4.330801278919153], [95, 4.358052801608073], [73, 4.38673368064405], [8, 4.448268473787207], [85, 4.505298160050803], [5, 4.540096114939819], [62, 4.603937541304856], [90, 4.613988467524408], [78, 4.949943042193712], [57, 5.203345585428933], [6, 5.330643640123075], [70, 5.394294292321978], [37, 5.444752579164921], [80, 5.620157548225437], [32, 5.65879811441975], [21, 5.7818847202746415]]\n",
      "[[9, 0.3767839790131851], [99, 0.6288951561854804], [42, 0.6429951714598677], [49, 0.7156494523371665], [59, 0.7156494523371668], [93, 0.8243903276928553], [40, 0.8369557192868121], [26, 0.8806940631449273], [48, 0.8829630530779691], [13, 0.8899098883746185], [20, 0.8976480450929261], [8, 0.9160928378769286], [45, 0.9297923459024987], [88, 0.9507975290412432], [75, 0.9717433641353116], [71, 1.019322226777564], [79, 1.044508926637718], [22, 1.0626178683821703], [27, 1.0668246114664597], [38, 1.071143351225878], [33, 1.1358054641434892], [35, 1.1360821135105197], [34, 1.195332797518201], [73, 1.2070289682670312], [78, 1.2278715869004282], [36, 1.2388708033182163], [74, 1.2452261030648473], [84, 1.2778228681418924], [95, 1.296850544359697], [96, 1.3269589376112083], [28, 1.332695176803984], [23, 1.350141274828028], [62, 1.350991777018681], [18, 1.3609312630312818], [30, 1.397176147062574], [101, 1.398637613399206], [52, 1.3988146792364078], [83, 1.4011050377614407], [15, 1.4083345023076759], [66, 1.4083345023076759], [92, 1.4744653526792038], [69, 1.5212807792276166], [5, 1.5591829161381456], [3, 1.5652922854176283], [68, 1.5816894150701364], [2, 1.6021882470728814], [90, 1.6254931778497759], [67, 1.6277796523123815], [51, 1.6767909952045328], [65, 1.677545096271632], [81, 1.6963297522503695], [61, 1.7162949017239744], [37, 1.7260344832501342], [91, 1.7345564840598238], [6, 1.7456495394781972], [72, 1.7708663498035964], [14, 1.7838701967613064], [29, 1.7972041939556982], [70, 1.8304696131464062], [24, 1.9514201865120706], [56, 1.9992924555890759], [11, 2.0182080210117816], [25, 2.052840937855576], [21, 2.0565293888859575], [85, 2.0624177490496267], [57, 2.503762352987968], [10, 2.6619002149336963], [80, 2.9199853586567204], [32, 2.9603052294166137], [17, 2.995235656406474], [76, 3.16796053878693], [77, 3.174232962733171], [1, 3.222554928027197], [97, 3.395612313156738], [102, 3.4212926629996976], [46, 3.4336702251412534], [41, 3.449015162037474], [98, 3.4519044341147205], [63, 3.4860713739003346], [53, 3.4876578234836555], [50, 3.503799344134859], [4, 3.5052126882803663], [64, 3.5087265378058214], [55, 3.5168366063743863], [89, 3.5595723847376366], [16, 3.6044775306907604], [19, 3.6229235774772786], [54, 3.6308316106002434], [58, 3.6616003925789746], [103, 3.6872665367243354], [82, 3.6889979827239796], [12, 3.711455827700332], [31, 3.7129425651521175], [43, 3.7405348115607384], [87, 3.7918060886264224], [60, 3.888578259258668], [100, 3.891694108732228], [86, 3.8931517611830846], [39, 3.917291196588075], [104, 3.9694996526930737], [7, 3.972482386332688], [47, 4.0913089191119045], [44, 4.202051865276077], [0, 4.369998853923367], [94, 4.377234476010321]]\n",
      "[[73, 0.31365995225335264], [95, 0.339039312772863], [5, 0.3959999630131463], [90, 0.5238547148837885], [2, 0.6579922828459399], [84, 0.6662133921731469], [3, 0.6754958885093397], [28, 0.6808217022043035], [99, 0.8594886883972244], [48, 0.8790680773057168], [38, 0.9229870035881743], [62, 0.9380677833309113], [74, 0.9705903568729156], [35, 0.997008894984293], [85, 1.0351230725384153], [25, 1.0504969404815214], [59, 1.0591751586111349], [8, 1.0919909127676535], [49, 1.1042393513673703], [88, 1.1200177822544632], [70, 1.14702469110051], [78, 1.2017645785810829], [6, 1.2524218996051284], [22, 1.2826767588337253], [20, 1.287853324621011], [34, 1.3055476500921255], [40, 1.3499948488257714], [57, 1.3598735576990804], [69, 1.408334502307676], [42, 1.454092330903478], [9, 1.4688643919000657], [29, 1.5068914973793783], [37, 1.5490288126254717], [75, 1.5738069280747808], [26, 1.6145480675906059], [71, 1.6206183633414672], [61, 1.6221748230273236], [33, 1.6482300655585302], [93, 1.694348826462289], [79, 1.6988488053095143], [36, 1.7005163389859164], [15, 1.7033969949372822], [66, 1.7033969949372822], [21, 1.819634393136266], [45, 1.886279767551799], [13, 1.8880676619712755], [27, 1.9361408718269155], [83, 2.0785796465491866], [32, 2.092963462331129], [23, 2.1071482894212896], [92, 2.12729625680639], [72, 2.1404649572515977], [68, 2.142415081869522], [30, 2.15564966353377], [80, 2.1832542024336345], [67, 2.2699616018513837], [18, 2.2772989883423382], [101, 2.364044056656055], [96, 2.4105875081100003], [52, 2.423973291757924], [65, 2.5411085692728803], [81, 2.5678023801007783], [14, 2.6284704024000525], [11, 2.638091560151451], [51, 2.6821999213840413], [91, 2.710930241928846], [24, 2.918079316255386], [56, 3.005925150121621], [10, 3.5589914455126603], [76, 3.771215246171685], [77, 3.783811053868119], [1, 3.8930653673549247], [50, 3.9212189193792257], [17, 3.9328371434278755], [102, 3.9986753065954215], [97, 4.003936299834465], [41, 4.096788835830888], [43, 4.112964379623665], [55, 4.1132452671333075], [89, 4.118016775482155], [54, 4.127828953642695], [53, 4.130582358239298], [31, 4.135975452684069], [82, 4.182595259906734], [64, 4.1923507740901265], [46, 4.207208251602342], [58, 4.212311752487559], [98, 4.228588094869464], [16, 4.230930143166725], [4, 4.231768933950253], [63, 4.251256758691877], [86, 4.297781329529548], [7, 4.31549715876834], [87, 4.323032105840619], [19, 4.330991301205398], [39, 4.353385769268091], [12, 4.411911562986466], [103, 4.426571414440686], [0, 4.620955181165865], [60, 4.640590122855116], [104, 4.640590122855116], [94, 4.70266470222127], [44, 4.70776359961215], [100, 4.841866594149147], [47, 4.851067952455227]]\n",
      "[[72, 0.2423357408873017], [68, 0.3478448178925335], [36, 0.4015087960855632], [83, 0.4074981836417962], [92, 0.44687736369232645], [71, 0.5365603381182119], [23, 0.5440146922425391], [30, 0.5896099345722488], [67, 0.6196520151754323], [75, 0.6225743696422392], [34, 0.6480155635463904], [26, 0.671029713370315], [69, 0.7274027808492018], [93, 0.8147147679742275], [13, 0.8647940710608203], [18, 0.8988229030670561], [11, 0.9194814785974743], [79, 0.9194814785974748], [20, 0.9620392049906739], [15, 0.9639355967413696], [66, 0.9639355967413696], [52, 1.0102006039254177], [65, 1.010793872424213], [42, 1.0235530982230996], [61, 1.0488480806683271], [101, 1.0692432115144361], [22, 1.0731206762364238], [88, 1.1485749832323287], [40, 1.1848827479408808], [38, 1.2130988951703587], [14, 1.2204572454389457], [9, 1.2624161179433613], [51, 1.2723032579949902], [27, 1.2740121022382553], [48, 1.2915906767784626], [91, 1.3108371533065233], [29, 1.33808675161694], [49, 1.357347603143116], [99, 1.3880023225441336], [84, 1.3966565912561264], [45, 1.447705998479532], [35, 1.4718188749029775], [24, 1.5355351408378728], [74, 1.5464482583501238], [33, 1.5498901919083243], [2, 1.5707544646680438], [56, 1.6007088594399967], [28, 1.6075421542701327], [59, 1.608066468984739], [95, 1.7446215057157446], [3, 1.8282119978124625], [25, 1.8334745866252917], [96, 1.8407815237088525], [73, 1.849224964662407], [5, 1.9036411939929434], [85, 1.9120355881932356], [81, 1.9253737427418076], [10, 2.005852266510262], [90, 2.0169846066491335], [8, 2.078889965693086], [62, 2.2030137455922407], [77, 2.2603906884695943], [76, 2.431170517190225], [78, 2.464357211362083], [102, 2.4879316472433035], [1, 2.523400566188063], [98, 2.557190303403812], [17, 2.56589550249775], [46, 2.570623217458922], [63, 2.576379130827839], [16, 2.6267006552913514], [64, 2.652965647710507], [19, 2.6544847291756013], [53, 2.655297031634981], [41, 2.667494616629358], [4, 2.680816496613805], [89, 2.7002595370509854], [103, 2.712354700322062], [55, 2.719445239662372], [97, 2.7524059953568503], [12, 2.763597187433363], [58, 2.767023818785298], [6, 2.8144416386390514], [31, 2.8226925058365424], [43, 2.8352814316143626], [57, 2.8680781708690493], [60, 2.8897147502409917], [70, 2.90009399406927], [50, 2.9041136544277695], [87, 2.9101497573531083], [54, 2.9139278999815104], [104, 2.926160204524713], [82, 2.9264968939723652], [37, 2.9467449092007105], [86, 3.0267099274771385], [39, 3.066520779454], [47, 3.100281859738171], [100, 3.1900054126591835], [44, 3.203349429756102], [21, 3.208138367493303], [7, 3.4357032923166653], [32, 3.5040815341885856], [80, 3.5717465516794094], [94, 3.5986532465271415], [0, 3.698390635182947]]\n",
      "[[93, 0.24233574088730286], [9, 0.2963124182258145], [26, 0.4484972652784278], [75, 0.48117241865162236], [13, 0.5041233461744918], [71, 0.5631487773247594], [42, 0.5862865255744137], [49, 0.6819773438825419], [36, 0.7018336645918865], [22, 0.747760028966661], [99, 0.7878147621826811], [20, 0.790983747296497], [83, 0.8500773386361874], [59, 0.8744194672912207], [40, 0.8809752593979155], [23, 0.8861791648155574], [30, 0.8861791648155574], [92, 0.8904768749382305], [34, 0.8954524679855446], [18, 0.899731419979271], [79, 0.8997574649764523], [52, 0.9536073439567729], [48, 0.9828728344422804], [88, 0.996900589297972], [68, 1.002765328763885], [45, 1.0237853052572736], [101, 1.0256002790514882], [67, 1.0478167505781568], [38, 1.0537215046892452], [27, 1.0827419829968834], [69, 1.165287263913732], [84, 1.2439343780860104], [51, 1.2486035379893705], [15, 1.2534059257661925], [66, 1.2534059257661925], [72, 1.266248764713184], [33, 1.2824187239938216], [65, 1.2987248996067038], [35, 1.306856506664418], [61, 1.3147378008584063], [8, 1.3694599544102923], [91, 1.3814740741150604], [96, 1.3876498077612285], [74, 1.4150736631033503], [14, 1.4374063921084552], [73, 1.4418124824621046], [95, 1.476312487822632], [28, 1.4825730128170744], [11, 1.5476224130923075], [2, 1.5914356614965408], [24, 1.6321912002496453], [3, 1.649875869891774], [62, 1.668331215808091], [56, 1.6691970219112262], [29, 1.6984853476394872], [5, 1.728184387931051], [81, 1.7490127910968778], [78, 1.7865074160668193], [90, 1.8087373588338787], [25, 1.9954873167175284], [85, 2.071529767307244], [6, 2.232713472785693], [37, 2.289973464639478], [10, 2.2943967387087834], [70, 2.305118833598312], [77, 2.5732841906061323], [76, 2.594055750916715], [21, 2.6219517190690556], [1, 2.659570127277023], [57, 2.6604389023046635], [17, 2.744546127665005], [102, 2.821504348736482], [97, 2.8462059615070294], [46, 2.853876581927116], [41, 2.8726881744327843], [98, 2.874202770296634], [63, 2.9020795409734346], [53, 2.9043485606288937], [64, 2.922134208726679], [4, 2.9249946405452145], [55, 2.9412744353572666], [89, 2.972945855648194], [50, 2.988001366113271], [16, 3.0067593507350936], [19, 3.028450587583575], [58, 3.070083187758777], [54, 3.0803957559292754], [103, 3.098079271876222], [12, 3.118321228036092], [82, 3.1300403707511397], [31, 3.13189890970754], [80, 3.141540793072095], [32, 3.168230986929632], [43, 3.1682309869296326], [87, 3.2074220993309637], [60, 3.3060045879496758], [86, 3.3224755466124805], [39, 3.3503782336030206], [104, 3.3695089768557986], [100, 3.442075463489181], [7, 3.4844613541704494], [47, 3.5115120646669715], [44, 3.601106826183424], [94, 3.8435135706656895], [0, 3.8675615821324048]]\n",
      "[[48, 0.3136599522533527], [38, 0.40749818364179596], [28, 0.43082000800551656], [95, 0.46332483074050684], [84, 0.4638886697063329], [99, 0.47706589814548295], [88, 0.4824035445993589], [35, 0.5437451417007639], [73, 0.5640443251865959], [74, 0.5896099345722485], [2, 0.6211422044742104], [5, 0.6638053654004721], [20, 0.681977343882542], [34, 0.6985966919696418], [49, 0.790983747296497], [3, 0.7960721898608529], [40, 0.7962563266451413], [90, 0.8113781667715234], [42, 0.8408894741398554], [59, 0.866110404539084], [22, 0.9044964444083208], [69, 0.928169016893487], [75, 0.9874094118736204], [26, 0.9962090512401479], [71, 1.0057344740178034], [9, 1.016363380227893], [8, 1.0549555683321103], [79, 1.0603863850570736], [85, 1.084236564999963], [62, 1.0988279571410196], [29, 1.100829776806163], [15, 1.103119882137594], [66, 1.103119882137594], [25, 1.1115286011045882], [36, 1.1334745741058294], [93, 1.1383408684169374], [33, 1.1890077356954067], [13, 1.2792814474186713], [61, 1.2846854917440356], [78, 1.296214896045979], [27, 1.3259774899403198], [45, 1.3585803721602825], [23, 1.4693218546957871], [83, 1.4712886212789698], [72, 1.538814463314365], [92, 1.540001667214867], [30, 1.5464482583501231], [6, 1.5578779385272836], [68, 1.5585660425672756], [70, 1.5911540577928138], [18, 1.6885494742953946], [67, 1.7082842938138973], [37, 1.7472782145611183], [101, 1.772391282437611], [52, 1.8220616916857943], [57, 1.8226098241519428], [65, 1.9057008433719147], [96, 1.9264059134318745], [21, 2.0128493781658507], [14, 2.0266091468087937], [11, 2.0317088305503295], [81, 2.050496127320115], [51, 2.11040050691544], [91, 2.112680898708333], [24, 2.326476168006413], [56, 2.4156550389134828], [32, 2.5103231582010124], [80, 2.595031837364128], [10, 2.966280515629991], [77, 3.34820177811911], [17, 3.356894801052231], [76, 3.388597650885961], [1, 3.4922258239474373], [102, 3.574025732632682], [50, 3.646352606883584], [97, 3.649721552924152], [41, 3.6888803897224687], [53, 3.709711063367199], [55, 3.7205465335190335], [46, 3.721289705921979], [89, 3.7248774474951682], [98, 3.7303273223605555], [64, 3.7495436028491516], [63, 3.754552652787586], [43, 3.771303009783092], [16, 3.7713143357686882], [4, 3.7812803912167294], [31, 3.7858164497429767], [54, 3.795987407914604], [58, 3.814345015782397], [82, 3.840208121454718], [19, 3.843110084959426], [103, 3.92295432325245], [87, 3.935711131670784], [12, 3.9365411305107263], [86, 3.9622034921414326], [39, 4.008700117857208], [7, 4.0989271052445755], [60, 4.123366009497253], [104, 4.148988967575239], [100, 4.288390184323271], [44, 4.303520034571211], [47, 4.334909156764259], [0, 4.401998982012313], [94, 4.423873823325984]]\n",
      "[[73, 0.43872484538867285], [62, 0.6211422044742109], [90, 0.6429659462199688], [78, 0.6529373479830798], [8, 0.6716308096356972], [95, 0.6800799473734932], [5, 0.6876879537946574], [6, 0.7248003052607223], [28, 0.7410108142542693], [70, 0.7815174994581764], [3, 0.8513186115677656], [48, 0.8580038920905013], [99, 0.87966408205238], [35, 0.9800191994199945], [84, 0.9821304886875042], [37, 0.9821304886875046], [74, 0.9888198335252195], [38, 0.9899609673115547], [59, 1.0288535474986416], [2, 1.056867575737967], [88, 1.0851884894022132], [49, 1.1733972696634918], [85, 1.3026909633142223], [21, 1.3299420132162334], [40, 1.376783693624763], [20, 1.3957109429198225], [25, 1.4044544583111713], [42, 1.4078752408951554], [9, 1.440456611532386], [22, 1.4792947611834701], [57, 1.487446126530579], [34, 1.5242417605210687], [33, 1.6110144721869664], [26, 1.6838561117941633], [75, 1.692082498427485], [69, 1.6949788094075557], [79, 1.7009768692552247], [29, 1.7481007918429132], [71, 1.7568210894915304], [93, 1.7827340540884893], [27, 1.7872081873453176], [45, 1.791985496753257], [15, 1.7983809314815176], [66, 1.7983809314815176], [13, 1.883828039107475], [36, 1.9161272563312723], [61, 1.9211145871784647], [32, 2.0356849875572176], [80, 2.1045451805360242], [23, 2.1981066513041925], [83, 2.2300531507228074], [92, 2.2835730876962073], [30, 2.2902349152591546], [96, 2.3177475662581175], [68, 2.3364463816437118], [72, 2.3451966792499466], [18, 2.377772300948425], [101, 2.428733361796005], [81, 2.460349235279006], [52, 2.4700941110287475], [67, 2.484798448690469], [65, 2.595515840324265], [14, 2.7126380069020746], [91, 2.766412134793336], [51, 2.7717842020616446], [11, 2.813932024053089], [24, 2.9704399703368853], [56, 3.0538979176386354], [10, 3.653974562706136], [17, 3.966232331329118], [76, 4.043833992064831], [77, 4.060035233093571], [1, 4.128497891757992], [50, 4.1930355835416995], [97, 4.263103192540221], [102, 4.278218284014066], [41, 4.352554714702032], [55, 4.374258065032534], [53, 4.385179941464758], [54, 4.3987302536754305], [89, 4.399219451642092], [43, 4.409122088998424], [46, 4.43488485629843], [31, 4.441952837293102], [64, 4.443909417655955], [82, 4.456757307008567], [98, 4.463440513617301], [16, 4.476414933050326], [63, 4.4774797784399345], [4, 4.480824576616773], [58, 4.499894934504633], [19, 4.571305557806791], [86, 4.596982640233869], [7, 4.601246812772367], [87, 4.602072988841182], [39, 4.635978502634587], [103, 4.662436781056867], [12, 4.66469464810332], [60, 4.877879338187956], [104, 4.89955804565113], [0, 4.917921263158933], [94, 4.989687443118316], [100, 4.997100765926938], [44, 5.009507492743549], [47, 5.087660040883924]]\n",
      "[[98, 0.26326436858060154], [63, 0.28851266095201167], [46, 0.2970348953624515], [103, 0.36369587232539613], [12, 0.49719350624359154], [60, 0.5054344371773511], [19, 0.5068459943072193], [4, 0.5485779984913925], [47, 0.6293772784107076], [104, 0.6836857282908118], [64, 0.7436185877288667], [77, 0.9567427998966543], [16, 0.9725935320214819], [53, 1.0002705732074928], [102, 1.037034565628534], [41, 1.0488480806683271], [1, 1.192807524608248], [58, 1.2066602720203181], [89, 1.2353974190976909], [76, 1.2391779942788963], [55, 1.2570710998918218], [87, 1.4084436397336597], [44, 1.4266749370044831], [97, 1.4369141566225405], [100, 1.673681721509172], [31, 1.6993662538190772], [82, 1.7274651528573277], [54, 1.7735935372691047], [39, 1.885146985336778], [86, 1.896330343809583], [43, 1.9391327357646178], [50, 2.1630977142152887], [51, 2.205719778599019], [67, 2.247502523067881], [10, 2.2858174064372934], [11, 2.378896380760111], [52, 2.3882209485996726], [56, 2.395721450371159], [68, 2.4061894873533025], [92, 2.412154914775982], [91, 2.452784324259651], [18, 2.4618507864538004], [24, 2.4940986448538176], [30, 2.5002596169011615], [83, 2.5039975276979978], [65, 2.563447768320668], [101, 2.568345440383921], [94, 2.578758157147008], [14, 2.5928884862885675], [7, 2.6071956978164126], [23, 2.645897305391816], [72, 2.651252841502778], [36, 2.7758394841145955], [93, 2.8535121868524493], [17, 2.86110446758193], [13, 2.8823149344669083], [0, 2.8926402114194434], [71, 2.944104394579145], [75, 2.9525400350302777], [26, 2.996742441557646], [61, 3.1567535349484186], [22, 3.2359028811889874], [9, 3.257754379851757], [69, 3.275729605658085], [34, 3.2948627072522547], [79, 3.3033619550522637], [96, 3.3619109569885244], [42, 3.3665973033424708], [20, 3.439698883837593], [27, 3.4577313906996], [15, 3.461442422433728], [66, 3.461442422433728], [45, 3.4614430476107176], [49, 3.5024523503379665], [40, 3.5700354512572963], [81, 3.6177853169318444], [59, 3.7257283521434506], [99, 3.731288772391263], [88, 3.749995265806902], [38, 3.7748463285397866], [33, 3.7985277503625596], [48, 3.8315752369245466], [84, 3.8900595694829736], [29, 3.9075148669911046], [35, 4.0742935498415305], [2, 4.1557585096435306], [74, 4.160562010097045], [28, 4.258926319071677], [95, 4.283829147393346], [8, 4.313867041716805], [73, 4.315924139943441], [3, 4.322150639036973], [25, 4.360712146812928], [5, 4.496404891022413], [62, 4.528998770179695], [85, 4.538323549590858], [90, 4.583956295511244], [78, 4.7840231102221065], [6, 5.213106744626536], [57, 5.242215325963372], [70, 5.279177278849074], [37, 5.280979632269773], [21, 5.599432464879741], [80, 5.641963746800861], [32, 5.696871202992685]]\n",
      "[[49, 0.21541000400275828], [59, 0.3959999630131462], [22, 0.4535228237760234], [9, 0.5068459943072194], [99, 0.5702907944189437], [75, 0.771007150025962], [93, 0.7743132767292472], [26, 0.8772548913911887], [48, 0.8830851252519023], [38, 0.8945708755512204], [42, 0.9420417186939595], [84, 0.9454017527984713], [71, 0.9756642447007942], [36, 1.0113680519533805], [34, 1.0494341048334956], [13, 1.0506364871893605], [8, 1.0594888611474478], [20, 1.0829943130445319], [88, 1.0905467285819699], [73, 1.1094144790104674], [61, 1.1264344500193373], [69, 1.1495811118861607], [40, 1.20031250218064], [62, 1.234613549284753], [92, 1.266248764713184], [3, 1.2676514124487863], [95, 1.2896634044207114], [83, 1.3078136304161885], [79, 1.3397209027530967], [2, 1.360251798315801], [28, 1.3615520019348588], [68, 1.3696247709464784], [35, 1.386818447908651], [23, 1.402012042953834], [30, 1.411198679624119], [74, 1.4775557135266664], [18, 1.4788959237921158], [5, 1.482529662515558], [90, 1.482573012817074], [67, 1.4874544655809674], [45, 1.4968819752052505], [27, 1.5226602667161018], [52, 1.530806861472347], [72, 1.5983577209566362], [78, 1.6009697852308022], [15, 1.6212750101467999], [66, 1.6212750101467999], [101, 1.623260199810537], [33, 1.6407436845403307], [25, 1.7057888516013717], [51, 1.825330522040011], [85, 1.8358773782645224], [65, 1.8730269391743712], [29, 1.886034516050176], [96, 1.9088291578155065], [6, 1.9117498933886554], [70, 1.9642448743913727], [91, 1.9801124842156954], [14, 2.022580720707006], [11, 2.0571784154163963], [37, 2.0682805037885648], [57, 2.173013683994652], [24, 2.232249102321319], [81, 2.268316648731028], [56, 2.268528529394694], [21, 2.4930858060357197], [80, 2.5742310317747776], [32, 2.6234639666933477], [76, 2.721702073762932], [77, 2.780105103138216], [1, 2.7943221640922484], [10, 2.881408530514608], [50, 2.9182704852033963], [97, 2.9260217520014176], [102, 2.9975527369960155], [41, 3.0303173488732127], [55, 3.0599277770009787], [53, 3.0736550521738644], [54, 3.0985152034517016], [89, 3.1000591278672505], [64, 3.1396649916646604], [46, 3.1573395147313885], [82, 3.1618350830448567], [4, 3.1779090217419026], [43, 3.179119612877672], [31, 3.1805205323403705], [16, 3.20798105004935], [58, 3.208102432681942], [63, 3.2137012710144046], [98, 3.218242047338606], [19, 3.3095998052335065], [87, 3.312143993699451], [86, 3.3419239508025336], [17, 3.345707221793988], [7, 3.359250817957915], [39, 3.3738463689083953], [12, 3.3948855870523587], [103, 3.4185590812713227], [60, 3.6632200812902873], [104, 3.6632200812902873], [0, 3.73209741161337], [44, 3.745519362913669], [94, 3.7745913817851626], [47, 3.8672856064645154], [100, 3.962119379500757]]\n",
      "[[15, 0.37678397901318456], [66, 0.37678397901318456], [29, 0.5906615737972177], [34, 0.720699154218767], [79, 0.7602969682240865], [20, 0.7752922820877839], [72, 0.8692252321415834], [71, 0.879068077305717], [40, 0.9174419150685805], [23, 0.9567623046029496], [36, 0.9672471455476572], [88, 0.9999969146624926], [69, 1.0259251022603726], [26, 1.0279722730512229], [30, 1.034629294105279], [83, 1.0368176941701652], [35, 1.0560525435475276], [42, 1.0795826783915874], [74, 1.0803832979810035], [33, 1.103119882137594], [75, 1.1098878831849224], [11, 1.111179308723274], [68, 1.1259388652039197], [27, 1.1666494062772559], [65, 1.1900992518659386], [67, 1.2033156069359319], [13, 1.2202021706730244], [92, 1.2222389552160773], [18, 1.242455840885116], [93, 1.2437251986041775], [48, 1.2596753403704593], [38, 1.2657593061256482], [14, 1.2658163846517925], [45, 1.2765154710593827], [101, 1.281127941023975], [28, 1.3161132749708877], [2, 1.4124821333939923], [84, 1.4317767530531609], [52, 1.432191298288429], [99, 1.4654746594605514], [95, 1.4742658926755012], [91, 1.484403536038382], [22, 1.5074277058001209], [9, 1.5489528194800086], [61, 1.5720962721558993], [81, 1.6059179866741036], [51, 1.6101315781495538], [24, 1.6300029828389917], [5, 1.6397931655546074], [49, 1.643013306048298], [85, 1.6935850235126153], [96, 1.724514906003367], [73, 1.7482001167100463], [56, 1.7494069487118626], [25, 1.750025001102773], [3, 1.8235466438485903], [59, 1.8415455702197263], [90, 1.854993106087074], [10, 2.1007171891840537], [8, 2.1235272027267937], [62, 2.2508997613634145], [78, 2.2889677923245633], [17, 2.5071526917372577], [6, 2.6524635479554806], [70, 2.7032767885419373], [37, 2.7424967932315236], [57, 2.8369464579244896], [21, 2.852141586351975], [77, 2.9830206536064616], [98, 3.1806373986939214], [76, 3.183795950236497], [102, 3.2233408919406643], [46, 3.2472641284157424], [63, 3.2478463748362127], [1, 3.299752981023843], [19, 3.3420095797262066], [103, 3.3605786129647335], [16, 3.37174847242124], [4, 3.3782971629525247], [64, 3.3800319045597185], [53, 3.4092681816069543], [41, 3.4225544089816786], [12, 3.4406017064316936], [89, 3.453758040960819], [60, 3.482355182359195], [55, 3.489964444548703], [100, 3.506490418957658], [58, 3.509887148695405], [97, 3.523052095206467], [104, 3.5724899202734215], [31, 3.5818216267626126], [32, 3.5902161367030714], [43, 3.6068352340436114], [87, 3.673043312089197], [47, 3.6895869819189873], [50, 3.6917846545940307], [54, 3.701265949448912], [82, 3.7111693430358583], [80, 3.7138269228131753], [86, 3.7957948696842623], [39, 3.846824895037588], [44, 3.9226392786643873], [7, 4.210210135349772], [94, 4.379476926477065], [0, 4.469020259673506]]\n",
      "[[30, 0.2662756036927649], [23, 0.31104122219927655], [65, 0.3129236462101575], [18, 0.32423460817109945], [101, 0.3767839790131853], [52, 0.4667980204316196], [83, 0.4760712736677153], [14, 0.48945462507186305], [11, 0.5303846859309375], [91, 0.557085963233079], [67, 0.572939749290867], [51, 0.6179883925308864], [68, 0.6929252873590339], [92, 0.7133888459545229], [13, 0.7198063845835139], [71, 0.7384112781349689], [24, 0.7826829696154001], [72, 0.7962563266451409], [79, 0.807786898671801], [26, 0.8228565396683695], [36, 0.8236248927626151], [56, 0.8534062505715507], [93, 0.8623990953639109], [75, 0.955495265802641], [15, 0.9716839517762846], [66, 0.9716839517762846], [27, 1.0346668792768081], [42, 1.050414017649992], [20, 1.063486531676891], [45, 1.0765525918051189], [34, 1.1230738871813626], [40, 1.1449327268011502], [96, 1.2570488375923463], [9, 1.3159845656918794], [33, 1.3273612550876455], [10, 1.3394034303964595], [81, 1.3548911067648093], [88, 1.4134056880858612], [69, 1.4164646855494551], [22, 1.5371311351112469], [29, 1.5716099924356395], [48, 1.6264249051013828], [35, 1.6536997985256547], [99, 1.654502651032021], [38, 1.6633110750043625], [49, 1.6656528049155126], [61, 1.736796239977304], [74, 1.7404834290051134], [17, 1.8545387458024865], [59, 1.885908385000584], [84, 1.9038571808347124], [28, 1.973986995948021], [95, 2.07584861125582], [2, 2.09475115941289], [73, 2.2143100951318395], [8, 2.2843746639487525], [5, 2.3138877076058195], [77, 2.3243686012174942], [3, 2.349453303757206], [98, 2.383684233451691], [46, 2.4533344943409148], [25, 2.4587975738702244], [63, 2.4633024173532365], [90, 2.4708778777147904], [85, 2.4837135895531723], [76, 2.5325447035924733], [62, 2.561859181562753], [78, 2.569012889366637], [102, 2.590826013452666], [103, 2.6014639023717616], [1, 2.602093901289337], [19, 2.6065996735546446], [4, 2.6186481120818064], [64, 2.6580964615074563], [100, 2.659676051883055], [12, 2.7069158131296667], [16, 2.7095506091185766], [60, 2.721118984607427], [53, 2.723082566269439], [41, 2.731432025086596], [89, 2.832639472346707], [55, 2.8421650295521155], [97, 2.8669657287426835], [104, 2.8726881744327835], [58, 2.8930058188669525], [47, 2.925356517676113], [6, 3.052747968743768], [37, 3.065237706889596], [31, 3.0699536635056823], [87, 3.0740936229229696], [54, 3.1319933052815663], [70, 3.1385402754121365], [82, 3.1436905586376973], [43, 3.1450466533192825], [50, 3.1903447663206235], [21, 3.258117878613229], [86, 3.2964572920130992], [39, 3.325549911612461], [44, 3.3414062499247583], [57, 3.4222855489782034], [7, 3.744081251339704], [94, 3.9333416515370994], [32, 4.038441947752063], [0, 4.070237477805932], [80, 4.073209332364425]]\n",
      "[[22, 0.31292364621015717], [61, 0.4450251667481512], [69, 0.6003629046700256], [84, 0.6638053654004717], [49, 0.6813190750084565], [38, 0.7090158980290433], [75, 0.7798590853078143], [34, 0.8255837068864595], [99, 0.8707599415645513], [59, 0.877924091775596], [36, 0.8999504238590293], [48, 0.9009446476455525], [26, 0.9878681886823499], [3, 0.9955559017892481], [71, 1.0051033274839576], [2, 1.0163633802278924], [93, 1.0344861763226825], [9, 1.0673132038690105], [88, 1.0857379462144823], [73, 1.1541107689134635], [92, 1.1676683180923304], [42, 1.1805840509722423], [20, 1.188269352288697], [25, 1.1931431332296714], [68, 1.2118403312033796], [28, 1.245112198490315], [83, 1.2700763504061034], [95, 1.2812526287090154], [13, 1.2886903826235445], [72, 1.3024507069954387], [90, 1.316908289569872], [5, 1.3481352436630838], [62, 1.3628888038298608], [85, 1.3962245237829032], [40, 1.4106345888324665], [23, 1.4220297259772687], [35, 1.4262857961162916], [8, 1.4342309802456885], [79, 1.4461959092996197], [67, 1.4539885694345098], [30, 1.4579246622182094], [74, 1.4916060215601428], [15, 1.5755419197183764], [66, 1.5755419197183764], [18, 1.660929027107648], [29, 1.6889117899971913], [27, 1.7280745610729271], [52, 1.736309898941147], [101, 1.8436661851223404], [45, 1.849768710102346], [33, 1.8911406615830506], [57, 1.924264813969829], [65, 1.9602218595157348], [78, 1.9724004935044896], [11, 1.99002500518709], [51, 2.052812866876994], [6, 2.134829757997428], [14, 2.155286177471918], [91, 2.1796154757004107], [70, 2.199254448073684], [96, 2.341809737136334], [37, 2.402456552047755], [24, 2.434482730957466], [32, 2.47352746564454], [56, 2.4856956546501303], [80, 2.5088068718521335], [81, 2.56717608277726], [76, 2.65430253781966], [77, 2.6679903786218775], [1, 2.7469522163732676], [50, 2.772907403444862], [21, 2.808331210430715], [102, 2.8519793733375094], [97, 2.877870092217703], [43, 2.909763044575058], [55, 2.9483156869493365], [54, 2.956549659848252], [41, 2.956953802091617], [31, 2.9605952709496575], [89, 2.9618230186701666], [53, 2.978468020873191], [82, 3.0033543405462426], [10, 3.0061943125182102], [16, 3.047157246822334], [58, 3.058738294165972], [64, 3.065176107868014], [86, 3.1105007824559068], [46, 3.1294870749054464], [87, 3.1420088371945023], [4, 3.1444621455489794], [39, 3.152701050667942], [63, 3.164796394529015], [98, 3.197899658988686], [19, 3.211245210646389], [7, 3.2120134861150866], [12, 3.3078757469168054], [103, 3.3405213762211203], [0, 3.485106264117593], [94, 3.5177382489261255], [104, 3.5332160284880123], [17, 3.5391477273536163], [44, 3.540982341079217], [60, 3.5927064886422473], [47, 3.7993259051903614], [100, 4.088842018875768]]\n",
      "[[10, 0.5225373933376154], [56, 0.6808217022043036], [24, 0.7033125583435271], [14, 0.7919999260262923], [91, 0.7929131488675982], [11, 0.8026562689170353], [51, 0.8243903276928563], [65, 0.9687108317871566], [101, 1.0548781358609702], [18, 1.1001636997466808], [52, 1.1574022162440645], [67, 1.1834255443960622], [17, 1.1989723900579663], [30, 1.2106412578495025], [23, 1.3422457067973732], [83, 1.3823485287135993], [68, 1.4669706517978085], [92, 1.528339399406096], [72, 1.5687549564834782], [100, 1.668245862030121], [13, 1.701769602753976], [36, 1.7340164584202504], [96, 1.740288765405735], [71, 1.7438910964659462], [81, 1.7987658519494667], [93, 1.7998861832509954], [79, 1.805269879728139], [98, 1.841964965113107], [26, 1.8454186231739607], [15, 1.8614351167480587], [66, 1.8614351167480587], [45, 1.8861597299015689], [75, 1.9431620064424542], [27, 1.9649204706058232], [63, 2.0190247529358087], [46, 2.024039769538848], [20, 2.0369337941738683], [42, 2.0719442403980213], [40, 2.0835913192227236], [60, 2.093147596576736], [103, 2.098821502191101], [34, 2.0999242814607815], [33, 2.1249200668967014], [77, 2.1356782903813514], [19, 2.206379316506942], [9, 2.246671997932504], [4, 2.249752878086008], [47, 2.2722897622046023], [12, 2.2734435437103877], [69, 2.330636633732863], [29, 2.355680751640871], [64, 2.3741467414042705], [104, 2.377612266488688], [102, 2.4060585013770486], [88, 2.448437200708175], [76, 2.44954180093302], [22, 2.466136613136001], [16, 2.493741922176946], [1, 2.5246410523348484], [53, 2.5342819853324685], [41, 2.5568363498768285], [61, 2.5771079278017215], [35, 2.6219517190690564], [49, 2.6224049998823227], [99, 2.6456071690575813], [48, 2.6590318699889965], [89, 2.6897939320603776], [74, 2.690445778656565], [38, 2.6938711777701183], [58, 2.712246176514206], [55, 2.7283854761985795], [97, 2.8055415978793254], [59, 2.8474472565385702], [84, 2.8813673848316435], [87, 2.9422838353715948], [28, 2.971808403645676], [95, 3.0235605108623345], [31, 3.034225582321068], [2, 3.0465980675078996], [44, 3.0780813572568695], [82, 3.1336426914752367], [54, 3.1453338108975673], [43, 3.193010708109435], [73, 3.2028085453114823], [8, 3.281044812931203], [5, 3.283023712886319], [86, 3.284995303409977], [39, 3.3154289898256906], [50, 3.337487982260202], [3, 3.352257606916733], [25, 3.3938877981559634], [85, 3.436436429287847], [90, 3.4715230045198413], [78, 3.529439504829778], [62, 3.5815658948477527], [7, 3.8848995300622797], [94, 4.004975268360259], [37, 4.028367772559191], [6, 4.052186946159101], [70, 4.104772534302577], [21, 4.16970747950398], [0, 4.216594782668154], [57, 4.403074802858121], [32, 5.039773445303369], [80, 5.060015669723108]]\n",
      "[[90, 0.3871721893170616], [5, 0.4822029964889746], [85, 0.5137906997299819], [3, 0.5265287371612033], [2, 0.5532824269586668], [25, 0.5553868214863626], [73, 0.759602372978885], [95, 0.7918241067191394], [84, 0.8131363431595955], [28, 0.8335558485442467], [57, 0.9463847901515668], [38, 1.0982001719804015], [62, 1.13935546467569], [48, 1.1821963075471966], [74, 1.2712483769573015], [35, 1.3180901560605873], [99, 1.3206586109966223], [88, 1.3910464846975847], [70, 1.4373852165940333], [69, 1.4502795724411026], [6, 1.4849347769604935], [59, 1.4866551612532442], [8, 1.5002254369866317], [49, 1.5058933258047336], [34, 1.5188846089778212], [22, 1.543703218525205], [61, 1.6251375735978102], [29, 1.6271454890171995], [78, 1.6491288027049023], [20, 1.6740667867968495], [40, 1.7883910119692203], [32, 1.8088453941585592], [42, 1.8462586955194937], [75, 1.8689341861897135], [37, 1.8839198950659246], [9, 1.9361076251978508], [71, 1.9403978993851043], [26, 1.948334800700031], [15, 1.958812043949237], [66, 1.958812043949237], [36, 1.9687825890471486], [80, 2.0075835592683218], [79, 2.0363811456542242], [93, 2.084024804693933], [33, 2.0996116387257673], [21, 2.144574882181773], [13, 2.2593408307628104], [72, 2.270684585958273], [27, 2.2857991749860744], [83, 2.3532886878823245], [45, 2.3591855531456987], [68, 2.361248353217239], [92, 2.366476196514396], [23, 2.3985855557656186], [30, 2.472858244081389], [67, 2.558137773283944], [18, 2.659289732982885], [101, 2.765435190175283], [52, 2.7968664862612513], [65, 2.8609293503047604], [11, 2.890377545925236], [96, 2.928311373118888], [14, 2.9890229822849297], [81, 3.0037068830341087], [51, 3.086558461722049], [91, 3.100105368040962], [24, 3.3119026137493477], [56, 3.4054620949407153], [10, 3.9117002694627576], [77, 3.9822236071569916], [76, 3.9842189686627476], [50, 4.04326618950563], [1, 4.107186230616416], [102, 4.167453443344841], [43, 4.170050362233834], [97, 4.212642252415715], [31, 4.2362911673082655], [54, 4.265400083110875], [89, 4.281346812239209], [55, 4.287181336613903], [41, 4.300644611307273], [82, 4.311617155471273], [17, 4.3197849096458585], [53, 4.32158343632124], [58, 4.369837293255861], [86, 4.378143463666078], [16, 4.379942825266028], [64, 4.402519653851953], [7, 4.415144313410039], [39, 4.436183686305313], [46, 4.453471392404769], [87, 4.456354369135847], [4, 4.472553704431582], [63, 4.484249956285988], [98, 4.487366357851197], [19, 4.530133604779135], [12, 4.620160843215287], [0, 4.641721048208899], [103, 4.642322783243972], [94, 4.730087460713123], [104, 4.820769589181002], [44, 4.822207275562363], [60, 4.864539427483333], [47, 5.0744103877540425], [100, 5.2005281641166405]]\n",
      "[[102, 0.349712280253469], [89, 0.4284237536479596], [58, 0.43013686816262814], [77, 0.4971935062435916], [31, 0.5469757567515248], [55, 0.5823998759152758], [87, 0.5857858265997447], [53, 0.5900298366849918], [76, 0.6003629046700268], [41, 0.6339334712385395], [16, 0.6465478415765844], [64, 0.7086019250841479], [1, 0.7538965450221008], [43, 0.7681010215061983], [82, 0.7902911390045618], [86, 0.8067034115204736], [97, 0.8205780094763937], [44, 0.8254860744021256], [54, 0.8528374136868495], [39, 0.8768290167688689], [4, 0.8976833302398787], [19, 0.9414256992830913], [12, 0.9567427998966546], [46, 1.0691087297920574], [63, 1.0880293844850772], [104, 1.1453215319315466], [50, 1.164255010680884], [103, 1.1675693848912487], [98, 1.2459356528616574], [60, 1.4695612374586615], [94, 1.5500944313135288], [47, 1.5994070446396516], [7, 1.610375720603093], [0, 1.803810636609731], [67, 2.1394908621517335], [68, 2.172875061562736], [92, 2.2026691201122253], [83, 2.3790541673288454], [72, 2.383276003302975], [61, 2.4435023477861293], [36, 2.4700770393924465], [30, 2.486769138586415], [11, 2.503593972872581], [51, 2.5406841903171733], [52, 2.5743565710539102], [18, 2.581419194227447], [23, 2.6233198923936447], [75, 2.667886355270362], [93, 2.6880981909024233], [69, 2.7329922012042753], [22, 2.73401777569161], [71, 2.737911504890995], [101, 2.7778404565903903], [65, 2.7956673096778326], [26, 2.810262220288492], [91, 2.823065934201408], [13, 2.846277220858678], [100, 2.8605416302274036], [14, 2.8941121315423257], [56, 2.9121775328350936], [34, 2.9319015322325437], [24, 2.9623694019213165], [10, 2.9734633659488114], [9, 3.0696304859766492], [49, 3.0981994675840947], [42, 3.2308791325235933], [20, 3.242500971138702], [79, 3.2480175182214666], [59, 3.3270740991309324], [84, 3.336725813236318], [38, 3.3367836872058034], [15, 3.3491257815738154], [66, 3.3491257815738154], [99, 3.3762082775629048], [40, 3.4475635146942647], [48, 3.4694103631559403], [88, 3.4717057374616527], [27, 3.51374922843417], [45, 3.563951601610155], [2, 3.575552572311191], [29, 3.620424724217297], [25, 3.6492378909921395], [17, 3.6559970649028237], [96, 3.673359477942387], [3, 3.71268110087183], [33, 3.800391146580493], [35, 3.8133334638669067], [73, 3.835536430600491], [95, 3.8421338775894522], [28, 3.842192820281475], [74, 3.883123755022403], [85, 3.8990325340320484], [81, 3.944807732145428], [8, 3.982709726785766], [5, 3.9841678920865973], [90, 4.026718818894897], [62, 4.041306987471739], [57, 4.467182285777167], [78, 4.530252306356636], [6, 4.819167565426178], [70, 4.85561010029969], [80, 4.864497851534791], [32, 4.9008236652100505], [37, 5.0097976734453304], [21, 5.392321105244168]]\n",
      "[[15, 0.49719350624359143], [66, 0.49719350624359143], [33, 0.7388278106186962], [79, 0.7902911390045618], [29, 0.878669231136507], [40, 0.901687488794557], [20, 0.9623857758801595], [45, 0.9823165444125598], [27, 1.013887517357101], [81, 1.0208945267460194], [14, 1.1094144790104672], [35, 1.153230563592047], [65, 1.1562633602546408], [74, 1.1755517124422634], [23, 1.1860446253527608], [42, 1.2007750639441481], [71, 1.222260946183557], [101, 1.2246026123057194], [34, 1.2406162805258814], [88, 1.2497976637181956], [30, 1.2600037566710207], [11, 1.2624049826559365], [96, 1.306071982407866], [18, 1.3139496058506768], [26, 1.317422806900395], [91, 1.3450133474910217], [13, 1.3600830445670407], [83, 1.379719153497531], [72, 1.4038649441199695], [24, 1.4072660572422513], [36, 1.4224688917575408], [52, 1.4903076838915068], [93, 1.4907075054321666], [75, 1.495035539574853], [67, 1.5312516724277576], [56, 1.5460833386980826], [48, 1.553853280106888], [68, 1.5652922854176283], [51, 1.585104000495023], [28, 1.5938786801156302], [92, 1.6249447321084252], [69, 1.6545373129878744], [38, 1.6664727080983088], [9, 1.7139939185633388], [99, 1.7172281007928782], [95, 1.7209864388034415], [2, 1.8710841035395327], [84, 1.8813275320053875], [10, 1.8967548320275742], [5, 1.9414827808736839], [22, 1.9570069297642907], [49, 1.959100651382679], [73, 2.022580720707006], [59, 2.1114507197394263], [17, 2.1221990739919896], [85, 2.162443036633431], [61, 2.186861760796088], [90, 2.188750837621989], [3, 2.243921066587639], [8, 2.2609997203678147], [78, 2.264537331295342], [25, 2.283485145838232], [62, 2.508439023067363], [21, 2.6921743959558984], [37, 2.6987383343464826], [6, 2.7329789087773597], [70, 2.782850672131872], [57, 3.2464278899088104], [77, 3.3669754898084703], [98, 3.4217260184193408], [100, 3.428728261955636], [46, 3.5240031240304965], [63, 3.5277871382039416], [76, 3.580145771399784], [102, 3.6306756718017033], [103, 3.640803788913119], [19, 3.662391385659579], [1, 3.6818928359082554], [4, 3.6871029792783125], [60, 3.720546533519033], [64, 3.729808797943203], [12, 3.755157212642554], [16, 3.7682768929781845], [53, 3.7936903593749083], [41, 3.8026245373001366], [89, 3.8758000345180337], [104, 3.8877036585602824], [55, 3.9035123714970594], [47, 3.920587490054386], [97, 3.923555164793873], [58, 3.9304596920077493], [32, 3.9788170247430874], [31, 4.068446029649132], [80, 4.08589032746008], [87, 4.114843264011763], [43, 4.126035227449252], [54, 4.163422467370597], [82, 4.175746425682625], [50, 4.1810192976077225], [86, 4.295207670197147], [39, 4.339625677899382], [44, 4.355580787085522], [7, 4.713421905001854], [94, 4.913759762423802], [0, 5.017337273001221]]\n",
      "[[16, 0.17051228074080926], [64, 0.3530426814139796], [102, 0.35781942244034337], [53, 0.3679203290779189], [58, 0.3976413362966737], [89, 0.46408450844674337], [19, 0.4760712736677151], [41, 0.49782368127503585], [12, 0.5056859652937118], [87, 0.5325512073855309], [55, 0.5395623129349278], [4, 0.5677822695943365], [77, 0.5867701485369409], [44, 0.6220824443985543], [104, 0.6898862862188047], [63, 0.6905902987759389], [46, 0.7034394833171148], [1, 0.7292256131683396], [103, 0.7340790592116068], [76, 0.7752922820877838], [31, 0.8255837068864604], [97, 0.8952463223292205], [82, 0.9204274955464105], [98, 0.9370687399911911], [39, 0.9899412581490131], [86, 1.0002705732074928], [54, 1.0043330899976277], [43, 1.0384441536419888], [60, 1.0544333560088233], [47, 1.145853175248146], [50, 1.434440735349498], [94, 1.6887868364260012], [7, 1.851354373265491], [0, 2.0306940285275106], [67, 2.37763699184922], [68, 2.4296303528175183], [92, 2.4399957431622683], [100, 2.567176082777261], [83, 2.606599673554645], [51, 2.618348183160059], [72, 2.6498115809476896], [11, 2.6524454569852884], [52, 2.6819191863219283], [30, 2.685610316729585], [18, 2.7397693943862644], [36, 2.781440372126542], [23, 2.812523650127544], [61, 2.868292342702395], [91, 2.888646891539953], [65, 2.8941675915822525], [101, 2.907409117748692], [10, 2.917726144725405], [56, 2.924386022513598], [93, 2.9417627483500954], [75, 2.9549254702773755], [14, 2.994823955567439], [24, 2.9975830855693313], [71, 3.013973271397024], [13, 3.037444029508176], [26, 3.0668484759839574], [22, 3.100899614998867], [69, 3.1196453815095206], [34, 3.2719645376692994], [9, 3.3295095658865823], [49, 3.436533703746132], [79, 3.473348142858598], [42, 3.4780244640600104], [20, 3.539634007455065], [17, 3.5665126802490095], [15, 3.609649369064843], [66, 3.609649369064843], [59, 3.660300430261899], [27, 3.679195042534496], [38, 3.6857452793021603], [99, 3.712271231765496], [40, 3.7220472935828712], [84, 3.745166520486481], [45, 3.747249913612312], [88, 3.77261776491131], [96, 3.787414162036776], [48, 3.8000192980547816], [29, 3.964777752982504], [2, 4.004276647047489], [33, 4.041975851680516], [81, 4.050619187103674], [25, 4.1059035915108995], [3, 4.127782049814291], [35, 4.134006586200827], [28, 4.20954262218006], [74, 4.214945397090241], [73, 4.227459570747047], [95, 4.239795470444266], [8, 4.289425245131577], [85, 4.33319708440617], [5, 4.396824313994485], [62, 4.399835116065868], [90, 4.43835849841094], [78, 4.835464601195181], [57, 4.937240388537435], [6, 5.166193561248051], [70, 5.23240752016942], [80, 5.292818874073877], [37, 5.3170857401853855], [32, 5.341202502441067], [21, 5.696871202992685]]\n",
      "[[89, 0.13163218429030077], [55, 0.13383626536185475], [58, 0.1877210107234782], [53, 0.23710977266679079], [87, 0.26013881683398826], [41, 0.26013881683398893], [102, 0.38717218931706215], [1, 0.4628173122626427], [64, 0.4760712736677161], [97, 0.48799276464282854], [76, 0.507606193331884], [16, 0.5156430491149497], [82, 0.5233730115255363], [31, 0.5333861880908185], [54, 0.5893450375905077], [77, 0.6300634334227834], [44, 0.6868185797302817], [39, 0.6998835139907764], [86, 0.7053172944162333], [4, 0.710294717693949], [43, 0.7918241067191394], [12, 0.8456074142929393], [19, 0.8513186115677657], [46, 0.9538374722899929], [63, 0.9964465198786576], [50, 1.0256002790514882], [104, 1.0952380756831923], [103, 1.1036850243295875], [98, 1.2141769588038347], [94, 1.3938791270841264], [60, 1.4308722030849677], [7, 1.4342547684619036], [47, 1.520128623079403], [0, 1.6826893515579608], [67, 2.436150793387874], [92, 2.4736032553264073], [68, 2.4785894040800804], [83, 2.6580964615074576], [51, 2.71189078858055], [72, 2.7367263145435463], [52, 2.752227421178885], [30, 2.7525764010880613], [36, 2.779454001755138], [61, 2.782589901157862], [18, 2.804025257653309], [11, 2.814289913144434], [100, 2.8600238458895473], [23, 2.885507103196912], [93, 2.9150566710856145], [75, 2.9319015322325437], [101, 2.988001366113271], [22, 2.9984807076311184], [91, 3.0147378350137526], [71, 3.0215304048570455], [65, 3.0277529744950127], [13, 3.052116064206082], [26, 3.0641352302473863], [56, 3.076462909431312], [69, 3.096241421485567], [14, 3.132785623699826], [24, 3.148176734511209], [10, 3.149676027420068], [9, 3.2581632136374346], [34, 3.2686614779342644], [49, 3.324549191243056], [42, 3.472968249959426], [79, 3.521257228238055], [59, 3.534165641086771], [20, 3.541636231905798], [99, 3.6288521802045404], [38, 3.632523533571709], [84, 3.659374579801503], [15, 3.6797898781647693], [66, 3.6797898781647693], [40, 3.7280863061228193], [27, 3.7355163437358763], [48, 3.7508061545576665], [88, 3.7624630034489406], [45, 3.7813801144666934], [17, 3.804094264398342], [96, 3.8404182106424254], [2, 3.938643849977663], [29, 4.01556552779391], [3, 4.0247615578967455], [25, 4.031379645111626], [33, 4.075223234741593], [73, 4.12656659017237], [35, 4.12690982363005], [81, 4.1544680146101305], [28, 4.169821956463777], [95, 4.170050362233833], [8, 4.1772844738489185], [74, 4.2079851399541095], [62, 4.26883677720934], [85, 4.2811030709978], [5, 4.323334965935273], [90, 4.3477445000575905], [78, 4.744133518286167], [57, 4.77804966476062], [6, 5.048872019118793], [80, 5.067299268060941], [70, 5.10166065427279], [32, 5.138772242621102], [37, 5.21629636637451], [21, 5.624099453817072]]\n",
      "[[96, 0.626702962883096], [56, 0.7797935389341336], [24, 0.7805463021587253], [91, 0.8557914062715445], [81, 0.8696120447313336], [101, 0.9878681886823502], [14, 0.9999497832036363], [51, 1.0299252507049388], [45, 1.1418824701740862], [65, 1.1558054149232617], [52, 1.1775911363066576], [18, 1.2066602720203181], [10, 1.2959359535836188], [17, 1.3269852354200016], [27, 1.4024154934070634], [13, 1.4662686607356628], [30, 1.48289193775942], [23, 1.508807586615241], [33, 1.5282633062577593], [79, 1.5295184191937654], [11, 1.5952594036819039], [40, 1.68151676783976], [93, 1.6853134264180976], [42, 1.6922943543921551], [83, 1.7022153635523207], [67, 1.743294189425989], [26, 1.7454928628599937], [71, 1.7636539157614877], [15, 1.782658027584371], [66, 1.782658027584371], [20, 1.8116478843510497], [9, 1.843181366389805], [92, 1.8988839490994307], [68, 1.9456298472096631], [75, 1.9492581132210727], [36, 1.962695773747527], [72, 2.105676353175501], [88, 2.1597703955297276], [34, 2.1695798853806925], [35, 2.2508094957800022], [99, 2.298449507827248], [74, 2.337662319698303], [48, 2.365211954254494], [49, 2.367087999160844], [29, 2.398619265261876], [22, 2.4592477896339067], [59, 2.4852151346319222], [38, 2.5224852989519415], [100, 2.5613309960118116], [69, 2.5747656932097946], [8, 2.678806860792918], [28, 2.7018898868290284], [95, 2.7393896526917465], [78, 2.759239177893854], [84, 2.791001486791231], [73, 2.865518458853703], [61, 2.887070288293363], [98, 2.9220525633904506], [2, 3.0013635728553982], [46, 3.0326066130668066], [5, 3.0388715222936535], [63, 3.0620396344344183], [77, 3.1214062890332603], [62, 3.1327847692259474], [3, 3.187701531433963], [37, 3.1997484546388755], [103, 3.2090227222170364], [90, 3.214522873934273], [4, 3.2262760321401234], [60, 3.2578916362048957], [21, 3.2765774185833623], [19, 3.278711410945819], [76, 3.286641174549544], [1, 3.3131615968995725], [64, 3.342568676343886], [12, 3.353239323443031], [6, 3.3808700950628694], [102, 3.4034308909418116], [85, 3.4256052014433656], [47, 3.4285167677239503], [41, 3.444271843478577], [53, 3.4565649830209524], [25, 3.4620627870154888], [70, 3.462269313342299], [16, 3.5040512096628755], [104, 3.5385756677380207], [97, 3.575808158387984], [55, 3.608741770156413], [89, 3.630076435921931], [58, 3.691560979933454], [87, 3.8919219796612916], [54, 3.9470750881462062], [31, 3.969246683486504], [82, 3.971179074056775], [50, 4.031832262836303], [43, 4.099172549598442], [44, 4.1569370720798595], [86, 4.197961140443792], [39, 4.210046205682532], [57, 4.221792946679809], [7, 4.568293098300322], [80, 4.739105927878909], [32, 4.76011563320428], [94, 4.8468301534393925], [0, 4.985579723327398]]\n",
      "[[24, 0.3677236072823141], [14, 0.4603935325172934], [56, 0.487860919267666], [91, 0.5469757567515251], [65, 0.7388706803460432], [101, 0.7914397438561719], [10, 0.8253961291254993], [51, 0.8788328549833245], [81, 0.9013264167171818], [96, 0.9956473625500708], [11, 1.0002705732074937], [18, 1.0002705732074937], [17, 1.0395488908093633], [52, 1.0673132038690114], [30, 1.1775911363066576], [23, 1.2100631052403115], [45, 1.2176066912107348], [79, 1.3272991720700449], [27, 1.360069015761997], [67, 1.4050015606582655], [83, 1.4068789666342305], [15, 1.4123195493018565], [66, 1.4123195493018565], [13, 1.4244031997478326], [33, 1.4485891223736707], [71, 1.557167819783123], [40, 1.5755381111208198], [26, 1.61611278647475], [68, 1.6169258345783728], [93, 1.6297654032104811], [20, 1.6383199093190413], [92, 1.6387533750525212], [42, 1.650632410175632], [72, 1.6617127058089585], [36, 1.7069486090692156], [75, 1.8051873293036114], [34, 1.898290200708331], [9, 1.9494711043658175], [29, 1.9860410834350017], [88, 2.026688840372585], [35, 2.109481911823207], [74, 2.1781812319701266], [69, 2.2731186614263335], [48, 2.2857688065501316], [99, 2.304555670120332], [100, 2.357095234700236], [22, 2.3730821690672457], [49, 2.394400879828667], [38, 2.3959645033279484], [28, 2.5524246594979787], [59, 2.5690420976530457], [95, 2.628419528167027], [84, 2.645810680990598], [61, 2.6486984785603713], [98, 2.6893223171692826], [2, 2.785696511398766], [73, 2.8303897120827743], [46, 2.8347070094733633], [8, 2.835869836068353], [63, 2.840445590837758], [77, 2.889951981952619], [5, 2.903296468110762], [78, 2.9450400773024445], [103, 2.948938488136137], [60, 2.9706257479181226], [19, 3.0313685551675085], [4, 3.047712818063626], [3, 3.0750212481214505], [90, 3.1100394173252157], [12, 3.1118259529216448], [76, 3.138325368904524], [47, 3.15002100165575], [64, 3.1538041536390544], [85, 3.166381331954345], [102, 3.169093186886164], [1, 3.1987560177868937], [62, 3.203217968217123], [25, 3.205473377472495], [104, 3.243503502767358], [16, 3.2638131080726165], [53, 3.2806085092813024], [41, 3.2900419099731937], [37, 3.410973142996934], [89, 3.4325008879707273], [55, 3.4465059551494344], [21, 3.4687725234004643], [97, 3.4759516259059797], [58, 3.476408111193637], [6, 3.5162322568716164], [70, 3.58605739324845], [87, 3.68820127867646], [31, 3.7474794533423137], [54, 3.8100470782454243], [82, 3.815822807328721], [43, 3.87116487737783], [44, 3.892124315123799], [50, 3.92724262981385], [86, 3.9886767034675397], [39, 4.01436362998379], [57, 4.137407506538285], [7, 4.480589428289409], [94, 4.670677065350713], [32, 4.77360587434144], [80, 4.805132114476954], [0, 4.838385389874862]]\n",
      "[[78, 0.31292364621015784], [8, 0.4666290381469092], [6, 0.6083939118690598], [37, 0.6394474284694712], [62, 0.7215753955580276], [70, 0.8567349458029941], [73, 0.9297751762923968], [99, 1.0699581386804136], [48, 1.095156559794302], [59, 1.1117502348719621], [21, 1.1230738871813626], [90, 1.1527445378556858], [28, 1.1621579800908544], [95, 1.1855781359327064], [5, 1.2339242352241153], [35, 1.2475743983950875], [38, 1.268040867685953], [88, 1.2753271911924196], [3, 1.283989626103201], [74, 1.2952725979955397], [49, 1.312802813519381], [84, 1.396796289959589], [9, 1.4443646674086568], [42, 1.463656424023455], [40, 1.520955007489668], [2, 1.5563913223097392], [20, 1.5988531797671535], [22, 1.693739026855124], [33, 1.6968483925943088], [27, 1.7397125167222702], [45, 1.7621390514452804], [85, 1.7872081873453176], [26, 1.7939890611137084], [79, 1.796569137714821], [34, 1.8058379844793144], [75, 1.8379318743715274], [57, 1.8636429912760104], [93, 1.8713238709425337], [25, 1.8907660813465212], [13, 1.9020851561936698], [71, 1.9193286271973995], [15, 1.9994629601785172], [66, 1.9994629601785172], [69, 2.0202425255666085], [29, 2.108394316411016], [36, 2.1239550958558304], [32, 2.203647315870596], [80, 2.2120833550153245], [61, 2.2185470469144266], [96, 2.230517637858994], [23, 2.3002932937899168], [83, 2.3698789797674378], [81, 2.404086720059353], [30, 2.410026583496608], [92, 2.420725982281118], [18, 2.4494634648156834], [101, 2.4724463282006877], [52, 2.4875334761134793], [68, 2.5085299831732866], [72, 2.5604082239600947], [65, 2.6502361470818814], [67, 2.651641554647315], [14, 2.7833093580862207], [91, 2.7929617032880953], [51, 2.8066091138375473], [11, 2.9706173832154184], [24, 2.9916052626611536], [56, 3.0617581019250304], [10, 3.7000848668045], [17, 3.9623813074950793], [76, 4.178994473477304], [77, 4.2092470326121285], [1, 4.230399983850472], [50, 4.334171587886004], [97, 4.379094459083988], [102, 4.429855036014997], [41, 4.471186283590227], [55, 4.501227056614592], [53, 4.5066018266140935], [46, 4.532920748114722], [54, 4.535443553000916], [89, 4.546270551468107], [64, 4.561422724397806], [98, 4.569903684325861], [63, 4.578195567352758], [43, 4.5878630661811695], [4, 4.591485819635402], [82, 4.598133608622493], [16, 4.603341353000631], [31, 4.619141652279232], [58, 4.652856017664539], [19, 4.687599780605043], [7, 4.7490484632389025], [87, 4.749238408431257], [86, 4.768625892271472], [103, 4.774270980092134], [12, 4.7868220349928166], [39, 4.792706338415581], [60, 4.991213630142515], [104, 5.0335015557053255], [100, 5.039135897375534], [0, 5.089635819380604], [94, 5.153233606039487], [44, 5.177802353290196], [47, 5.197041818635117]]\n",
      "[[73, 0.2662756036927657], [95, 0.33625023193363685], [28, 0.4225356142091614], [5, 0.47628351282746273], [48, 0.5367291336605147], [90, 0.5770253219040232], [99, 0.6104723510024026], [84, 0.64273789505986], [38, 0.6662133921731462], [35, 0.6708942861043772], [74, 0.6836857282908118], [3, 0.7102947176939489], [2, 0.7273917446507915], [88, 0.7610556171921046], [62, 0.8267855011746669], [8, 0.8349590898091461], [59, 0.8987452950835427], [49, 0.9477325108822958], [78, 0.9623448373032439], [20, 1.0270049444211324], [40, 1.0565023996483534], [85, 1.0963353136564689], [34, 1.1197603450120417], [42, 1.1200288232576079], [6, 1.153479711941058], [25, 1.1722047263164925], [70, 1.1725270821408265], [22, 1.18054695362893], [9, 1.2175044754268942], [69, 1.3097379635326596], [26, 1.3520975050466961], [75, 1.352810221215921], [33, 1.3571571595849932], [37, 1.3724773666314198], [29, 1.3739573008680315], [79, 1.3789142213503514], [71, 1.3926373511691792], [15, 1.4373852165940335], [66, 1.4373852165940335], [93, 1.4682135755263015], [36, 1.5358842282288052], [27, 1.555475768345023], [45, 1.559447338644592], [57, 1.5925126532902836], [13, 1.5942409914609703], [61, 1.594898024470274], [21, 1.655157839359786], [23, 1.8494381717147887], [83, 1.8666424192064504], [92, 1.9302649851723932], [30, 1.93146288818062], [72, 1.955614075923902], [68, 1.9637374311948654], [18, 2.0434226346747337], [67, 2.10767326952448], [101, 2.108640471068897], [96, 2.112675563923799], [52, 2.162134999405197], [81, 2.244004575497487], [32, 2.250139372054938], [65, 2.263498928460696], [80, 2.3338535175973965], [14, 2.3752376931829597], [11, 2.4313471333670975], [91, 2.449210324643658], [51, 2.4521616821559267], [24, 2.656157915191019], [56, 2.74446894674165], [10, 3.318662689879547], [17, 3.66669861591405], [77, 3.7175885784549823], [76, 3.728505593586727], [1, 3.826923482100112], [50, 3.9302246311562445], [102, 3.940278742502574], [97, 3.969837712510638], [41, 4.036318789662673], [55, 4.062894829010037], [53, 4.063827503001583], [89, 4.075804054913349], [46, 4.09596322124823], [43, 4.1022706188112625], [54, 4.110716294105935], [98, 4.113037609606912], [64, 4.113306201306456], [31, 4.1250255591769935], [63, 4.134524182460386], [16, 4.142739134462002], [4, 4.146933564721913], [82, 4.162181685442824], [58, 4.1706315433241095], [19, 4.225542525508336], [87, 4.28369382519298], [86, 4.291519573500601], [103, 4.310772321480648], [12, 4.3174320443675835], [39, 4.336246242639193], [7, 4.358378215757434], [60, 4.517773830628086], [104, 4.541171940093408], [100, 4.655714717267553], [0, 4.6687638758927505], [44, 4.670159190672106], [94, 4.719106011958931], [47, 4.728750409130976]]\n",
      "[[87, 0.1789097112201713], [58, 0.3744473592991268], [89, 0.42547066910831616], [44, 0.4484972652784276], [55, 0.4535228237760233], [31, 0.5204718465727192], [53, 0.5396724387388561], [39, 0.5485779984913913], [82, 0.5553868214863615], [16, 0.5698536803484002], [86, 0.5858561572241522], [41, 0.6011855887955339], [102, 0.6288951561854803], [54, 0.663769084043065], [43, 0.7123162436856607], [64, 0.7133888459545237], [97, 0.7759430249945629], [1, 0.7908255150818396], [76, 0.8591724541950058], [77, 0.9175775286126201], [4, 0.944870084348387], [12, 0.9628774353393058], [19, 0.9678969133022776], [104, 1.1115069342430741], [50, 1.1180208188641623], [46, 1.159879866597245], [63, 1.1703394537739766], [94, 1.208358038185392], [103, 1.2155065530009654], [98, 1.4112581704442875], [7, 1.437814905516174], [60, 1.515011118371478], [0, 1.5663736389499734], [47, 1.570119034576608], [67, 2.715619497680735], [92, 2.7343304624456515], [68, 2.7344438007912273], [83, 2.9264247774458965], [72, 2.9623138408217278], [61, 2.9985877094088047], [51, 3.0111157307696175], [30, 3.030040119468648], [52, 3.03973149829203], [100, 3.0434927662508753], [36, 3.0503491562833442], [11, 3.061322607420874], [18, 3.097915037108278], [23, 3.1512882325110327], [75, 3.2028286218301036], [93, 3.207752115043887], [22, 3.2637130439386226], [101, 3.2815626152597672], [65, 3.2911410292792005], [71, 3.2975171157318828], [91, 3.2989421128183154], [69, 3.3253535683219138], [13, 3.3346860620620675], [26, 3.3402051430625725], [56, 3.357320257313523], [10, 3.3970255225124104], [14, 3.408709745692029], [24, 3.4282132507562744], [34, 3.5250676713582227], [9, 3.5556507432358413], [49, 3.604958327146102], [42, 3.753350841930639], [79, 3.7933945058685508], [59, 3.814561208936911], [20, 3.8228990121212885], [38, 3.8815083144480678], [84, 3.9094699800814787], [99, 3.9098535255679887], [15, 3.939283174157738], [66, 3.939283174157738], [27, 4.005005786511667], [48, 4.012995651124996], [40, 4.016802817830841], [88, 4.022467280037411], [17, 4.050728305194023], [45, 4.079572643630087], [96, 4.1515712078952], [2, 4.177449481102379], [25, 4.2372344614150075], [3, 4.258845499885771], [29, 4.26252907365846], [33, 4.369226253363043], [73, 4.39283810816051], [35, 4.395926496698192], [28, 4.422851873058395], [95, 4.440228693713887], [81, 4.443584740075394], [8, 4.45275993219434], [74, 4.476000231675117], [85, 4.491170527686889], [62, 4.5230165588610785], [5, 4.57670285446656], [90, 4.5908558541106785], [57, 4.988298707756239], [78, 5.031654389629234], [80, 5.268466667443205], [6, 5.317579418155664], [32, 5.332734216191879], [70, 5.379639241936457], [37, 5.4983019867061715], [21, 5.913374334339115]]\n",
      "[[46, 0.2662756036927652], [98, 0.29828780673213984], [63, 0.3342411741652066], [4, 0.5134686887769291], [103, 0.539562312934928], [19, 0.586597886319408], [12, 0.6108776621532578], [64, 0.6998835139907764], [60, 0.7467355219125529], [77, 0.8067034115204736], [104, 0.8772548913911878], [47, 0.9041517283949854], [53, 0.9304627693040785], [102, 0.9576831140304967], [41, 0.9589042719891495], [16, 0.9672899608337909], [1, 1.0421064041060093], [76, 1.074845982102971], [89, 1.1703394537739766], [58, 1.1709676552846864], [55, 1.1775911363066576], [97, 1.3118229829051316], [87, 1.385850574718069], [44, 1.5029517756179296], [31, 1.6382177151682586], [82, 1.6528467494446553], [54, 1.6836489975480962], [100, 1.7349293354836282], [39, 1.8455559946443982], [86, 1.851117082846752], [43, 1.8720201641583485], [51, 1.9602009744823055], [67, 1.9925607034987698], [50, 2.032573194289407], [52, 2.13179008636441], [92, 2.153118091750613], [10, 2.1538522600668895], [68, 2.1550333067072045], [11, 2.1770771737607713], [56, 2.192778754061724], [18, 2.2041267624108154], [91, 2.2283903872192425], [30, 2.2465511889478913], [83, 2.2478380143999455], [24, 2.2894867133230843], [101, 2.3196857155142006], [65, 2.341004041622229], [14, 2.3767919534531607], [23, 2.3968268092971523], [72, 2.4248751594324394], [7, 2.5080607628497966], [36, 2.510238158312165], [94, 2.547771738413603], [93, 2.5726929260659195], [13, 2.612594353968499], [71, 2.676988779873347], [75, 2.6793686532506475], [26, 2.7256314883354715], [17, 2.7521252101340776], [0, 2.8303008082717875], [61, 2.9032666184687246], [22, 2.955449077996296], [9, 2.969092172421392], [69, 3.0240570750664912], [34, 3.0351129125956895], [79, 3.049349528872737], [42, 3.0949610621089145], [96, 3.115608093186567], [20, 3.173305110041299], [45, 3.201911692994576], [27, 3.2075240245193206], [49, 3.213838901346868], [15, 3.2220190902522785], [66, 3.2220190902522785], [40, 3.303307652864094], [81, 3.394448258381915], [59, 3.4350171184406024], [99, 3.4461616148192387], [88, 3.4840635776435436], [38, 3.5042680668949524], [33, 3.542305091354546], [48, 3.5570594689253348], [84, 3.6175470259818945], [29, 3.6735848282668524], [35, 3.8096474438996095], [2, 3.8927281302987136], [74, 3.8973283018641407], [28, 3.991587965688995], [95, 4.00885741932281], [8, 4.0249978949404355], [73, 4.033975432065167], [3, 4.050361719245752], [25, 4.1090291509744175], [5, 4.225051554118649], [62, 4.243564184551025], [85, 4.286997646781961], [90, 4.310825970217315], [78, 4.496426913489944], [6, 4.925047064520102], [57, 4.972054729416516], [70, 4.988576402268622], [37, 4.993131083147488], [21, 5.316620160342767], [80, 5.366160615544017], [32, 5.424725385931402]]\n",
      "[[98, 0.1789097112201719], [46, 0.23710977266679076], [63, 0.28389113479716893], [103, 0.4339999075400166], [4, 0.4894546250718631], [12, 0.5233730115255364], [19, 0.5325512073855309], [60, 0.6084996415729393], [64, 0.7011395107903206], [47, 0.7582486212496861], [104, 0.7630426060045059], [77, 0.8489165432641728], [53, 0.9538374722899928], [16, 0.9712326185918774], [102, 0.971987948546501], [41, 0.9899412581490132], [1, 1.1153315998906672], [76, 1.1346491795676517], [58, 1.1661916470998632], [89, 1.1835613305405348], [55, 1.2083580381853933], [97, 1.3625467972877803], [87, 1.3864853031610593], [44, 1.446195909299621], [31, 1.6516059580828164], [82, 1.683648997548096], [100, 1.6887868364260026], [54, 1.7224426905982546], [39, 1.860925538608157], [86, 1.8629759560688424], [43, 1.8974172822733393], [51, 2.0787140497509164], [50, 2.0922290809915767], [67, 2.1053553296617], [10, 2.210510509834902], [11, 2.2634488335442255], [52, 2.2649698348109566], [68, 2.273983579973256], [92, 2.2814547034825683], [56, 2.292173692809696], [18, 2.3276361872664517], [91, 2.338100199314916], [30, 2.367105472764042], [83, 2.3710533072878017], [24, 2.3875621367034463], [101, 2.439995743162268], [65, 2.4528626751990052], [14, 2.476628248430102], [23, 2.5204489119921494], [72, 2.529785284576983], [7, 2.549743314736257], [94, 2.562137602705663], [36, 2.632326018899783], [93, 2.7106466829005376], [13, 2.7526042923008367], [17, 2.801305815675276], [71, 2.8039691169361567], [75, 2.813765366770027], [0, 2.856427642006295], [26, 2.860113309260797], [61, 3.020750062331997], [22, 3.090001028546089], [9, 3.114576057158462], [69, 3.1385183902513387], [34, 3.1538310339247633], [79, 3.1736474701447452], [42, 3.231157626680753], [96, 3.2369979326635403], [20, 3.2959568763968172], [45, 3.329863387203291], [15, 3.331093832685967], [66, 3.331093832685967], [27, 3.340013360902507], [49, 3.355014373940825], [40, 3.4274762051941474], [81, 3.504691530214769], [59, 3.5792840241612227], [99, 3.583595507053015], [88, 3.61454070491845], [38, 3.636281275200365], [33, 3.6601364756427537], [48, 3.6911627163862857], [84, 3.7425885065003746], [29, 3.769615974430388], [35, 3.9330627311189135], [2, 4.008757311106117], [74, 4.01805135514928], [28, 4.116254430714886], [95, 4.130727373715413], [73, 4.16527300066926], [8, 4.1733592278177465], [3, 4.178757081501255], [25, 4.22022819975503], [5, 4.346805649213367], [62, 4.387482207750373], [85, 4.399572957405599], [90, 4.43790586711869], [78, 4.640222700149489], [6, 5.0688496505261], [57, 5.096706126473024], [70, 5.127162583424125], [37, 5.139143068979734], [21, 5.456347436160682], [80, 5.504096103439516], [32, 5.559413546653768]]\n",
      "[[59, 0.3129236462101575], [49, 0.4499471731077091], [99, 0.7274027808492013], [22, 0.7475215756994927], [8, 0.8549190656059515], [9, 0.8557914062715452], [62, 0.939101941195348], [84, 1.0210300485999761], [48, 1.0310128975035897], [38, 1.0322374350590455], [73, 1.0368176941701652], [3, 1.1649889705800873], [75, 1.1850766122650969], [93, 1.2188337307678148], [42, 1.279165637910593], [26, 1.2907861324864198], [88, 1.317276888636376], [61, 1.3275381680861298], [95, 1.352164559109678], [90, 1.3883109178675408], [34, 1.400210874019849], [71, 1.4054640685133366], [2, 1.431197694436448], [69, 1.4342046563599333], [20, 1.4380325463187906], [28, 1.4418124824621046], [36, 1.4444831450551963], [13, 1.451334153789181], [78, 1.465983529970815], [5, 1.476312487822632], [40, 1.5278479151775153], [35, 1.5770487712811017], [74, 1.657404086550642], [6, 1.6600404453303377], [92, 1.6861885979653737], [79, 1.7070222845698542], [25, 1.710478391679603], [70, 1.722796978117697], [83, 1.7482001167100452], [68, 1.795324745698397], [45, 1.829258593392212], [27, 1.8326329864597726], [23, 1.8328385502752933], [85, 1.8479490626677961], [30, 1.8608258732391736], [37, 1.8663387143925911], [57, 1.9069145084536239], [18, 1.9274287206418557], [67, 1.9397772067534544], [33, 1.9437562176299032], [52, 1.9576649482735988], [15, 1.9808547334939053], [66, 1.9808547334939053], [72, 2.000178575289438], [101, 2.061412171264648], [80, 2.157373258700232], [29, 2.178622938927122], [32, 2.2423621730461707], [96, 2.2490080269443387], [51, 2.2652334732101718], [65, 2.304216633688653], [21, 2.3651869013571263], [91, 2.415954430160255], [14, 2.4648590403140545], [11, 2.5076624283192226], [81, 2.610291530117509], [24, 2.6669046460693666], [56, 2.700934835141094], [76, 3.0018649961868342], [1, 3.0615358427700334], [50, 3.0647795718728132], [77, 3.1086975725561903], [97, 3.163831453793126], [54, 3.2994521417732448], [102, 3.304819268486263], [41, 3.3138976001698466], [55, 3.3221812125485886], [10, 3.3279580730992584], [53, 3.363800887041555], [82, 3.3720733946892505], [89, 3.3751399201185377], [43, 3.3872033149735477], [31, 3.4154895077236995], [64, 3.455249812349349], [7, 3.4580341132650045], [58, 3.4900711995947242], [4, 3.5107132859141204], [46, 3.511512064666971], [16, 3.513642178983061], [86, 3.551384562573834], [87, 3.5684183518303008], [63, 3.571905232045665], [39, 3.5787334324796443], [98, 3.596172968896736], [19, 3.6559801439248107], [12, 3.741141131648674], [17, 3.774350807827266], [103, 3.783218221575564], [0, 3.823025842086921], [94, 3.9096526052379934], [104, 4.019246189599163], [44, 4.027669114868469], [60, 4.045528659815814], [47, 4.246159979267779], [100, 4.393095554459774]]\n",
      "[[90, 0.166143387531633], [5, 0.36369587232539624], [73, 0.389066982463834], [3, 0.42547066910831605], [95, 0.5928331498399271], [2, 0.6470928915285529], [28, 0.6836857282908124], [84, 0.712142881905481], [62, 0.7709637552180844], [85, 0.8245681406931115], [25, 0.8723870881813462], [38, 0.9306608634785843], [48, 0.9449690052842334], [99, 1.0260390478837713], [57, 1.0492758035523075], [8, 1.0937788343368628], [70, 1.0969393216293521], [74, 1.1115069342430752], [6, 1.123539613037035], [35, 1.1346491795676525], [59, 1.1699026257361813], [88, 1.2007750639441492], [49, 1.2424558408851156], [78, 1.2425017265414011], [22, 1.393256032126703], [34, 1.447764422589651], [69, 1.47071785950322], [20, 1.5040264449724343], [37, 1.5054790591046465], [40, 1.5789967189671767], [42, 1.6129526083235075], [61, 1.6478445482160113], [9, 1.6530706866903548], [29, 1.6607087627815906], [75, 1.716382019792585], [26, 1.7728732720602511], [32, 1.7854024660543852], [71, 1.8000694126006525], [21, 1.8200210521230384], [79, 1.865288174947436], [15, 1.8694314736460753], [66, 1.8694314736460753], [36, 1.8750782594016706], [33, 1.8869560628880342], [93, 1.8873780200772812], [80, 1.9209535588133904], [13, 2.0511203706264087], [27, 2.0625241100065197], [45, 2.107310635125257], [83, 2.247362255882027], [72, 2.2559820791422722], [92, 2.269262440517891], [23, 2.27154155290715], [68, 2.291914256669005], [30, 2.3498332395252337], [67, 2.4729466106371514], [18, 2.498898637547576], [101, 2.591201112506877], [52, 2.618495446479146], [96, 2.6644756850769027], [65, 2.7253968510597653], [81, 2.7848686153364013], [11, 2.8315950978511055], [14, 2.853148552447108], [51, 2.9178150914353993], [91, 2.9358999812357776], [24, 3.1512378264331518], [56, 3.238744335093036], [10, 3.7922742174451676], [76, 3.933062731118914], [77, 3.9487457975120948], [50, 4.015148762341573], [1, 4.040463356361659], [102, 4.1469936465296025], [97, 4.153308878358899], [17, 4.174031995638366], [43, 4.193376434775769], [54, 4.238861471824023], [31, 4.2467949858673855], [55, 4.249673344995058], [41, 4.250807299387414], [89, 4.258845499885771], [53, 4.278858332798192], [82, 4.292211296636905], [58, 4.354542346339919], [64, 4.355165903446466], [16, 4.358052801608073], [46, 4.389243966047601], [86, 4.392484258462867], [7, 4.3989595222596565], [4, 4.41396038503097], [98, 4.426123091010459], [63, 4.427107343659049], [39, 4.442543791937151], [87, 4.445484036016971], [19, 4.49194834706294], [12, 4.5827257928783025], [103, 4.599934326517919], [0, 4.668089748317331], [94, 4.756059881743873], [104, 4.803278957278959], [60, 4.825292835281875], [44, 4.836509433971752], [47, 5.035748839207145], [100, 5.092535133915399]]\n",
      "[[34, 0.20917956571157212], [69, 0.49095482752202835], [71, 0.5830207912474813], [88, 0.6071732239612583], [20, 0.6108776621532577], [75, 0.6455396578227774], [36, 0.6462300120082746], [26, 0.6638053654004719], [38, 0.6868185797302818], [15, 0.7133888459545229], [66, 0.7133888459545229], [79, 0.7489357391361643], [48, 0.7617265857071861], [42, 0.7764096454183607], [72, 0.7995513490072345], [40, 0.8513186115677654], [83, 0.8980884711341763], [84, 0.8998943462154183], [35, 0.9031661754092045], [23, 0.9056281610875258], [93, 0.908324162099998], [29, 0.9221805720621573], [22, 0.9226291586997674], [68, 0.9425285055596233], [74, 0.9679867581690051], [92, 0.9716839517762847], [13, 0.9727023468373983], [99, 0.979889435610753], [28, 0.9818687155974326], [2, 1.0124728620553334], [30, 1.0133676156444715], [61, 1.0237853052572734], [49, 1.0955580811705838], [27, 1.1245311329425054], [9, 1.1341647436507771], [67, 1.159811265792108], [95, 1.1730439346445714], [33, 1.2570710998918213], [18, 1.2572035513804032], [3, 1.2995313696671036], [59, 1.3000081129911625], [5, 1.3027477919803083], [73, 1.3062057875134525], [45, 1.3147378008584056], [25, 1.3368959352589351], [85, 1.3500058933466461], [65, 1.3655850673127923], [101, 1.370107034766774], [52, 1.3869304119650323], [11, 1.3923862490413923], [90, 1.428671914978256], [14, 1.5439351309388594], [8, 1.6458437402987263], [91, 1.6646664009929333], [51, 1.6859750021282758], [62, 1.7189623246718364], [96, 1.8501117301888128], [24, 1.8808360340548052], [81, 1.8881871490758946], [78, 1.9635963008741983], [56, 1.970957376445478], [6, 2.264023388086711], [70, 2.3479950222615544], [57, 2.3581630660085815], [37, 2.421803477142576], [10, 2.43749065550755], [21, 2.6616836584552455], [77, 2.8424037646423237], [17, 2.9024481521647605], [76, 2.9660929613699802], [32, 3.041790514967882], [1, 3.0635045843295874], [102, 3.0643947206387767], [80, 3.1431382198422098], [98, 3.1776732415845936], [46, 3.1849011077426446], [63, 3.1972714563383358], [16, 3.2199493661740917], [53, 3.2264398076264826], [41, 3.2288566143427135], [64, 3.2441322519441633], [89, 3.253539119020051], [97, 3.264999607318665], [55, 3.2659767299511664], [19, 3.2740180870215445], [4, 3.278791890780019], [43, 3.321918760367326], [58, 3.3282716054176147], [50, 3.3291371398691987], [31, 3.334513473543123], [103, 3.340154055013322], [12, 3.3803361404808654], [54, 3.4038239615786003], [82, 3.4274649148493093], [87, 3.457620417338293], [60, 3.521920512577353], [86, 3.5236802209436835], [104, 3.551884894207142], [39, 3.5670849835226144], [47, 3.7329350800601224], [100, 3.7466725481865035], [44, 3.7755844906280474], [7, 3.8292345124876976], [94, 4.040481279432776], [0, 4.089475644351695]]\n",
      "[[9, 0.37010854054983683], [42, 0.3734821799837007], [93, 0.5324546856720846], [40, 0.5447337770508542], [20, 0.5486347922913779], [26, 0.5553868214863626], [99, 0.6258472924203154], [13, 0.6277580949801226], [71, 0.6505861703036222], [75, 0.6813190750084571], [79, 0.7198063845835138], [49, 0.7340790592116079], [45, 0.7514758878089643], [88, 0.7685764501938473], [48, 0.7934578963019824], [59, 0.8607530678960527], [34, 0.8647940710608203], [27, 0.8872682749801756], [36, 0.8900503334963022], [33, 0.9298182471332539], [22, 0.9304627693040795], [38, 0.9535249561555831], [35, 0.980563160903495], [23, 1.0060638159901525], [18, 1.0424149792859285], [30, 1.043885164278374], [83, 1.0552783279841358], [15, 1.0631963027922513], [66, 1.0631963027922513], [74, 1.0893830950379753], [101, 1.097088981054603], [52, 1.1341647436507778], [92, 1.1658555497170247], [84, 1.1669562738658552], [8, 1.1890673788412216], [96, 1.2106694393461104], [95, 1.2230766990892952], [28, 1.2353856790611686], [73, 1.241912281189178], [69, 1.2430822904375827], [68, 1.245490481319581], [67, 1.2784998505403924], [65, 1.359776727051414], [51, 1.405579399809655], [72, 1.411266342704911], [91, 1.4497087682309227], [2, 1.4593679035798146], [14, 1.459686994819869], [78, 1.4809818828055237], [29, 1.4844705801202316], [5, 1.504054676238418], [61, 1.5150111183714783], [81, 1.5252504887134262], [62, 1.535047146640178], [3, 1.5485971735620574], [90, 1.6232273631259548], [11, 1.6461503797810613], [24, 1.673319506627085], [56, 1.7351829417662965], [25, 1.9216985589329496], [85, 1.9363290610205224], [6, 1.9759586498949044], [37, 1.9929830059547458], [70, 2.0400762738942326], [21, 2.268034634908948], [10, 2.367966384533229], [57, 2.56327142657465], [17, 2.7420489831892696], [77, 2.941413881760332], [76, 2.980807703864817], [1, 3.0543825773485636], [80, 3.1074933042859088], [32, 3.1123761257603593], [102, 3.196098619024212], [98, 3.2028233488683684], [46, 3.204401714838343], [97, 3.2420637984648435], [63, 3.2489421069619318], [41, 3.2596245951812244], [4, 3.28845543149184], [53, 3.2890782998703862], [64, 3.2961233285049594], [55, 3.3332429557224788], [89, 3.358162964313019], [16, 3.3814132218490154], [19, 3.382368478113603], [50, 3.3838762086750704], [103, 3.4365337037461323], [58, 3.4515226318643166], [12, 3.471452104997074], [54, 3.478719147100951], [31, 3.5172309183967094], [82, 3.5269200330383597], [43, 3.553626233479775], [87, 3.5959783777653884], [60, 3.623926942392154], [100, 3.6346285222072865], [104, 3.7106243542222113], [86, 3.711637851500656], [39, 3.7433102009091614], [47, 3.8303178039362336], [7, 3.8746301475478573], [44, 3.9757338191386777], [94, 4.23523371347958], [0, 4.253305379083286]]\n",
      "[[53, 0.12116787044365074], [64, 0.23710977266679079], [41, 0.24891184063751787], [102, 0.26932994794916904], [58, 0.28851266095201167], [89, 0.29703489536245103], [16, 0.3322867750632648], [55, 0.33424117416520654], [87, 0.46388866970633286], [77, 0.48635117341869916], [4, 0.4909548275220274], [1, 0.49782368127503585], [76, 0.551556500287808], [19, 0.5893450375905064], [12, 0.5975107133993774], [97, 0.6579922828459398], [46, 0.7011395107903206], [44, 0.7263821153382862], [63, 0.7340790592116068], [31, 0.7489357391361653], [82, 0.7804164505019656], [103, 0.8436950906631094], [54, 0.8436950906631102], [104, 0.867999815080031], [39, 0.9304627693040785], [86, 0.9380071982153928], [98, 0.9628774353393058], [43, 0.9917290402612728], [60, 1.1786900751810134], [50, 1.263921996024004], [47, 1.2791656379105925], [94, 1.6348059982314076], [7, 1.6959835087404487], [0, 1.9395017634264797], [67, 2.3183014477963275], [92, 2.378020704359246], [68, 2.3783970484674155], [83, 2.5486790896239637], [51, 2.5518470856606212], [100, 2.6094342336488188], [52, 2.613217589135128], [30, 2.628201862650454], [72, 2.6302979775605078], [11, 2.6478520056757673], [18, 2.6701367021608795], [36, 2.70561648516265], [23, 2.7624401323516445], [61, 2.7877782070263786], [93, 2.8404575759780126], [101, 2.8430234677145116], [91, 2.8434183231521053], [65, 2.864958025328068], [75, 2.8677387046495193], [56, 2.887660842970545], [10, 2.9270234885867157], [71, 2.937454893110989], [13, 2.953788746989554], [14, 2.9622466168065777], [24, 2.9628562024573735], [26, 2.9840176447354287], [22, 2.987520434310123], [69, 3.0585786314299734], [34, 3.20464370292868], [9, 3.206920896440104], [49, 3.3100160057863723], [42, 3.3917320979419436], [79, 3.4128462618528834], [20, 3.4605700413464513], [59, 3.526997313739287], [15, 3.567967779528977], [66, 3.567967779528977], [17, 3.5759299934274136], [99, 3.5981637981561554], [38, 3.5998650042719333], [27, 3.6184840425549107], [40, 3.6397673737321004], [84, 3.649111055470873], [45, 3.6655357581511296], [88, 3.697585993958184], [96, 3.702225220462991], [48, 3.708871774456616], [2, 3.9237251788040477], [29, 3.9268674714983334], [33, 3.9671526629286458], [81, 3.9980529133917218], [3, 4.031083796488374], [25, 4.037070928950026], [35, 4.058421026215951], [73, 4.116507034444507], [28, 4.12979602647779], [74, 4.14083753264145], [95, 4.141812721956435], [8, 4.162096681572098], [85, 4.271058217781951], [62, 4.277306497568344], [5, 4.305421580458621], [90, 4.343302136052695], [78, 4.712486339349876], [57, 4.829037737062697], [6, 5.042838209757195], [70, 5.101736783913772], [80, 5.154172205595402], [37, 5.192282392250447], [32, 5.216976120749833], [21, 5.581725463355502]]\n",
      "[[46, 0.13163218429030077], [63, 0.1877210107234789], [4, 0.33774794425467], [19, 0.36369587232539613], [98, 0.37444735929912715], [12, 0.3767839790131852], [103, 0.3866030359317959], [64, 0.49719350624359054], [60, 0.6710297133703148], [104, 0.6710297133703148], [53, 0.7436185877288664], [16, 0.7487399649430185], [77, 0.7488947185982531], [41, 0.7934780156080447], [47, 0.795749924642828], [102, 0.8067034115204736], [1, 0.9349894575840679], [58, 0.971987948546501], [89, 0.98950192082113], [55, 0.9986544580217359], [76, 0.999949783203636], [87, 1.1661916470998632], [97, 1.1860174219931423], [44, 1.2469915856749432], [31, 1.456821794810362], [82, 1.4696575520305375], [54, 1.5139445814464405], [39, 1.6357937354543048], [86, 1.6506276829365538], [43, 1.6920091007297278], [50, 1.9022073729591369], [100, 1.9257548706786125], [67, 2.202522020127317], [51, 2.227122894536442], [94, 2.330491363434851], [92, 2.333284523070786], [68, 2.3348013777675627], [7, 2.351138021416702], [52, 2.3715745022601147], [11, 2.401877623269007], [10, 2.41996823954269], [18, 2.4483458880631677], [83, 2.4498387811922036], [56, 2.4682229958284716], [30, 2.468895841385488], [91, 2.494098644853817], [24, 2.562559375591777], [101, 2.574802266227265], [65, 2.58199900118459], [72, 2.592985522651146], [23, 2.611336272791808], [14, 2.636351670531641], [0, 2.638361939073232], [36, 2.696717182609613], [93, 2.778661678066664], [13, 2.827661359737775], [75, 2.86355038785286], [71, 2.879580567676445], [26, 2.9261602045247126], [61, 3.009887195230001], [17, 3.020302166013179], [22, 3.1080386880230964], [69, 3.169649041902834], [9, 3.170892041503835], [34, 3.2179169905733103], [79, 3.272557112297984], [42, 3.3071643791440475], [49, 3.3854067272901243], [96, 3.388353069834892], [20, 3.3887510241274246], [27, 3.434770601240989], [15, 3.4406017064316936], [66, 3.4406017064316936], [45, 3.451928747704285], [40, 3.530922687602326], [59, 3.605996313510983], [99, 3.6335822943163545], [81, 3.66362756632395], [38, 3.6714674279203594], [88, 3.6779800554118216], [48, 3.740026051131116], [84, 3.7753504818829193], [33, 3.789007283108971], [29, 3.875415821797893], [35, 4.017655849055447], [2, 4.050614512720904], [74, 4.10511471594058], [28, 4.174433674118979], [3, 4.195023280337555], [95, 4.197460491566344], [8, 4.206108512908061], [73, 4.209163089006434], [25, 4.236859415868717], [5, 4.399240197015469], [62, 4.401005072919135], [85, 4.428508222963028], [90, 4.471418714406766], [78, 4.701343395538104], [57, 5.089936337477337], [6, 5.107762796707038], [70, 5.175462609602742], [37, 5.1940006397702465], [80, 5.460906244668513], [32, 5.521179878346123], [21, 5.535483802760684]]\n"
     ]
    }
   ],
   "source": [
    "predicted_y = KNN.predict(data_test)"
   ]
  },
  {
   "cell_type": "code",
   "execution_count": 11,
   "metadata": {},
   "outputs": [],
   "source": [
    "new_irisDF = pd.DataFrame(data_test.copy())\n",
    "new_irisDF[\"y_real\"] = target_test\n",
    "new_irisDF[\"y_predicted\"] = predicted_y"
   ]
  },
  {
   "cell_type": "code",
   "execution_count": 12,
   "metadata": {},
   "outputs": [
    {
     "data": {
      "text/html": [
       "<div>\n",
       "<style scoped>\n",
       "    .dataframe tbody tr th:only-of-type {\n",
       "        vertical-align: middle;\n",
       "    }\n",
       "\n",
       "    .dataframe tbody tr th {\n",
       "        vertical-align: top;\n",
       "    }\n",
       "\n",
       "    .dataframe thead th {\n",
       "        text-align: right;\n",
       "    }\n",
       "</style>\n",
       "<table border=\"1\" class=\"dataframe\">\n",
       "  <thead>\n",
       "    <tr style=\"text-align: right;\">\n",
       "      <th></th>\n",
       "      <th>sepal length (cm)</th>\n",
       "      <th>sepal width (cm)</th>\n",
       "      <th>petal length (cm)</th>\n",
       "      <th>petal width (cm)</th>\n",
       "      <th>y_real</th>\n",
       "      <th>y_predicted</th>\n",
       "    </tr>\n",
       "  </thead>\n",
       "  <tbody>\n",
       "    <tr>\n",
       "      <th>148</th>\n",
       "      <td>0.432165</td>\n",
       "      <td>0.788808</td>\n",
       "      <td>0.933271</td>\n",
       "      <td>1.448832</td>\n",
       "      <td>2</td>\n",
       "      <td>2</td>\n",
       "    </tr>\n",
       "    <tr>\n",
       "      <th>5</th>\n",
       "      <td>-0.537178</td>\n",
       "      <td>1.939791</td>\n",
       "      <td>-1.169714</td>\n",
       "      <td>-1.052180</td>\n",
       "      <td>0</td>\n",
       "      <td>0</td>\n",
       "    </tr>\n",
       "    <tr>\n",
       "      <th>6</th>\n",
       "      <td>-1.506521</td>\n",
       "      <td>0.788808</td>\n",
       "      <td>-1.340227</td>\n",
       "      <td>-1.183812</td>\n",
       "      <td>0</td>\n",
       "      <td>0</td>\n",
       "    </tr>\n",
       "    <tr>\n",
       "      <th>106</th>\n",
       "      <td>-1.143017</td>\n",
       "      <td>-1.282963</td>\n",
       "      <td>0.421734</td>\n",
       "      <td>0.659038</td>\n",
       "      <td>2</td>\n",
       "      <td>1</td>\n",
       "    </tr>\n",
       "    <tr>\n",
       "      <th>75</th>\n",
       "      <td>0.916837</td>\n",
       "      <td>-0.131979</td>\n",
       "      <td>0.364896</td>\n",
       "      <td>0.264142</td>\n",
       "      <td>1</td>\n",
       "      <td>1</td>\n",
       "    </tr>\n",
       "  </tbody>\n",
       "</table>\n",
       "</div>"
      ],
      "text/plain": [
       "     sepal length (cm)  sepal width (cm)  petal length (cm)  petal width (cm)  \\\n",
       "148           0.432165          0.788808           0.933271          1.448832   \n",
       "5            -0.537178          1.939791          -1.169714         -1.052180   \n",
       "6            -1.506521          0.788808          -1.340227         -1.183812   \n",
       "106          -1.143017         -1.282963           0.421734          0.659038   \n",
       "75            0.916837         -0.131979           0.364896          0.264142   \n",
       "\n",
       "     y_real  y_predicted  \n",
       "148       2            2  \n",
       "5         0            0  \n",
       "6         0            0  \n",
       "106       2            1  \n",
       "75        1            1  "
      ]
     },
     "execution_count": 12,
     "metadata": {},
     "output_type": "execute_result"
    }
   ],
   "source": [
    "new_irisDF.head()"
   ]
  },
  {
   "cell_type": "markdown",
   "metadata": {},
   "source": [
    "The confusion matrix is one of the most common tools for the evaluation of classification models.\n",
    "\n",
    "**T7.** Implement the functions `ConfusionMatrix(y_real, y_predicted)` and `Accuracy(y_real, y_predicted)`. The first function should return the confusion matrix given the predicted and real values of the target variable. The second function should return the accuracy given the predicted and real values of the target variable. Use your functions to evaluate the model obtained in **T6**."
   ]
  },
  {
   "cell_type": "code",
   "execution_count": 13,
   "metadata": {},
   "outputs": [],
   "source": [
    "def ConfusionMatrix(y_real, y_predicted):\n",
    "    \"\"\"    \n",
    "    function to compute the Confusion Matrix\n",
    "        \n",
    "    Input:\n",
    "    y_real: real values of target variable of the data\n",
    "    y_predicted: predicted values of target variable of the data\n",
    "        \n",
    "    Output:\n",
    "    return the confusion matrix\n",
    "    \n",
    "    \"\"\"\n",
    "    #transforming to numpy arrays to ease everything\n",
    "    y_real = np.array(y_real)\n",
    "    y_predicted = np.array(y_predicted)\n",
    "    \n",
    "    #getting the unique classes\n",
    "    unicos = np.unique(y_real)\n",
    "    \n",
    "    #initialiing the confusion matrix\n",
    "    confunsion_matrix = [[0 for j in unicos] for _ in unicos]\n",
    "    \n",
    "    #auxiliar counter\n",
    "    count = 0\n",
    "    #going through each row of each class\n",
    "    for i in range(len(unicos)):\n",
    "        for value1, value2 in zip(y_real, y_predicted):\n",
    "            if value1 == unicos[i]:\n",
    "                if value1 == value2:\n",
    "                    confunsion_matrix[i][count] += 1\n",
    "                else:\n",
    "                    aux = list(unicos).index(value2)\n",
    "                    \n",
    "                    confunsion_matrix[i][aux] += 1\n",
    "                    \n",
    "        count += 1\n",
    "    return np.array(confunsion_matrix)"
   ]
  },
  {
   "cell_type": "code",
   "execution_count": 14,
   "metadata": {},
   "outputs": [
    {
     "data": {
      "text/plain": [
       "array([[15,  0,  0],\n",
       "       [ 0, 13,  2],\n",
       "       [ 0,  1, 14]])"
      ]
     },
     "execution_count": 14,
     "metadata": {},
     "output_type": "execute_result"
    }
   ],
   "source": [
    "ConfusionMatrix(new_irisDF.y_real, new_irisDF.y_predicted)"
   ]
  },
  {
   "cell_type": "code",
   "execution_count": 15,
   "metadata": {},
   "outputs": [],
   "source": [
    "def Accuracy(y_real, y_predicted):\n",
    "    \"\"\"    \n",
    "    Function to compute the accuracy of the model using the confusion matrix\n",
    "        \n",
    "    Input:\n",
    "    y_real: real values of target variable of the data\n",
    "    y_predicted: predicted values of target variable of the data\n",
    "        \n",
    "    Output:\n",
    "    return the accuracy\n",
    "    \"\"\"\n",
    "    confusion_result = ConfusionMatrix(y_real, y_predicted)\n",
    "    \n",
    "    #np.trace what it does, it is the su of the values of the diagonal of a matrix\n",
    "    return np.trace(confusion_result)/np.sum(confusion_result)"
   ]
  },
  {
   "cell_type": "code",
   "execution_count": 16,
   "metadata": {},
   "outputs": [
    {
     "data": {
      "text/plain": [
       "0.9333333333333333"
      ]
     },
     "execution_count": 16,
     "metadata": {},
     "output_type": "execute_result"
    }
   ],
   "source": [
    "Accuracy(new_irisDF.y_real, new_irisDF.y_predicted)"
   ]
  },
  {
   "cell_type": "markdown",
   "metadata": {},
   "source": [
    "**T8.** Make a plot of the *accuracy* as a function of k for different KNN models (k = [1,10]). Which is the most appropiate value of k?"
   ]
  },
  {
   "cell_type": "code",
   "execution_count": 17,
   "metadata": {},
   "outputs": [],
   "source": [
    "accuracy_list = []\n",
    "\n",
    "for K in range(1,11):\n",
    "    KNN_plot = KNNClassifier(k = K, distance = \"euclidean\")\n",
    "    KNN_plot.fit(data_train,target_train)\n",
    "    predicted_y = KNN_plot.predict(data_test)\n",
    "    accuracy_list.append(Accuracy(target_test, predicted_y))"
   ]
  },
  {
   "cell_type": "code",
   "execution_count": 18,
   "metadata": {},
   "outputs": [
    {
     "data": {
      "image/png": "[encoded data removed]",
      "text/plain": [
       "<Figure size 432x288 with 1 Axes>"
      ]
     },
     "metadata": {
      "needs_background": "light"
     },
     "output_type": "display_data"
    }
   ],
   "source": [
    "x_axis = list(range(1,11))\n",
    "\n",
    "\n",
    "plt.plot(x_axis, accuracy_list, color = 'red', marker = \"o\")\n",
    "plt.xlabel(\"K\")\n",
    "plt.ylabel(\"Accuracy\")\n",
    "plt.title(\"Accuracy depending on K-Neighbors\")\n",
    "plt.show()"
   ]
  },
  {
   "cell_type": "markdown",
   "metadata": {},
   "source": [
    "#### The most appropriate value of k:\n",
    "By looking at the graph above, we manage to notice how the accuracy score seems to improve, the larger the value of k. A small value of k means that noise will have a higher influence on the result and a large value will make it computationally expensive. For this specific dataset, we would choose 10 given the fact that 4, 6 and 10 all share the same accuracy score. But if we wanted to save some computational budget, we would probably work with a k value of 4."
   ]
  },
  {
   "cell_type": "markdown",
   "metadata": {},
   "source": [
    "### C. Scikit-Learn KNNClassifier\n",
    "\n",
    "Scikit-Learns implements a KNNClassifier Model [[4](https://scikit-learn.org/stable/modules/generated/sklearn.neighbors.KNeighborsClassifier.html#sklearn.neighbors.KNeighborsClassifier)] which learning is based on the *k* nearest neighbors of each query point, where *k* is an integer value to be specified by the user.\n",
    "\n",
    "Here are some interesting parameters to consider during modelling creation:\n",
    "* n_neighbors: Number of neighbors to use.\n",
    "* weights: {'uniform', 'distance'}: Weight function used in prediction. Observe that when 'distance' is used, weight points by the inverse of their distance.\n",
    "* algorithm: Algorithm used to compute the nearest neighbors. In the *part A*, it is probable that you implemented a brute-force search. \n",
    "\n",
    "**T9.** Complete the following modelling steps by using the datasets created in **T5** (`data_train`, `data_test`, `target_train`, `target_test`):\n",
    "* Create a KNeighborsClassifier Model with 5 number of neighbors and 'distance' as the value of the `weights`parameter.\n",
    "* Fit the data to the train set.\n",
    "* Predict the values of the test set.\n",
    "* Create a new dataframe with the following columns: *y_real* and *y_predicted* for the test set.\n",
    "* Obtain the confusion matrics by using `metrics.confusion_matrix`[[5](https://scikit-learn.org/stable/modules/generated/sklearn.metrics.confusion_matrix.html)]"
   ]
  },
  {
   "cell_type": "code",
   "execution_count": 19,
   "metadata": {},
   "outputs": [],
   "source": [
    "# Create your KNN model here\n",
    "KNN_sk = KNeighborsClassifier(n_neighbors = 5, weights = \"distance\")"
   ]
  },
  {
   "cell_type": "code",
   "execution_count": 20,
   "metadata": {},
   "outputs": [
    {
     "data": {
      "text/plain": [
       "KNeighborsClassifier(weights='distance')"
      ]
     },
     "execution_count": 20,
     "metadata": {},
     "output_type": "execute_result"
    }
   ],
   "source": [
    "# Fit the data to the train set here\n",
    "KNN_sk.fit(data_train, target_train)"
   ]
  },
  {
   "cell_type": "code",
   "execution_count": 21,
   "metadata": {},
   "outputs": [],
   "source": [
    "# Predict the values of the test set her\n",
    "sk_predicted_y = KNN_sk.predict(data_test)"
   ]
  },
  {
   "cell_type": "code",
   "execution_count": 22,
   "metadata": {},
   "outputs": [],
   "source": [
    "# Create a new dataframe with 'y_real' and 'y_predicted'\n",
    "sk_irisDF = pd.DataFrame(data_test.copy())\n",
    "sk_irisDF[\"y_real\"] = target_test\n",
    "sk_irisDF[\"y_predicted\"] = sk_predicted_y"
   ]
  },
  {
   "cell_type": "code",
   "execution_count": 23,
   "metadata": {},
   "outputs": [
    {
     "data": {
      "text/plain": [
       "array([[15,  0,  0],\n",
       "       [ 0, 13,  2],\n",
       "       [ 0,  1, 14]], dtype=int64)"
      ]
     },
     "execution_count": 23,
     "metadata": {},
     "output_type": "execute_result"
    }
   ],
   "source": [
    "# Obtain the confusion matrix here\n",
    "confusion_matrix = metrics.confusion_matrix(sk_irisDF.y_real, sk_irisDF.y_predicted)\n",
    "confusion_matrix"
   ]
  },
  {
   "cell_type": "code",
   "execution_count": 24,
   "metadata": {},
   "outputs": [
    {
     "data": {
      "image/png": "[encoded data removed]",
      "text/plain": [
       "<Figure size 432x288 with 2 Axes>"
      ]
     },
     "metadata": {
      "needs_background": "light"
     },
     "output_type": "display_data"
    }
   ],
   "source": [
    "# After obtaining the `confusion_matrix` in the las cell\n",
    "# execute this cell to print it into a graphical way.\n",
    "\n",
    "corr_im = plt.imshow(confusion_matrix, cmap=\"Reds\", vmin=0)\n",
    "corr_cbar = plt.colorbar(corr_im)\n",
    "\n",
    "corr_array = corr_im.get_array()\n",
    "for i in range(confusion_matrix.shape[0]):\n",
    "    for j in range(confusion_matrix.shape[1]):\n",
    "        cell_value = corr_array[i][j]\n",
    "        if cell_value > 0.5*np.max(confusion_matrix):\n",
    "            text_color = 'white'\n",
    "        else:\n",
    "            text_color = 'black'\n",
    "        plt.text(i, j, '{:.2f}'.format(cell_value), color=text_color, ha='center', va='center')\n",
    "\n",
    "plt.xticks(ticks=range(len(iris.target_names)), labels=iris.target_names)\n",
    "plt.yticks(ticks=range(len(iris.target_names)), labels=iris.target_names)\n",
    "\n",
    "plt.xlabel(\"True class\")\n",
    "plt.ylabel(\"Predicted class\")\n",
    "plt.show()"
   ]
  },
  {
   "cell_type": "markdown",
   "metadata": {},
   "source": [
    "**T10.** Select the appropiate number of *k* by training and evaluating several KNeighborsClassifier Models. This time evaluate each model by using `sklearn.model_selection.cross_val_score` [[6](https://scikit-learn.org/stable/modules/generated/sklearn.model_selection.cross_val_score.html)]. Use the accuracy to evaluate the model.\n",
    "\n",
    "Print the confusion matrix and accuracy for a model trained with the best value of *k*."
   ]
  },
  {
   "cell_type": "code",
   "execution_count": 25,
   "metadata": {},
   "outputs": [
    {
     "name": "stdout",
     "output_type": "stream",
     "text": [
      "Best K:  6\n"
     ]
    }
   ],
   "source": [
    "best_k = 0\n",
    "aux = float(\"-inf\")\n",
    "for K in range(1,11):\n",
    "    \n",
    "    KNN_classifier = KNeighborsClassifier(n_neighbors = K, weights = \"distance\")\n",
    "\n",
    "    temp = np.mean(cross_val_score(KNN_classifier, iris_data, iris_target, n_jobs = -1, scoring = \"accuracy\"))\n",
    "    if temp > aux:\n",
    "        best_k = K\n",
    "        aux = temp\n",
    "        \n",
    "print(\"Best K: \", best_k)"
   ]
  },
  {
   "cell_type": "code",
   "execution_count": 26,
   "metadata": {},
   "outputs": [
    {
     "data": {
      "text/plain": [
       "KNeighborsClassifier(n_neighbors=6, weights='distance')"
      ]
     },
     "execution_count": 26,
     "metadata": {},
     "output_type": "execute_result"
    }
   ],
   "source": [
    "KNN_classifier = KNeighborsClassifier(n_neighbors = best_k, weights = \"distance\")\n",
    "KNN_classifier.fit(data_train, target_train)"
   ]
  },
  {
   "cell_type": "code",
   "execution_count": 27,
   "metadata": {},
   "outputs": [],
   "source": [
    "# Predict the values of the test set \n",
    "KNN_predicted_y = KNN_classifier.predict(data_test)"
   ]
  },
  {
   "cell_type": "code",
   "execution_count": 28,
   "metadata": {},
   "outputs": [],
   "source": [
    "# Create a new dataframe with 'y_real' and 'y_predicted'\n",
    "KNN_irisDF = pd.DataFrame(data_test.copy())\n",
    "KNN_irisDF[\"y_real\"] = target_test\n",
    "KNN_irisDF[\"y_predicted\"] = KNN_predicted_y"
   ]
  },
  {
   "cell_type": "code",
   "execution_count": 29,
   "metadata": {},
   "outputs": [
    {
     "data": {
      "text/plain": [
       "0.9777777777777777"
      ]
     },
     "execution_count": 29,
     "metadata": {},
     "output_type": "execute_result"
    }
   ],
   "source": [
    "Accuracy(KNN_irisDF.y_real, KNN_irisDF.y_predicted)"
   ]
  },
  {
   "cell_type": "code",
   "execution_count": 30,
   "metadata": {},
   "outputs": [
    {
     "data": {
      "text/plain": [
       "0.9777777777777777"
      ]
     },
     "execution_count": 30,
     "metadata": {},
     "output_type": "execute_result"
    }
   ],
   "source": [
    "from sklearn.metrics import accuracy_score\n",
    "accuracy_score(KNN_irisDF.y_real, KNN_irisDF.y_predicted)"
   ]
  },
  {
   "cell_type": "code",
   "execution_count": 31,
   "metadata": {},
   "outputs": [
    {
     "data": {
      "text/plain": [
       "array([[15,  0,  0],\n",
       "       [ 0, 15,  0],\n",
       "       [ 0,  1, 14]], dtype=int64)"
      ]
     },
     "execution_count": 31,
     "metadata": {},
     "output_type": "execute_result"
    }
   ],
   "source": [
    "# Obtain the confusion matrix here\n",
    "confusion_matrix = metrics.confusion_matrix(KNN_irisDF.y_real, KNN_irisDF.y_predicted)\n",
    "confusion_matrix"
   ]
  },
  {
   "cell_type": "code",
   "execution_count": 32,
   "metadata": {},
   "outputs": [
    {
     "data": {
      "image/png": "[encoded data removed]",
      "text/plain": [
       "<Figure size 432x288 with 2 Axes>"
      ]
     },
     "metadata": {
      "needs_background": "light"
     },
     "output_type": "display_data"
    }
   ],
   "source": [
    "# After obtaining the `confusion_matrix` in the las cell\n",
    "# execute this cell to print it into a graphical way.\n",
    "\n",
    "corr_im = plt.imshow(confusion_matrix, cmap=\"Reds\", vmin=0)\n",
    "corr_cbar = plt.colorbar(corr_im)\n",
    "\n",
    "corr_array = corr_im.get_array()\n",
    "for i in range(confusion_matrix.shape[0]):\n",
    "    for j in range(confusion_matrix.shape[1]):\n",
    "        cell_value = corr_array[i][j]\n",
    "        if cell_value > 0.5*np.max(confusion_matrix):\n",
    "            text_color = 'white'\n",
    "        else:\n",
    "            text_color = 'black'\n",
    "        plt.text(i, j, '{:.2f}'.format(cell_value), color=text_color, ha='center', va='center')\n",
    "\n",
    "plt.xticks(ticks=range(len(iris.target_names)), labels=iris.target_names)\n",
    "plt.yticks(ticks=range(len(iris.target_names)), labels=iris.target_names)\n",
    "\n",
    "plt.xlabel(\"True class\")\n",
    "plt.ylabel(\"Predicted class\")\n",
    "plt.show()"
   ]
  },
  {
   "cell_type": "markdown",
   "metadata": {},
   "source": [
    "# KNN Regressor\n",
    "\n",
    "Consider the Boston Housing Data [[7](https://www.cs.toronto.edu/~delve/data/boston/bostonDetail.html)]. It contains information collected by the U.S. Census Service concerning housing in the area of Boston Mass. "
   ]
  },
  {
   "cell_type": "code",
   "execution_count": 33,
   "metadata": {},
   "outputs": [],
   "source": [
    "boston = datasets.load_boston()"
   ]
  },
  {
   "cell_type": "code",
   "execution_count": 34,
   "metadata": {},
   "outputs": [],
   "source": [
    "bostonDF = pd.DataFrame(boston.data, columns=boston.feature_names)\n",
    "bostonDF[\"PRICE\"] = boston.target"
   ]
  },
  {
   "cell_type": "code",
   "execution_count": 35,
   "metadata": {},
   "outputs": [
    {
     "data": {
      "text/html": [
       "<div>\n",
       "<style scoped>\n",
       "    .dataframe tbody tr th:only-of-type {\n",
       "        vertical-align: middle;\n",
       "    }\n",
       "\n",
       "    .dataframe tbody tr th {\n",
       "        vertical-align: top;\n",
       "    }\n",
       "\n",
       "    .dataframe thead th {\n",
       "        text-align: right;\n",
       "    }\n",
       "</style>\n",
       "<table border=\"1\" class=\"dataframe\">\n",
       "  <thead>\n",
       "    <tr style=\"text-align: right;\">\n",
       "      <th></th>\n",
       "      <th>CRIM</th>\n",
       "      <th>ZN</th>\n",
       "      <th>INDUS</th>\n",
       "      <th>CHAS</th>\n",
       "      <th>NOX</th>\n",
       "      <th>RM</th>\n",
       "      <th>AGE</th>\n",
       "      <th>DIS</th>\n",
       "      <th>RAD</th>\n",
       "      <th>TAX</th>\n",
       "      <th>PTRATIO</th>\n",
       "      <th>B</th>\n",
       "      <th>LSTAT</th>\n",
       "      <th>PRICE</th>\n",
       "    </tr>\n",
       "  </thead>\n",
       "  <tbody>\n",
       "    <tr>\n",
       "      <th>0</th>\n",
       "      <td>0.00632</td>\n",
       "      <td>18.0</td>\n",
       "      <td>2.31</td>\n",
       "      <td>0.0</td>\n",
       "      <td>0.538</td>\n",
       "      <td>6.575</td>\n",
       "      <td>65.2</td>\n",
       "      <td>4.0900</td>\n",
       "      <td>1.0</td>\n",
       "      <td>296.0</td>\n",
       "      <td>15.3</td>\n",
       "      <td>396.90</td>\n",
       "      <td>4.98</td>\n",
       "      <td>24.0</td>\n",
       "    </tr>\n",
       "    <tr>\n",
       "      <th>1</th>\n",
       "      <td>0.02731</td>\n",
       "      <td>0.0</td>\n",
       "      <td>7.07</td>\n",
       "      <td>0.0</td>\n",
       "      <td>0.469</td>\n",
       "      <td>6.421</td>\n",
       "      <td>78.9</td>\n",
       "      <td>4.9671</td>\n",
       "      <td>2.0</td>\n",
       "      <td>242.0</td>\n",
       "      <td>17.8</td>\n",
       "      <td>396.90</td>\n",
       "      <td>9.14</td>\n",
       "      <td>21.6</td>\n",
       "    </tr>\n",
       "    <tr>\n",
       "      <th>2</th>\n",
       "      <td>0.02729</td>\n",
       "      <td>0.0</td>\n",
       "      <td>7.07</td>\n",
       "      <td>0.0</td>\n",
       "      <td>0.469</td>\n",
       "      <td>7.185</td>\n",
       "      <td>61.1</td>\n",
       "      <td>4.9671</td>\n",
       "      <td>2.0</td>\n",
       "      <td>242.0</td>\n",
       "      <td>17.8</td>\n",
       "      <td>392.83</td>\n",
       "      <td>4.03</td>\n",
       "      <td>34.7</td>\n",
       "    </tr>\n",
       "    <tr>\n",
       "      <th>3</th>\n",
       "      <td>0.03237</td>\n",
       "      <td>0.0</td>\n",
       "      <td>2.18</td>\n",
       "      <td>0.0</td>\n",
       "      <td>0.458</td>\n",
       "      <td>6.998</td>\n",
       "      <td>45.8</td>\n",
       "      <td>6.0622</td>\n",
       "      <td>3.0</td>\n",
       "      <td>222.0</td>\n",
       "      <td>18.7</td>\n",
       "      <td>394.63</td>\n",
       "      <td>2.94</td>\n",
       "      <td>33.4</td>\n",
       "    </tr>\n",
       "    <tr>\n",
       "      <th>4</th>\n",
       "      <td>0.06905</td>\n",
       "      <td>0.0</td>\n",
       "      <td>2.18</td>\n",
       "      <td>0.0</td>\n",
       "      <td>0.458</td>\n",
       "      <td>7.147</td>\n",
       "      <td>54.2</td>\n",
       "      <td>6.0622</td>\n",
       "      <td>3.0</td>\n",
       "      <td>222.0</td>\n",
       "      <td>18.7</td>\n",
       "      <td>396.90</td>\n",
       "      <td>5.33</td>\n",
       "      <td>36.2</td>\n",
       "    </tr>\n",
       "  </tbody>\n",
       "</table>\n",
       "</div>"
      ],
      "text/plain": [
       "      CRIM    ZN  INDUS  CHAS    NOX     RM   AGE     DIS  RAD    TAX  \\\n",
       "0  0.00632  18.0   2.31   0.0  0.538  6.575  65.2  4.0900  1.0  296.0   \n",
       "1  0.02731   0.0   7.07   0.0  0.469  6.421  78.9  4.9671  2.0  242.0   \n",
       "2  0.02729   0.0   7.07   0.0  0.469  7.185  61.1  4.9671  2.0  242.0   \n",
       "3  0.03237   0.0   2.18   0.0  0.458  6.998  45.8  6.0622  3.0  222.0   \n",
       "4  0.06905   0.0   2.18   0.0  0.458  7.147  54.2  6.0622  3.0  222.0   \n",
       "\n",
       "   PTRATIO       B  LSTAT  PRICE  \n",
       "0     15.3  396.90   4.98   24.0  \n",
       "1     17.8  396.90   9.14   21.6  \n",
       "2     17.8  392.83   4.03   34.7  \n",
       "3     18.7  394.63   2.94   33.4  \n",
       "4     18.7  396.90   5.33   36.2  "
      ]
     },
     "execution_count": 35,
     "metadata": {},
     "output_type": "execute_result"
    }
   ],
   "source": [
    "bostonDF.head()"
   ]
  },
  {
   "cell_type": "markdown",
   "metadata": {},
   "source": [
    "Scikit-Learn implements a regressor based on k-nearest neighbors (https://scikit-learn.org/stable/modules/generated/sklearn.neighbors.KNeighborsRegressor.html). The parameters of the model are similar to the one reviewed in the last section.\n",
    "\n",
    "**T11.** In order to make the prediction of the , some preprocessing steps are needed to improve the performance of the KNN Model. Complete the following:\n",
    "* Use the StandardScaler (`sklearn.preprocessing.StandardScaler`) to standardize the features.\n",
    "* Perform a stratified split of data (70% Train and 30% Test) into a Train and Test set. You can use `sklearn.model_selection.train_test_split`."
   ]
  },
  {
   "cell_type": "code",
   "execution_count": 36,
   "metadata": {},
   "outputs": [],
   "source": [
    "boston_scaler = StandardScaler()\n",
    "bostonDF[boston.feature_names] = boston_scaler.fit_transform(bostonDF[boston.feature_names])"
   ]
  },
  {
   "cell_type": "code",
   "execution_count": 37,
   "metadata": {},
   "outputs": [],
   "source": [
    "boston_data = bostonDF[boston.feature_names]\n",
    "boston_target = bostonDF[\"PRICE\"]"
   ]
  },
  {
   "cell_type": "markdown",
   "metadata": {},
   "source": [
    "### Note: stratified split does not work, gives a error"
   ]
  },
  {
   "cell_type": "code",
   "execution_count": 38,
   "metadata": {},
   "outputs": [],
   "source": [
    "data_train_b, data_test_b, target_train_b, target_test_b = train_test_split(boston_data,boston_target, \n",
    "                                                                            train_size = .7, random_state = 1)"
   ]
  },
  {
   "cell_type": "markdown",
   "metadata": {},
   "source": [
    "**T12.** Fit the best KNeighborsRegressor considering `n_neighbors`and `weights`('uniform' and 'distance') has hyperparameters. Use cross validation (`cross_val_score`) to evaluate the model and RMSE as the evaluation metric.\n",
    "\n",
    "Justify your selection by presenting two plots of 'RMSE' as a function of 'k'. One plot should correspond to models with 'uniform' weights and the second one with 'distance' weights."
   ]
  },
  {
   "cell_type": "markdown",
   "metadata": {},
   "source": [
    "### Note: The best k it changes depending on if you pass the full dataset or just the train dataset, if you pass the train data, the best k it will be 3; however, we passed the full dataset because we read in various mediums and examples, that in cross validation the best is to pass the full dataset"
   ]
  },
  {
   "cell_type": "code",
   "execution_count": 39,
   "metadata": {},
   "outputs": [],
   "source": [
    "k_list = list(range(1,11))\n",
    "rmse_values_distance = []\n",
    "\n",
    "for K in k_list:\n",
    "    \n",
    "    KNN_regressor = KNeighborsRegressor(n_neighbors = K, weights = \"distance\")\n",
    "\n",
    "    temp = np.mean(-1 * cross_val_score(KNN_regressor, boston_data, boston_target, n_jobs = -1, scoring = \"neg_root_mean_squared_error\"))\n",
    "    rmse_values_distance.append(temp)"
   ]
  },
  {
   "cell_type": "code",
   "execution_count": 40,
   "metadata": {},
   "outputs": [],
   "source": [
    "rmse_values_uniform = []\n",
    "\n",
    "for K in k_list:\n",
    "    \n",
    "    KNN_regressor = KNeighborsRegressor(n_neighbors = K, weights = \"uniform\")\n",
    "\n",
    "    temp = np.mean(-1 * cross_val_score(KNN_regressor, boston_data, boston_target, n_jobs = -1, scoring = \"neg_root_mean_squared_error\"))\n",
    "    rmse_values_uniform.append(temp)"
   ]
  },
  {
   "cell_type": "code",
   "execution_count": 41,
   "metadata": {},
   "outputs": [
    {
     "data": {
      "image/png": "[encoded data removed]",
      "text/plain": [
       "<Figure size 1296x432 with 2 Axes>"
      ]
     },
     "metadata": {
      "needs_background": "light"
     },
     "output_type": "display_data"
    }
   ],
   "source": [
    "fig, ax = plt.subplots(1,2, figsize = (18,6))\n",
    "\n",
    "ax[0].plot(k_list, rmse_values_uniform, color = \"red\", marker = \"o\")\n",
    "ax[0].set_title(\"RMSE depending on K and weight as uniform\")\n",
    "ax[0].set_xlabel(\"K\")\n",
    "ax[0].set_ylabel(\"RMSE avg\")\n",
    "\n",
    "ax[1].plot(k_list, rmse_values_distance, marker = \"o\")\n",
    "ax[1].set_title(\"RMSE depending on K and weight as distance\")\n",
    "ax[1].set_xlabel(\"K\")\n",
    "ax[1].set_ylabel(\"RMSE avg\")\n",
    "plt.show()"
   ]
  },
  {
   "cell_type": "markdown",
   "metadata": {},
   "source": [
    "In both plots, it is easy to notice how the best K is equal to 9 because in both weights, distance and uniform, is the best K, and with a remarkable difference. "
   ]
  },
  {
   "cell_type": "code",
   "execution_count": 42,
   "metadata": {},
   "outputs": [
    {
     "data": {
      "text/plain": [
       "KNeighborsRegressor(n_neighbors=9, weights='distance')"
      ]
     },
     "execution_count": 42,
     "metadata": {},
     "output_type": "execute_result"
    }
   ],
   "source": [
    "KNN_regressor_final = KNeighborsRegressor(n_neighbors = 9, weights = \"distance\")\n",
    "KNN_regressor_final.fit(data_train_b, target_train_b)"
   ]
  },
  {
   "cell_type": "code",
   "execution_count": 43,
   "metadata": {},
   "outputs": [],
   "source": [
    "y_predicted_boston = KNN_regressor_final.predict(data_test_b)"
   ]
  },
  {
   "cell_type": "code",
   "execution_count": 44,
   "metadata": {},
   "outputs": [
    {
     "data": {
      "image/png": "[encoded data removed]",
      "text/plain": [
       "<Figure size 432x288 with 1 Axes>"
      ]
     },
     "metadata": {
      "needs_background": "light"
     },
     "output_type": "display_data"
    }
   ],
   "source": [
    "plt.scatter(target_test_b, y_predicted_boston)\n",
    "plt.title(\"Y-predicted vs Y-real\")\n",
    "plt.xlabel(\"Y-real\")\n",
    "plt.ylabel(\"Y-predicted\")\n",
    "plt.show()"
   ]
  },
  {
   "cell_type": "code",
   "execution_count": null,
   "metadata": {},
   "outputs": [],
   "source": []
  }
 ],
 "metadata": {
  "kernelspec": {
   "display_name": "Python 3",
   "language": "python",
   "name": "python3"
  },
  "language_info": {
   "codemirror_mode": {
    "name": "ipython",
    "version": 3
   },
   "file_extension": ".py",
   "mimetype": "text/x-python",
   "name": "python",
   "nbconvert_exporter": "python",
   "pygments_lexer": "ipython3",
   "version": "3.8.6"
  }
 },
 "nbformat": 4,
 "nbformat_minor": 5
}
