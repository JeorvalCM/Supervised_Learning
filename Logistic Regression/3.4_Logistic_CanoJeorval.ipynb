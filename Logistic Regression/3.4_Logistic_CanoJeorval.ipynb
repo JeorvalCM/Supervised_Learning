{
 "cells": [
  {
   "cell_type": "code",
   "execution_count": 1,
   "metadata": {},
   "outputs": [],
   "source": [
    "import numpy as np\n",
    "import pandas as pd\n",
    "import matplotlib.pyplot as plt\n",
    "import seaborn as sns\n",
    "from sklearn.datasets import load_breast_cancer\n",
    "from sklearn.model_selection import train_test_split\n",
    "from sklearn.feature_selection import SelectFromModel\n",
    "from sklearn.metrics import accuracy_score, confusion_matrix\n",
    "from sklearn import metrics\n",
    "from sklearn.ensemble import RandomForestClassifier\n",
    "from sklearn.preprocessing import StandardScaler\n",
    "\n",
    "\n",
    "plt.rcParams[\"figure.figsize\"] = (8,8)"
   ]
  },
  {
   "cell_type": "markdown",
   "metadata": {},
   "source": [
    "## 1. Logistic Regression. Implement the Logistic Regression Model as a Python Class (Check the structure in previous assignments)."
   ]
  },
  {
   "cell_type": "code",
   "execution_count": 2,
   "metadata": {},
   "outputs": [],
   "source": [
    "class LogisticRegression:\n",
    "    \"\"\"\n",
    "    Function to compute Logistic regression given data\n",
    "    \n",
    "    attributes:\n",
    "    self.n_steps: maximum number of iteration the fit method can do\n",
    "    self.learning_rate: learning rate used in gradient descent\n",
    "    self.coefficients: coefficients of the class from W1 to Wn, where n is the number of features\n",
    "    self.intercept: interception of fitted model, W0\n",
    "    \"\"\"\n",
    "    \n",
    "    def __init__(self, lr = .1, max_iterations = 200):\n",
    "        \"\"\"\n",
    "        Class initializer\n",
    "        \n",
    "        input:\n",
    "        lr: learning rate used in gradient descent\n",
    "        max_iterations: maximum number of iterations the model can do\n",
    "        \n",
    "        output:\n",
    "        initializa the attributes of the class\n",
    "        \n",
    "        \"\"\"\n",
    "        self.n_steps = max_iterations\n",
    "        self.learning_rate = lr\n",
    "        self.coefficients = None\n",
    "        \n",
    "    \n",
    "    def _format_x(self, X):\n",
    "        \"\"\"\n",
    "        Private function to add a new column of values 1 to the matrix of the variables, the column is add in the beginning of the matrix\n",
    "        \n",
    "        Input:\n",
    "        * X: Matrix or array containing the values of the input variable\n",
    "        \n",
    "        Output:\n",
    "        * Return either a vector having added 1 to its first value or a Matrix having a new column of 1\n",
    "        \"\"\"\n",
    "        X = np.array(X)\n",
    "        #creating columns of\n",
    "        new_column = [1 for i in range(len(X))] \n",
    "        \n",
    "        #case of matrix\n",
    "        try:\n",
    "            return np.insert(X, 0, new_column, axis = 1)\n",
    "        \n",
    "        #case of a vector, so each value of the vector become a row\n",
    "        except:\n",
    "            \n",
    "            X = np.reshape(X, (len(X),1))\n",
    "            \n",
    "            return np.insert(X, 0, new_column, axis = 1)\n",
    "    \n",
    "        \n",
    "    \n",
    "    def predict(self, inputs):\n",
    "        \"\"\"\n",
    "        Function to predict the activation of the perceptron, either 1 or 0\n",
    "        \n",
    "        Input:\n",
    "        inputs: list of values that are use for predicting\n",
    "        \n",
    "        Output:\n",
    "        return a list of 1 or 0, belonging to the activation of each input\n",
    "        \"\"\"\n",
    "        inputs = self._format_x(inputs)\n",
    "        \n",
    "        values = np.sum(inputs * self.coefficients, axis = 1)\n",
    "        \n",
    "        return [1 if value >= .5 else 0 for value in self.__sigmoid(values)]\n",
    "    \n",
    "    def probabilities(self, inputs):\n",
    "        \"\"\"\n",
    "        Function to predict the probability for the activation\n",
    "        \n",
    "        Input:\n",
    "        inputs: list of values that are use for predicting\n",
    "        \n",
    "        Output:\n",
    "        return a list of probabilities\n",
    "        \"\"\"\n",
    "        \n",
    "        inputs = self._format_x(inputs)\n",
    "        \n",
    "        values = np.sum(inputs * self.coefficients, axis = 1)\n",
    "        \n",
    "        return self.__sigmoid(values)\n",
    "    \n",
    "    def __sigmoid(self, model):\n",
    "        \"\"\"\n",
    "        Function to compute the sigmoid of each value of a given numpy array\n",
    "        \n",
    "        input:\n",
    "        model: value to apply the sigmoid function\n",
    "        \n",
    "        output:\n",
    "        return the sigmoid of a given x\n",
    "        \"\"\"\n",
    "        \n",
    "        sigmoid = 1/(1+np.exp(-model))\n",
    "        \n",
    "        return sigmoid\n",
    "    \n",
    "    def fit(self, train_inputs, train_labels):\n",
    "        \"\"\"\n",
    "        Function to fit the logistic regression\n",
    "        \n",
    "        Input:\n",
    "        train_inputs: row for training the model\n",
    "        train_labels: target values for training the model\n",
    "        \n",
    "        \n",
    "        Output:\n",
    "        does not return nothing, but fit the model.\n",
    "        \"\"\"\n",
    "        \n",
    "        N = len(train_inputs)\n",
    "        \n",
    "        #initializing the coefficients to 0, it is added 1 because of the interception will be the first value of the coefficients\n",
    "        try:\n",
    "            self.coefficients = np.zeros(len(train_inputs[0]) + 1)\n",
    "        except:\n",
    "            self.coefficients = np.zeros(2)\n",
    "        #adding the new column of 1 to not crash because of the interception\n",
    "        train_inputs = self._format_x(train_inputs)\n",
    "        \n",
    "        train_labels = np.array(train_labels)\n",
    "        \n",
    "        \n",
    "        #looping through each epoch\n",
    "        for _ in range(self.n_steps):\n",
    "            \n",
    "            #getting the linear model, the perceptron\n",
    "            linear = np.sum(train_inputs * self.coefficients, axis = 1)\n",
    "\n",
    "            \n",
    "            #getting the sigmoid value for each value of the linear model\n",
    "            sigmoid_prediction = self.__sigmoid(linear)\n",
    "\n",
    "\n",
    "            #getting the gradien descent\n",
    "            gradient = np.dot(train_inputs.T, (sigmoid_prediction - train_labels))/N\n",
    "             \n",
    "            #adjusting the coefficients \n",
    "            self.coefficients -= self.learning_rate * gradient\n",
    "            \n",
    "            "
   ]
  },
  {
   "cell_type": "markdown",
   "metadata": {},
   "source": [
    "## 2. Features Plot. Plot a scatter plot using mean texture and mean radius. Display malignant growths in red and benign growths in blue."
   ]
  },
  {
   "cell_type": "code",
   "execution_count": 3,
   "metadata": {},
   "outputs": [],
   "source": [
    "cancer = load_breast_cancer()"
   ]
  },
  {
   "cell_type": "code",
   "execution_count": 4,
   "metadata": {},
   "outputs": [
    {
     "data": {
      "text/html": [
       "<div>\n",
       "<style scoped>\n",
       "    .dataframe tbody tr th:only-of-type {\n",
       "        vertical-align: middle;\n",
       "    }\n",
       "\n",
       "    .dataframe tbody tr th {\n",
       "        vertical-align: top;\n",
       "    }\n",
       "\n",
       "    .dataframe thead th {\n",
       "        text-align: right;\n",
       "    }\n",
       "</style>\n",
       "<table border=\"1\" class=\"dataframe\">\n",
       "  <thead>\n",
       "    <tr style=\"text-align: right;\">\n",
       "      <th></th>\n",
       "      <th>mean radius</th>\n",
       "      <th>mean texture</th>\n",
       "      <th>mean perimeter</th>\n",
       "      <th>mean area</th>\n",
       "      <th>mean smoothness</th>\n",
       "      <th>mean compactness</th>\n",
       "      <th>mean concavity</th>\n",
       "      <th>mean concave points</th>\n",
       "      <th>mean symmetry</th>\n",
       "      <th>mean fractal dimension</th>\n",
       "      <th>...</th>\n",
       "      <th>worst radius</th>\n",
       "      <th>worst texture</th>\n",
       "      <th>worst perimeter</th>\n",
       "      <th>worst area</th>\n",
       "      <th>worst smoothness</th>\n",
       "      <th>worst compactness</th>\n",
       "      <th>worst concavity</th>\n",
       "      <th>worst concave points</th>\n",
       "      <th>worst symmetry</th>\n",
       "      <th>worst fractal dimension</th>\n",
       "    </tr>\n",
       "  </thead>\n",
       "  <tbody>\n",
       "    <tr>\n",
       "      <th>0</th>\n",
       "      <td>17.99</td>\n",
       "      <td>10.38</td>\n",
       "      <td>122.80</td>\n",
       "      <td>1001.0</td>\n",
       "      <td>0.11840</td>\n",
       "      <td>0.27760</td>\n",
       "      <td>0.3001</td>\n",
       "      <td>0.14710</td>\n",
       "      <td>0.2419</td>\n",
       "      <td>0.07871</td>\n",
       "      <td>...</td>\n",
       "      <td>25.38</td>\n",
       "      <td>17.33</td>\n",
       "      <td>184.60</td>\n",
       "      <td>2019.0</td>\n",
       "      <td>0.1622</td>\n",
       "      <td>0.6656</td>\n",
       "      <td>0.7119</td>\n",
       "      <td>0.2654</td>\n",
       "      <td>0.4601</td>\n",
       "      <td>0.11890</td>\n",
       "    </tr>\n",
       "    <tr>\n",
       "      <th>1</th>\n",
       "      <td>20.57</td>\n",
       "      <td>17.77</td>\n",
       "      <td>132.90</td>\n",
       "      <td>1326.0</td>\n",
       "      <td>0.08474</td>\n",
       "      <td>0.07864</td>\n",
       "      <td>0.0869</td>\n",
       "      <td>0.07017</td>\n",
       "      <td>0.1812</td>\n",
       "      <td>0.05667</td>\n",
       "      <td>...</td>\n",
       "      <td>24.99</td>\n",
       "      <td>23.41</td>\n",
       "      <td>158.80</td>\n",
       "      <td>1956.0</td>\n",
       "      <td>0.1238</td>\n",
       "      <td>0.1866</td>\n",
       "      <td>0.2416</td>\n",
       "      <td>0.1860</td>\n",
       "      <td>0.2750</td>\n",
       "      <td>0.08902</td>\n",
       "    </tr>\n",
       "    <tr>\n",
       "      <th>2</th>\n",
       "      <td>19.69</td>\n",
       "      <td>21.25</td>\n",
       "      <td>130.00</td>\n",
       "      <td>1203.0</td>\n",
       "      <td>0.10960</td>\n",
       "      <td>0.15990</td>\n",
       "      <td>0.1974</td>\n",
       "      <td>0.12790</td>\n",
       "      <td>0.2069</td>\n",
       "      <td>0.05999</td>\n",
       "      <td>...</td>\n",
       "      <td>23.57</td>\n",
       "      <td>25.53</td>\n",
       "      <td>152.50</td>\n",
       "      <td>1709.0</td>\n",
       "      <td>0.1444</td>\n",
       "      <td>0.4245</td>\n",
       "      <td>0.4504</td>\n",
       "      <td>0.2430</td>\n",
       "      <td>0.3613</td>\n",
       "      <td>0.08758</td>\n",
       "    </tr>\n",
       "    <tr>\n",
       "      <th>3</th>\n",
       "      <td>11.42</td>\n",
       "      <td>20.38</td>\n",
       "      <td>77.58</td>\n",
       "      <td>386.1</td>\n",
       "      <td>0.14250</td>\n",
       "      <td>0.28390</td>\n",
       "      <td>0.2414</td>\n",
       "      <td>0.10520</td>\n",
       "      <td>0.2597</td>\n",
       "      <td>0.09744</td>\n",
       "      <td>...</td>\n",
       "      <td>14.91</td>\n",
       "      <td>26.50</td>\n",
       "      <td>98.87</td>\n",
       "      <td>567.7</td>\n",
       "      <td>0.2098</td>\n",
       "      <td>0.8663</td>\n",
       "      <td>0.6869</td>\n",
       "      <td>0.2575</td>\n",
       "      <td>0.6638</td>\n",
       "      <td>0.17300</td>\n",
       "    </tr>\n",
       "    <tr>\n",
       "      <th>4</th>\n",
       "      <td>20.29</td>\n",
       "      <td>14.34</td>\n",
       "      <td>135.10</td>\n",
       "      <td>1297.0</td>\n",
       "      <td>0.10030</td>\n",
       "      <td>0.13280</td>\n",
       "      <td>0.1980</td>\n",
       "      <td>0.10430</td>\n",
       "      <td>0.1809</td>\n",
       "      <td>0.05883</td>\n",
       "      <td>...</td>\n",
       "      <td>22.54</td>\n",
       "      <td>16.67</td>\n",
       "      <td>152.20</td>\n",
       "      <td>1575.0</td>\n",
       "      <td>0.1374</td>\n",
       "      <td>0.2050</td>\n",
       "      <td>0.4000</td>\n",
       "      <td>0.1625</td>\n",
       "      <td>0.2364</td>\n",
       "      <td>0.07678</td>\n",
       "    </tr>\n",
       "  </tbody>\n",
       "</table>\n",
       "<p>5 rows × 30 columns</p>\n",
       "</div>"
      ],
      "text/plain": [
       "   mean radius  mean texture  mean perimeter  mean area  mean smoothness  \\\n",
       "0        17.99         10.38          122.80     1001.0          0.11840   \n",
       "1        20.57         17.77          132.90     1326.0          0.08474   \n",
       "2        19.69         21.25          130.00     1203.0          0.10960   \n",
       "3        11.42         20.38           77.58      386.1          0.14250   \n",
       "4        20.29         14.34          135.10     1297.0          0.10030   \n",
       "\n",
       "   mean compactness  mean concavity  mean concave points  mean symmetry  \\\n",
       "0           0.27760          0.3001              0.14710         0.2419   \n",
       "1           0.07864          0.0869              0.07017         0.1812   \n",
       "2           0.15990          0.1974              0.12790         0.2069   \n",
       "3           0.28390          0.2414              0.10520         0.2597   \n",
       "4           0.13280          0.1980              0.10430         0.1809   \n",
       "\n",
       "   mean fractal dimension  ...  worst radius  worst texture  worst perimeter  \\\n",
       "0                 0.07871  ...         25.38          17.33           184.60   \n",
       "1                 0.05667  ...         24.99          23.41           158.80   \n",
       "2                 0.05999  ...         23.57          25.53           152.50   \n",
       "3                 0.09744  ...         14.91          26.50            98.87   \n",
       "4                 0.05883  ...         22.54          16.67           152.20   \n",
       "\n",
       "   worst area  worst smoothness  worst compactness  worst concavity  \\\n",
       "0      2019.0            0.1622             0.6656           0.7119   \n",
       "1      1956.0            0.1238             0.1866           0.2416   \n",
       "2      1709.0            0.1444             0.4245           0.4504   \n",
       "3       567.7            0.2098             0.8663           0.6869   \n",
       "4      1575.0            0.1374             0.2050           0.4000   \n",
       "\n",
       "   worst concave points  worst symmetry  worst fractal dimension  \n",
       "0                0.2654          0.4601                  0.11890  \n",
       "1                0.1860          0.2750                  0.08902  \n",
       "2                0.2430          0.3613                  0.08758  \n",
       "3                0.2575          0.6638                  0.17300  \n",
       "4                0.1625          0.2364                  0.07678  \n",
       "\n",
       "[5 rows x 30 columns]"
      ]
     },
     "execution_count": 4,
     "metadata": {},
     "output_type": "execute_result"
    }
   ],
   "source": [
    "cancer_df = pd.DataFrame(cancer['data'], columns = cancer['feature_names'])\n",
    "cancer_df.head()"
   ]
  },
  {
   "cell_type": "code",
   "execution_count": 5,
   "metadata": {},
   "outputs": [],
   "source": [
    "cancer_df['cancer_type'] = cancer['target']"
   ]
  },
  {
   "cell_type": "code",
   "execution_count": 6,
   "metadata": {},
   "outputs": [
    {
     "data": {
      "text/html": [
       "<div>\n",
       "<style scoped>\n",
       "    .dataframe tbody tr th:only-of-type {\n",
       "        vertical-align: middle;\n",
       "    }\n",
       "\n",
       "    .dataframe tbody tr th {\n",
       "        vertical-align: top;\n",
       "    }\n",
       "\n",
       "    .dataframe thead th {\n",
       "        text-align: right;\n",
       "    }\n",
       "</style>\n",
       "<table border=\"1\" class=\"dataframe\">\n",
       "  <thead>\n",
       "    <tr style=\"text-align: right;\">\n",
       "      <th></th>\n",
       "      <th>mean radius</th>\n",
       "      <th>mean texture</th>\n",
       "      <th>mean perimeter</th>\n",
       "      <th>mean area</th>\n",
       "      <th>mean smoothness</th>\n",
       "      <th>mean compactness</th>\n",
       "      <th>mean concavity</th>\n",
       "      <th>mean concave points</th>\n",
       "      <th>mean symmetry</th>\n",
       "      <th>mean fractal dimension</th>\n",
       "      <th>...</th>\n",
       "      <th>worst texture</th>\n",
       "      <th>worst perimeter</th>\n",
       "      <th>worst area</th>\n",
       "      <th>worst smoothness</th>\n",
       "      <th>worst compactness</th>\n",
       "      <th>worst concavity</th>\n",
       "      <th>worst concave points</th>\n",
       "      <th>worst symmetry</th>\n",
       "      <th>worst fractal dimension</th>\n",
       "      <th>cancer_type</th>\n",
       "    </tr>\n",
       "  </thead>\n",
       "  <tbody>\n",
       "    <tr>\n",
       "      <th>0</th>\n",
       "      <td>17.99</td>\n",
       "      <td>10.38</td>\n",
       "      <td>122.80</td>\n",
       "      <td>1001.0</td>\n",
       "      <td>0.11840</td>\n",
       "      <td>0.27760</td>\n",
       "      <td>0.30010</td>\n",
       "      <td>0.14710</td>\n",
       "      <td>0.2419</td>\n",
       "      <td>0.07871</td>\n",
       "      <td>...</td>\n",
       "      <td>17.33</td>\n",
       "      <td>184.60</td>\n",
       "      <td>2019.0</td>\n",
       "      <td>0.16220</td>\n",
       "      <td>0.66560</td>\n",
       "      <td>0.7119</td>\n",
       "      <td>0.2654</td>\n",
       "      <td>0.4601</td>\n",
       "      <td>0.11890</td>\n",
       "      <td>0</td>\n",
       "    </tr>\n",
       "    <tr>\n",
       "      <th>1</th>\n",
       "      <td>20.57</td>\n",
       "      <td>17.77</td>\n",
       "      <td>132.90</td>\n",
       "      <td>1326.0</td>\n",
       "      <td>0.08474</td>\n",
       "      <td>0.07864</td>\n",
       "      <td>0.08690</td>\n",
       "      <td>0.07017</td>\n",
       "      <td>0.1812</td>\n",
       "      <td>0.05667</td>\n",
       "      <td>...</td>\n",
       "      <td>23.41</td>\n",
       "      <td>158.80</td>\n",
       "      <td>1956.0</td>\n",
       "      <td>0.12380</td>\n",
       "      <td>0.18660</td>\n",
       "      <td>0.2416</td>\n",
       "      <td>0.1860</td>\n",
       "      <td>0.2750</td>\n",
       "      <td>0.08902</td>\n",
       "      <td>0</td>\n",
       "    </tr>\n",
       "    <tr>\n",
       "      <th>2</th>\n",
       "      <td>19.69</td>\n",
       "      <td>21.25</td>\n",
       "      <td>130.00</td>\n",
       "      <td>1203.0</td>\n",
       "      <td>0.10960</td>\n",
       "      <td>0.15990</td>\n",
       "      <td>0.19740</td>\n",
       "      <td>0.12790</td>\n",
       "      <td>0.2069</td>\n",
       "      <td>0.05999</td>\n",
       "      <td>...</td>\n",
       "      <td>25.53</td>\n",
       "      <td>152.50</td>\n",
       "      <td>1709.0</td>\n",
       "      <td>0.14440</td>\n",
       "      <td>0.42450</td>\n",
       "      <td>0.4504</td>\n",
       "      <td>0.2430</td>\n",
       "      <td>0.3613</td>\n",
       "      <td>0.08758</td>\n",
       "      <td>0</td>\n",
       "    </tr>\n",
       "    <tr>\n",
       "      <th>3</th>\n",
       "      <td>11.42</td>\n",
       "      <td>20.38</td>\n",
       "      <td>77.58</td>\n",
       "      <td>386.1</td>\n",
       "      <td>0.14250</td>\n",
       "      <td>0.28390</td>\n",
       "      <td>0.24140</td>\n",
       "      <td>0.10520</td>\n",
       "      <td>0.2597</td>\n",
       "      <td>0.09744</td>\n",
       "      <td>...</td>\n",
       "      <td>26.50</td>\n",
       "      <td>98.87</td>\n",
       "      <td>567.7</td>\n",
       "      <td>0.20980</td>\n",
       "      <td>0.86630</td>\n",
       "      <td>0.6869</td>\n",
       "      <td>0.2575</td>\n",
       "      <td>0.6638</td>\n",
       "      <td>0.17300</td>\n",
       "      <td>0</td>\n",
       "    </tr>\n",
       "    <tr>\n",
       "      <th>4</th>\n",
       "      <td>20.29</td>\n",
       "      <td>14.34</td>\n",
       "      <td>135.10</td>\n",
       "      <td>1297.0</td>\n",
       "      <td>0.10030</td>\n",
       "      <td>0.13280</td>\n",
       "      <td>0.19800</td>\n",
       "      <td>0.10430</td>\n",
       "      <td>0.1809</td>\n",
       "      <td>0.05883</td>\n",
       "      <td>...</td>\n",
       "      <td>16.67</td>\n",
       "      <td>152.20</td>\n",
       "      <td>1575.0</td>\n",
       "      <td>0.13740</td>\n",
       "      <td>0.20500</td>\n",
       "      <td>0.4000</td>\n",
       "      <td>0.1625</td>\n",
       "      <td>0.2364</td>\n",
       "      <td>0.07678</td>\n",
       "      <td>0</td>\n",
       "    </tr>\n",
       "    <tr>\n",
       "      <th>...</th>\n",
       "      <td>...</td>\n",
       "      <td>...</td>\n",
       "      <td>...</td>\n",
       "      <td>...</td>\n",
       "      <td>...</td>\n",
       "      <td>...</td>\n",
       "      <td>...</td>\n",
       "      <td>...</td>\n",
       "      <td>...</td>\n",
       "      <td>...</td>\n",
       "      <td>...</td>\n",
       "      <td>...</td>\n",
       "      <td>...</td>\n",
       "      <td>...</td>\n",
       "      <td>...</td>\n",
       "      <td>...</td>\n",
       "      <td>...</td>\n",
       "      <td>...</td>\n",
       "      <td>...</td>\n",
       "      <td>...</td>\n",
       "      <td>...</td>\n",
       "    </tr>\n",
       "    <tr>\n",
       "      <th>564</th>\n",
       "      <td>21.56</td>\n",
       "      <td>22.39</td>\n",
       "      <td>142.00</td>\n",
       "      <td>1479.0</td>\n",
       "      <td>0.11100</td>\n",
       "      <td>0.11590</td>\n",
       "      <td>0.24390</td>\n",
       "      <td>0.13890</td>\n",
       "      <td>0.1726</td>\n",
       "      <td>0.05623</td>\n",
       "      <td>...</td>\n",
       "      <td>26.40</td>\n",
       "      <td>166.10</td>\n",
       "      <td>2027.0</td>\n",
       "      <td>0.14100</td>\n",
       "      <td>0.21130</td>\n",
       "      <td>0.4107</td>\n",
       "      <td>0.2216</td>\n",
       "      <td>0.2060</td>\n",
       "      <td>0.07115</td>\n",
       "      <td>0</td>\n",
       "    </tr>\n",
       "    <tr>\n",
       "      <th>565</th>\n",
       "      <td>20.13</td>\n",
       "      <td>28.25</td>\n",
       "      <td>131.20</td>\n",
       "      <td>1261.0</td>\n",
       "      <td>0.09780</td>\n",
       "      <td>0.10340</td>\n",
       "      <td>0.14400</td>\n",
       "      <td>0.09791</td>\n",
       "      <td>0.1752</td>\n",
       "      <td>0.05533</td>\n",
       "      <td>...</td>\n",
       "      <td>38.25</td>\n",
       "      <td>155.00</td>\n",
       "      <td>1731.0</td>\n",
       "      <td>0.11660</td>\n",
       "      <td>0.19220</td>\n",
       "      <td>0.3215</td>\n",
       "      <td>0.1628</td>\n",
       "      <td>0.2572</td>\n",
       "      <td>0.06637</td>\n",
       "      <td>0</td>\n",
       "    </tr>\n",
       "    <tr>\n",
       "      <th>566</th>\n",
       "      <td>16.60</td>\n",
       "      <td>28.08</td>\n",
       "      <td>108.30</td>\n",
       "      <td>858.1</td>\n",
       "      <td>0.08455</td>\n",
       "      <td>0.10230</td>\n",
       "      <td>0.09251</td>\n",
       "      <td>0.05302</td>\n",
       "      <td>0.1590</td>\n",
       "      <td>0.05648</td>\n",
       "      <td>...</td>\n",
       "      <td>34.12</td>\n",
       "      <td>126.70</td>\n",
       "      <td>1124.0</td>\n",
       "      <td>0.11390</td>\n",
       "      <td>0.30940</td>\n",
       "      <td>0.3403</td>\n",
       "      <td>0.1418</td>\n",
       "      <td>0.2218</td>\n",
       "      <td>0.07820</td>\n",
       "      <td>0</td>\n",
       "    </tr>\n",
       "    <tr>\n",
       "      <th>567</th>\n",
       "      <td>20.60</td>\n",
       "      <td>29.33</td>\n",
       "      <td>140.10</td>\n",
       "      <td>1265.0</td>\n",
       "      <td>0.11780</td>\n",
       "      <td>0.27700</td>\n",
       "      <td>0.35140</td>\n",
       "      <td>0.15200</td>\n",
       "      <td>0.2397</td>\n",
       "      <td>0.07016</td>\n",
       "      <td>...</td>\n",
       "      <td>39.42</td>\n",
       "      <td>184.60</td>\n",
       "      <td>1821.0</td>\n",
       "      <td>0.16500</td>\n",
       "      <td>0.86810</td>\n",
       "      <td>0.9387</td>\n",
       "      <td>0.2650</td>\n",
       "      <td>0.4087</td>\n",
       "      <td>0.12400</td>\n",
       "      <td>0</td>\n",
       "    </tr>\n",
       "    <tr>\n",
       "      <th>568</th>\n",
       "      <td>7.76</td>\n",
       "      <td>24.54</td>\n",
       "      <td>47.92</td>\n",
       "      <td>181.0</td>\n",
       "      <td>0.05263</td>\n",
       "      <td>0.04362</td>\n",
       "      <td>0.00000</td>\n",
       "      <td>0.00000</td>\n",
       "      <td>0.1587</td>\n",
       "      <td>0.05884</td>\n",
       "      <td>...</td>\n",
       "      <td>30.37</td>\n",
       "      <td>59.16</td>\n",
       "      <td>268.6</td>\n",
       "      <td>0.08996</td>\n",
       "      <td>0.06444</td>\n",
       "      <td>0.0000</td>\n",
       "      <td>0.0000</td>\n",
       "      <td>0.2871</td>\n",
       "      <td>0.07039</td>\n",
       "      <td>1</td>\n",
       "    </tr>\n",
       "  </tbody>\n",
       "</table>\n",
       "<p>569 rows × 31 columns</p>\n",
       "</div>"
      ],
      "text/plain": [
       "     mean radius  mean texture  mean perimeter  mean area  mean smoothness  \\\n",
       "0          17.99         10.38          122.80     1001.0          0.11840   \n",
       "1          20.57         17.77          132.90     1326.0          0.08474   \n",
       "2          19.69         21.25          130.00     1203.0          0.10960   \n",
       "3          11.42         20.38           77.58      386.1          0.14250   \n",
       "4          20.29         14.34          135.10     1297.0          0.10030   \n",
       "..           ...           ...             ...        ...              ...   \n",
       "564        21.56         22.39          142.00     1479.0          0.11100   \n",
       "565        20.13         28.25          131.20     1261.0          0.09780   \n",
       "566        16.60         28.08          108.30      858.1          0.08455   \n",
       "567        20.60         29.33          140.10     1265.0          0.11780   \n",
       "568         7.76         24.54           47.92      181.0          0.05263   \n",
       "\n",
       "     mean compactness  mean concavity  mean concave points  mean symmetry  \\\n",
       "0             0.27760         0.30010              0.14710         0.2419   \n",
       "1             0.07864         0.08690              0.07017         0.1812   \n",
       "2             0.15990         0.19740              0.12790         0.2069   \n",
       "3             0.28390         0.24140              0.10520         0.2597   \n",
       "4             0.13280         0.19800              0.10430         0.1809   \n",
       "..                ...             ...                  ...            ...   \n",
       "564           0.11590         0.24390              0.13890         0.1726   \n",
       "565           0.10340         0.14400              0.09791         0.1752   \n",
       "566           0.10230         0.09251              0.05302         0.1590   \n",
       "567           0.27700         0.35140              0.15200         0.2397   \n",
       "568           0.04362         0.00000              0.00000         0.1587   \n",
       "\n",
       "     mean fractal dimension  ...  worst texture  worst perimeter  worst area  \\\n",
       "0                   0.07871  ...          17.33           184.60      2019.0   \n",
       "1                   0.05667  ...          23.41           158.80      1956.0   \n",
       "2                   0.05999  ...          25.53           152.50      1709.0   \n",
       "3                   0.09744  ...          26.50            98.87       567.7   \n",
       "4                   0.05883  ...          16.67           152.20      1575.0   \n",
       "..                      ...  ...            ...              ...         ...   \n",
       "564                 0.05623  ...          26.40           166.10      2027.0   \n",
       "565                 0.05533  ...          38.25           155.00      1731.0   \n",
       "566                 0.05648  ...          34.12           126.70      1124.0   \n",
       "567                 0.07016  ...          39.42           184.60      1821.0   \n",
       "568                 0.05884  ...          30.37            59.16       268.6   \n",
       "\n",
       "     worst smoothness  worst compactness  worst concavity  \\\n",
       "0             0.16220            0.66560           0.7119   \n",
       "1             0.12380            0.18660           0.2416   \n",
       "2             0.14440            0.42450           0.4504   \n",
       "3             0.20980            0.86630           0.6869   \n",
       "4             0.13740            0.20500           0.4000   \n",
       "..                ...                ...              ...   \n",
       "564           0.14100            0.21130           0.4107   \n",
       "565           0.11660            0.19220           0.3215   \n",
       "566           0.11390            0.30940           0.3403   \n",
       "567           0.16500            0.86810           0.9387   \n",
       "568           0.08996            0.06444           0.0000   \n",
       "\n",
       "     worst concave points  worst symmetry  worst fractal dimension  \\\n",
       "0                  0.2654          0.4601                  0.11890   \n",
       "1                  0.1860          0.2750                  0.08902   \n",
       "2                  0.2430          0.3613                  0.08758   \n",
       "3                  0.2575          0.6638                  0.17300   \n",
       "4                  0.1625          0.2364                  0.07678   \n",
       "..                    ...             ...                      ...   \n",
       "564                0.2216          0.2060                  0.07115   \n",
       "565                0.1628          0.2572                  0.06637   \n",
       "566                0.1418          0.2218                  0.07820   \n",
       "567                0.2650          0.4087                  0.12400   \n",
       "568                0.0000          0.2871                  0.07039   \n",
       "\n",
       "     cancer_type  \n",
       "0              0  \n",
       "1              0  \n",
       "2              0  \n",
       "3              0  \n",
       "4              0  \n",
       "..           ...  \n",
       "564            0  \n",
       "565            0  \n",
       "566            0  \n",
       "567            0  \n",
       "568            1  \n",
       "\n",
       "[569 rows x 31 columns]"
      ]
     },
     "execution_count": 6,
     "metadata": {},
     "output_type": "execute_result"
    }
   ],
   "source": [
    "cancer_df"
   ]
  },
  {
   "cell_type": "code",
   "execution_count": 7,
   "metadata": {},
   "outputs": [
    {
     "data": {
      "image/png": "[encoded data removed]",
      "text/plain": [
       "<Figure size 576x576 with 1 Axes>"
      ]
     },
     "metadata": {
      "needs_background": "light"
     },
     "output_type": "display_data"
    }
   ],
   "source": [
    "plt.scatter(x = cancer_df.loc[cancer_df.cancer_type == 0]['mean texture'], \n",
    "                y = cancer_df.loc[cancer_df.cancer_type == 0]['mean radius'], label = 'malignat', color = 'r')\n",
    "plt.scatter(x = cancer_df.loc[cancer_df.cancer_type == 1]['mean texture'], \n",
    "                y = cancer_df.loc[cancer_df.cancer_type == 1]['mean radius'], label = 'benign', color = 'b')\n",
    "plt.legend()\n",
    "plt.xlabel(\"mean texture\")\n",
    "plt.ylabel(\"mean radius\")\n",
    "plt.title(\"Type cancer according to mean texture and mean radius\")\n",
    "plt.title(\"\")\n",
    "plt.show()"
   ]
  },
  {
   "cell_type": "markdown",
   "metadata": {},
   "source": [
    "## 3. Logistic Regression Prediction using one feature. Predict if a tumor is cancerous by only using the first feature of the dataset: mean radius"
   ]
  },
  {
   "cell_type": "markdown",
   "metadata": {},
   "source": [
    "### (a) Make a scatter plot of the class (malignant/benign) as a function of the mean radius"
   ]
  },
  {
   "cell_type": "code",
   "execution_count": 8,
   "metadata": {},
   "outputs": [
    {
     "data": {
      "image/png": "[encoded data removed]",
      "text/plain": [
       "<Figure size 576x576 with 1 Axes>"
      ]
     },
     "metadata": {
      "needs_background": "light"
     },
     "output_type": "display_data"
    }
   ],
   "source": [
    "plt.scatter(x = cancer_df['mean radius'], y = cancer_df['cancer_type'])\n",
    "plt.title(\"Type of cancer depending on mean radius\")\n",
    "plt.xlabel(\"Mean radius\")\n",
    "plt.ylabel(\"Cancer type\")\n",
    "plt.show()"
   ]
  },
  {
   "cell_type": "markdown",
   "metadata": {},
   "source": [
    "### (b) Use the LogisticRegression class to train a Logistic Regression model"
   ]
  },
  {
   "cell_type": "code",
   "execution_count": 9,
   "metadata": {},
   "outputs": [],
   "source": [
    "data_train, data_test, target_train, target_test = train_test_split(cancer_df['mean radius'],\n",
    "                                                                    cancer_df['cancer_type'], train_size = .75, \n",
    "                                                                    stratify = cancer_df['cancer_type'], random_state = 0)"
   ]
  },
  {
   "cell_type": "code",
   "execution_count": 10,
   "metadata": {},
   "outputs": [],
   "source": [
    "logistic_regression = LogisticRegression( max_iterations = 1000)"
   ]
  },
  {
   "cell_type": "code",
   "execution_count": 11,
   "metadata": {},
   "outputs": [],
   "source": [
    "logistic_regression.fit(data_train, target_train)"
   ]
  },
  {
   "cell_type": "markdown",
   "metadata": {},
   "source": [
    "### (c) Print the intercept (𝜔0) and coefficient (𝜔1) "
   ]
  },
  {
   "cell_type": "code",
   "execution_count": 12,
   "metadata": {},
   "outputs": [
    {
     "name": "stdout",
     "output_type": "stream",
     "text": [
      "interception w0:  8.055092390056064\n",
      "coefficient w1:  -0.8482607223445255\n"
     ]
    }
   ],
   "source": [
    "print(\"interception w0: \",logistic_regression.coefficients[0])\n",
    "print(\"coefficient w1: \",logistic_regression.coefficients[1])"
   ]
  },
  {
   "cell_type": "markdown",
   "metadata": {},
   "source": [
    "### (d) Plot the fitted sigmoid curve and the original data"
   ]
  },
  {
   "cell_type": "code",
   "execution_count": 13,
   "metadata": {},
   "outputs": [],
   "source": [
    "def sigmoid(values):\n",
    "    sigmoid = 1/(1+np.exp(-values))\n",
    "    \n",
    "    return sigmoid"
   ]
  },
  {
   "cell_type": "code",
   "execution_count": 14,
   "metadata": {},
   "outputs": [],
   "source": [
    "x_axis = np.linspace(0, 30, 100)\n",
    "y_axis = logistic_regression.probabilities(x_axis)"
   ]
  },
  {
   "cell_type": "code",
   "execution_count": 15,
   "metadata": {},
   "outputs": [
    {
     "data": {
      "image/png": "[encoded data removed]",
      "text/plain": [
       "<Figure size 576x576 with 1 Axes>"
      ]
     },
     "metadata": {
      "needs_background": "light"
     },
     "output_type": "display_data"
    }
   ],
   "source": [
    "plt.plot(x_axis, y_axis, label = 'sigmoid function', color = 'black')\n",
    "plt.scatter(x = cancer_df.loc[cancer_df.cancer_type == 0]['mean radius'],\n",
    "            y = cancer_df.loc[cancer_df.cancer_type == 0]['cancer_type'], label = 'malignat', color = 'r')\n",
    "plt.scatter(x = cancer_df.loc[cancer_df.cancer_type == 1]['mean radius'],\n",
    "            y = cancer_df.loc[cancer_df.cancer_type == 1]['cancer_type'], label = 'benign', color = 'b')\n",
    "plt.title(\"Type of cancer depending on mean radius\")\n",
    "plt.xlabel(\"Mean radius\")\n",
    "plt.ylabel(\"Cancer type\")\n",
    "plt.legend()\n",
    "plt.show()"
   ]
  },
  {
   "cell_type": "markdown",
   "metadata": {},
   "source": [
    "### (e) Predict the result if the mean radius is 8 and 20"
   ]
  },
  {
   "cell_type": "code",
   "execution_count": 16,
   "metadata": {},
   "outputs": [
    {
     "name": "stdout",
     "output_type": "stream",
     "text": [
      "mean radius:  8\n",
      "probability to belong bening:  0.7805726487237372\n",
      "probability to belong malignant:  0.21942735127626278\n",
      "predict class:  bening\n"
     ]
    }
   ],
   "source": [
    "value = [8]\n",
    "print(\"mean radius: \", value[0])\n",
    "print(\"probability to belong bening: \", logistic_regression.probabilities(value)[0])\n",
    "print(\"probability to belong malignant: \", 1 - logistic_regression.probabilities(value)[0])\n",
    "print(\"predict class: \", \"bening\" if logistic_regression.predict(value)[0] == 1 else \"malignant\")"
   ]
  },
  {
   "cell_type": "code",
   "execution_count": 17,
   "metadata": {},
   "outputs": [
    {
     "name": "stdout",
     "output_type": "stream",
     "text": [
      "mean radius:  20\n",
      "probability to belong bening:  0.00013499712675155807\n",
      "probability to belong malignant:  0.9998650028732484\n",
      "predict class:  malignant\n"
     ]
    }
   ],
   "source": [
    "value = [20]\n",
    "print(\"mean radius: \", value[0])\n",
    "print(\"probability to belong bening: \", logistic_regression.probabilities(value)[0])\n",
    "print(\"probability to belong malignant: \", 1 - logistic_regression.probabilities(value)[0])\n",
    "print(\"predict class: \", \"bening\" if logistic_regression.predict(value)[0] == 1 else \"malignant\")"
   ]
  },
  {
   "cell_type": "markdown",
   "metadata": {},
   "source": [
    "## 4. Logistic Regression Prediction using all features."
   ]
  },
  {
   "cell_type": "markdown",
   "metadata": {},
   "source": [
    "### (a) Split the dataset into 75% training and 25% testing set. Don’t forget to use the stratify parameter in the train_test_split function to specify which column to use so that the split is proportionate"
   ]
  },
  {
   "cell_type": "markdown",
   "metadata": {},
   "source": [
    "#### References:\n",
    "* https://www.researchgate.net/publication/330903934_Using_Feature_Selection_Techniques_to_Improve_the_Accuracy_of_Breast_Cancer_Classification_Special_Issue_on_Data_and_Security_Engineering\n",
    "\n",
    "* https://chrisalbon.com/machine_learning/trees_and_forests/feature_selection_using_random_forest/#:~:text=Random%20Forests%20are%20often%20used,trees%20(called%20gini%20impurity)"
   ]
  },
  {
   "cell_type": "code",
   "execution_count": 18,
   "metadata": {},
   "outputs": [],
   "source": [
    "X = cancer.data\n",
    "\n",
    "Y = cancer.target\n",
    "\n",
    "feat_labels = cancer[\"feature_names\"]"
   ]
  },
  {
   "cell_type": "code",
   "execution_count": 19,
   "metadata": {},
   "outputs": [],
   "source": [
    "scaler = StandardScaler()\n",
    "\n",
    "X = scaler.fit_transform(X)"
   ]
  },
  {
   "cell_type": "code",
   "execution_count": 20,
   "metadata": {},
   "outputs": [],
   "source": [
    "# Split the data into 30% test and 60% training\n",
    "X_train, X_test, y_train, y_test = train_test_split(X, Y, test_size=0.25, random_state=0, stratify = Y)"
   ]
  },
  {
   "cell_type": "code",
   "execution_count": 21,
   "metadata": {},
   "outputs": [
    {
     "name": "stdout",
     "output_type": "stream",
     "text": [
      "('mean radius', 0.03836660647859019)\n",
      "('mean texture', 0.014279734589389597)\n",
      "('mean perimeter', 0.04994520089546741)\n",
      "('mean area', 0.04347841388867186)\n",
      "('mean smoothness', 0.004797904908833263)\n",
      "('mean compactness', 0.010898974670599007)\n",
      "('mean concavity', 0.05567860512858598)\n",
      "('mean concave points', 0.10755796011352367)\n",
      "('mean symmetry', 0.0034325701990947657)\n",
      "('mean fractal dimension', 0.0032105583732346234)\n",
      "('radius error', 0.01403675565578545)\n",
      "('texture error', 0.004593175020380768)\n",
      "('perimeter error', 0.01243627255092705)\n",
      "('area error', 0.031567652192931485)\n",
      "('smoothness error', 0.0033752074581847075)\n",
      "('compactness error', 0.0038563387975429726)\n",
      "('concavity error', 0.005602577764511326)\n",
      "('concave points error', 0.004701013750797065)\n",
      "('symmetry error', 0.0030981664733265657)\n",
      "('fractal dimension error', 0.002921292280830279)\n",
      "('worst radius', 0.11431290704159398)\n",
      "('worst texture', 0.016919179278975415)\n",
      "('worst perimeter', 0.13446300458651403)\n",
      "('worst area', 0.11081826176636358)\n",
      "('worst smoothness', 0.010155028649920123)\n",
      "('worst compactness', 0.013669146041864857)\n",
      "('worst concavity', 0.037461234144467184)\n",
      "('worst concave points', 0.13070624339739623)\n",
      "('worst symmetry', 0.007423736938676899)\n",
      "('worst fractal dimension', 0.006236276963019603)\n"
     ]
    }
   ],
   "source": [
    "# Create a random forest classifier\n",
    "clf = RandomForestClassifier(n_estimators=10000, random_state=0, n_jobs=-1)\n",
    "\n",
    "# Train the classifier\n",
    "clf.fit(X_train, y_train)\n",
    "\n",
    "# Print the name and gini importance of each feature\n",
    "for feature in zip(feat_labels, clf.feature_importances_):\n",
    "    print(feature)"
   ]
  },
  {
   "cell_type": "code",
   "execution_count": 22,
   "metadata": {},
   "outputs": [
    {
     "name": "stdout",
     "output_type": "stream",
     "text": [
      "mean radius\n",
      "mean perimeter\n",
      "mean area\n",
      "mean concavity\n",
      "mean concave points\n",
      "area error\n",
      "worst radius\n",
      "worst perimeter\n",
      "worst area\n",
      "worst concavity\n",
      "worst concave points\n"
     ]
    }
   ],
   "source": [
    "# Create a selector object that will use the random forest classifier to identify\n",
    "# features that have an importance of more than 0.03\n",
    "sfm = SelectFromModel(clf, threshold=0.03)\n",
    "\n",
    "# Train the selector\n",
    "sfm.fit(X_train, y_train)\n",
    "\n",
    "\n",
    "# Print the names of the most important features\n",
    "for feature_list_index in sfm.get_support(indices=True):\n",
    "    print(feat_labels[feature_list_index])"
   ]
  },
  {
   "cell_type": "code",
   "execution_count": 23,
   "metadata": {},
   "outputs": [],
   "source": [
    "# Transform the data to create a new dataset containing only the most important features\n",
    "# Note: We have to apply the transform to both the training X and test X data.\n",
    "X_important_train = sfm.transform(X_train)\n",
    "X_important_test = sfm.transform(X_test)"
   ]
  },
  {
   "cell_type": "code",
   "execution_count": 24,
   "metadata": {},
   "outputs": [
    {
     "data": {
      "text/plain": [
       "RandomForestClassifier(n_estimators=10000, n_jobs=-1, random_state=0)"
      ]
     },
     "execution_count": 24,
     "metadata": {},
     "output_type": "execute_result"
    }
   ],
   "source": [
    "# Create a new random forest classifier for the most important features\n",
    "clf_important = RandomForestClassifier(n_estimators=10000, random_state=0, n_jobs=-1)\n",
    "\n",
    "# Train the new classifier on the new dataset containing the most important features\n",
    "clf_important.fit(X_important_train, y_train)"
   ]
  },
  {
   "cell_type": "code",
   "execution_count": 25,
   "metadata": {},
   "outputs": [
    {
     "name": "stdout",
     "output_type": "stream",
     "text": [
      "0.9440559440559441\n"
     ]
    }
   ],
   "source": [
    "# Apply The Full Featured Classifier To The Test Data\n",
    "y_pred = clf.predict(X_test)\n",
    "\n",
    "# View The Accuracy Of Our Full Feature (30 Features) Model\n",
    "AllFeatures = accuracy_score(y_test, y_pred)\n",
    "print(AllFeatures)"
   ]
  },
  {
   "cell_type": "code",
   "execution_count": 26,
   "metadata": {},
   "outputs": [
    {
     "data": {
      "text/plain": [
       "(143, 11)"
      ]
     },
     "execution_count": 26,
     "metadata": {},
     "output_type": "execute_result"
    }
   ],
   "source": [
    "X_important_test.shape"
   ]
  },
  {
   "cell_type": "code",
   "execution_count": 27,
   "metadata": {},
   "outputs": [
    {
     "name": "stdout",
     "output_type": "stream",
     "text": [
      "0.9370629370629371\n"
     ]
    }
   ],
   "source": [
    "# Apply The Full Featured Classifier To The Test Data\n",
    "y_important_pred = clf_important.predict(X_important_test)\n",
    "\n",
    "# View The Accuracy Of Our Limited Feature (11 Features) Model\n",
    "LimitFeatures = accuracy_score(y_test, y_important_pred)\n",
    "print(LimitFeatures)"
   ]
  },
  {
   "cell_type": "code",
   "execution_count": 28,
   "metadata": {},
   "outputs": [
    {
     "name": "stdout",
     "output_type": "stream",
     "text": [
      "0.006993006993006978\n"
     ]
    }
   ],
   "source": [
    "#Diferecences \n",
    "\n",
    "print(AllFeatures-LimitFeatures)"
   ]
  },
  {
   "cell_type": "markdown",
   "metadata": {},
   "source": [
    "If we comparate the accuracy of all features with the limite features we could see that only loss 0.02 of acurracy, this cost is so small if we comparate the number of features in the model 30 original features vs 11 selected features. "
   ]
  },
  {
   "cell_type": "code",
   "execution_count": 29,
   "metadata": {},
   "outputs": [],
   "source": [
    "logistic_regression_f = LogisticRegression( max_iterations = 1000)"
   ]
  },
  {
   "cell_type": "code",
   "execution_count": 30,
   "metadata": {},
   "outputs": [],
   "source": [
    "logistic_regression_f.fit(X_important_train, y_train)"
   ]
  },
  {
   "cell_type": "markdown",
   "metadata": {},
   "source": [
    "### (b) Print the intercept and coefficients of the features."
   ]
  },
  {
   "cell_type": "code",
   "execution_count": 31,
   "metadata": {},
   "outputs": [
    {
     "name": "stdout",
     "output_type": "stream",
     "text": [
      "Intercept:  0.4980965910268875\n"
     ]
    }
   ],
   "source": [
    "print(\"Intercept: \", logistic_regression_f.coefficients[0])"
   ]
  },
  {
   "cell_type": "code",
   "execution_count": 32,
   "metadata": {},
   "outputs": [
    {
     "name": "stdout",
     "output_type": "stream",
     "text": [
      "Feature mean radius: -0.28197279572607475\n",
      "Feature mean perimeter: -0.2750982486629446\n",
      "Feature mean area: -0.35055940041323247\n",
      "Feature mean concavity: -0.4705587708036509\n",
      "Feature mean concave points: -0.9341021342888939\n",
      "Feature area error: -0.8330662714416529\n",
      "Feature worst radius: -1.1427522062895656\n",
      "Feature worst perimeter: -1.0029795178427994\n",
      "Feature worst area: -1.0372840436637998\n",
      "Feature worst concavity: -0.6144621768244449\n",
      "Feature worst concave points: -1.4390856256544087\n"
     ]
    }
   ],
   "source": [
    "for feature, coef in zip(sfm.get_support(indices=True), logistic_regression_f.coefficients[1:]):\n",
    "    print(\"Feature {}: {}\".format(feat_labels[feature], coef))"
   ]
  },
  {
   "cell_type": "markdown",
   "metadata": {},
   "source": [
    "## 5. Testing the Model."
   ]
  },
  {
   "cell_type": "markdown",
   "metadata": {},
   "source": [
    "### (a) Predict the observations in the test set. Print the results of the predictions and original diagnosis side-by-side for an easy comparison"
   ]
  },
  {
   "cell_type": "code",
   "execution_count": 33,
   "metadata": {},
   "outputs": [],
   "source": [
    "y_predicted = logistic_regression_f.predict(X_important_test)"
   ]
  },
  {
   "cell_type": "code",
   "execution_count": 34,
   "metadata": {},
   "outputs": [
    {
     "name": "stdout",
     "output_type": "stream",
     "text": [
      "Predicted: 1 --- Original: 1\n",
      "Predicted: 0 --- Original: 0\n",
      "Predicted: 0 --- Original: 0\n",
      "Predicted: 1 --- Original: 1\n",
      "Predicted: 0 --- Original: 0\n",
      "Predicted: 1 --- Original: 1\n",
      "Predicted: 0 --- Original: 0\n",
      "Predicted: 0 --- Original: 0\n",
      "Predicted: 0 --- Original: 0\n",
      "Predicted: 1 --- Original: 1\n",
      "Predicted: 0 --- Original: 0\n",
      "Predicted: 0 --- Original: 0\n",
      "Predicted: 1 --- Original: 0\n",
      "Predicted: 0 --- Original: 1\n",
      "Predicted: 1 --- Original: 1\n",
      "Predicted: 1 --- Original: 1\n",
      "Predicted: 1 --- Original: 1\n",
      "Predicted: 0 --- Original: 0\n",
      "Predicted: 1 --- Original: 0\n",
      "Predicted: 0 --- Original: 0\n",
      "Predicted: 1 --- Original: 1\n",
      "Predicted: 0 --- Original: 0\n",
      "Predicted: 0 --- Original: 0\n",
      "Predicted: 1 --- Original: 1\n",
      "Predicted: 1 --- Original: 1\n",
      "Predicted: 0 --- Original: 0\n",
      "Predicted: 1 --- Original: 1\n",
      "Predicted: 0 --- Original: 1\n",
      "Predicted: 1 --- Original: 1\n",
      "Predicted: 0 --- Original: 0\n",
      "Predicted: 0 --- Original: 1\n",
      "Predicted: 1 --- Original: 1\n",
      "Predicted: 1 --- Original: 1\n",
      "Predicted: 1 --- Original: 1\n",
      "Predicted: 1 --- Original: 1\n",
      "Predicted: 1 --- Original: 1\n",
      "Predicted: 0 --- Original: 0\n",
      "Predicted: 0 --- Original: 0\n",
      "Predicted: 0 --- Original: 0\n",
      "Predicted: 1 --- Original: 1\n",
      "Predicted: 0 --- Original: 0\n",
      "Predicted: 0 --- Original: 0\n",
      "Predicted: 0 --- Original: 0\n",
      "Predicted: 0 --- Original: 0\n",
      "Predicted: 1 --- Original: 1\n",
      "Predicted: 1 --- Original: 1\n",
      "Predicted: 1 --- Original: 1\n",
      "Predicted: 1 --- Original: 1\n",
      "Predicted: 0 --- Original: 0\n",
      "Predicted: 1 --- Original: 1\n",
      "Predicted: 0 --- Original: 0\n",
      "Predicted: 1 --- Original: 1\n",
      "Predicted: 1 --- Original: 1\n",
      "Predicted: 1 --- Original: 1\n",
      "Predicted: 1 --- Original: 1\n",
      "Predicted: 1 --- Original: 1\n",
      "Predicted: 1 --- Original: 1\n",
      "Predicted: 1 --- Original: 1\n",
      "Predicted: 0 --- Original: 1\n",
      "Predicted: 1 --- Original: 1\n",
      "Predicted: 1 --- Original: 0\n",
      "Predicted: 1 --- Original: 1\n",
      "Predicted: 1 --- Original: 1\n",
      "Predicted: 0 --- Original: 0\n",
      "Predicted: 0 --- Original: 0\n",
      "Predicted: 0 --- Original: 0\n",
      "Predicted: 0 --- Original: 0\n",
      "Predicted: 1 --- Original: 1\n",
      "Predicted: 1 --- Original: 1\n",
      "Predicted: 0 --- Original: 0\n",
      "Predicted: 1 --- Original: 1\n",
      "Predicted: 1 --- Original: 1\n",
      "Predicted: 1 --- Original: 1\n",
      "Predicted: 1 --- Original: 1\n",
      "Predicted: 1 --- Original: 1\n",
      "Predicted: 0 --- Original: 0\n",
      "Predicted: 1 --- Original: 1\n",
      "Predicted: 1 --- Original: 1\n",
      "Predicted: 1 --- Original: 1\n",
      "Predicted: 0 --- Original: 0\n",
      "Predicted: 1 --- Original: 1\n",
      "Predicted: 1 --- Original: 1\n",
      "Predicted: 0 --- Original: 0\n",
      "Predicted: 0 --- Original: 0\n",
      "Predicted: 0 --- Original: 0\n",
      "Predicted: 1 --- Original: 1\n",
      "Predicted: 1 --- Original: 1\n",
      "Predicted: 1 --- Original: 1\n",
      "Predicted: 1 --- Original: 1\n",
      "Predicted: 1 --- Original: 1\n",
      "Predicted: 1 --- Original: 1\n",
      "Predicted: 0 --- Original: 0\n",
      "Predicted: 0 --- Original: 0\n",
      "Predicted: 1 --- Original: 1\n",
      "Predicted: 1 --- Original: 0\n",
      "Predicted: 0 --- Original: 0\n",
      "Predicted: 1 --- Original: 1\n",
      "Predicted: 0 --- Original: 1\n",
      "Predicted: 1 --- Original: 1\n",
      "Predicted: 0 --- Original: 0\n",
      "Predicted: 0 --- Original: 0\n",
      "Predicted: 1 --- Original: 1\n",
      "Predicted: 0 --- Original: 0\n",
      "Predicted: 1 --- Original: 1\n",
      "Predicted: 1 --- Original: 1\n",
      "Predicted: 1 --- Original: 1\n",
      "Predicted: 0 --- Original: 0\n",
      "Predicted: 0 --- Original: 0\n",
      "Predicted: 1 --- Original: 1\n",
      "Predicted: 1 --- Original: 1\n",
      "Predicted: 1 --- Original: 1\n",
      "Predicted: 0 --- Original: 0\n",
      "Predicted: 1 --- Original: 1\n",
      "Predicted: 1 --- Original: 1\n",
      "Predicted: 1 --- Original: 1\n",
      "Predicted: 1 --- Original: 1\n",
      "Predicted: 1 --- Original: 1\n",
      "Predicted: 1 --- Original: 1\n",
      "Predicted: 1 --- Original: 1\n",
      "Predicted: 1 --- Original: 1\n",
      "Predicted: 1 --- Original: 1\n",
      "Predicted: 1 --- Original: 1\n",
      "Predicted: 1 --- Original: 1\n",
      "Predicted: 1 --- Original: 1\n",
      "Predicted: 0 --- Original: 0\n",
      "Predicted: 1 --- Original: 1\n",
      "Predicted: 1 --- Original: 1\n",
      "Predicted: 0 --- Original: 0\n",
      "Predicted: 1 --- Original: 1\n",
      "Predicted: 1 --- Original: 1\n",
      "Predicted: 1 --- Original: 1\n",
      "Predicted: 0 --- Original: 0\n",
      "Predicted: 1 --- Original: 1\n",
      "Predicted: 1 --- Original: 1\n",
      "Predicted: 1 --- Original: 1\n",
      "Predicted: 1 --- Original: 1\n",
      "Predicted: 0 --- Original: 0\n",
      "Predicted: 1 --- Original: 1\n",
      "Predicted: 0 --- Original: 0\n",
      "Predicted: 1 --- Original: 1\n",
      "Predicted: 0 --- Original: 0\n",
      "Predicted: 1 --- Original: 1\n",
      "Predicted: 0 --- Original: 0\n"
     ]
    }
   ],
   "source": [
    "for predict, original in zip(y_predicted, y_test):\n",
    "    print(\"Predicted: {} --- Original: {}\".format(predict, original))"
   ]
  },
  {
   "cell_type": "markdown",
   "metadata": {},
   "source": [
    "### (b) The confusion matrix shows the number of actual and predicted labels and how many of them are classified correctly. Print the Confusion Matrix:"
   ]
  },
  {
   "cell_type": "code",
   "execution_count": 35,
   "metadata": {},
   "outputs": [
    {
     "data": {
      "text/plain": [
       "array([[49,  4],\n",
       "       [ 5, 85]], dtype=int64)"
      ]
     },
     "execution_count": 35,
     "metadata": {},
     "output_type": "execute_result"
    }
   ],
   "source": [
    "confusion_matrix = metrics.confusion_matrix(y_test, y_predicted)\n",
    "confusion_matrix"
   ]
  },
  {
   "cell_type": "code",
   "execution_count": 36,
   "metadata": {},
   "outputs": [
    {
     "data": {
      "image/png": "[encoded data removed]",
      "text/plain": [
       "<Figure size 576x576 with 2 Axes>"
      ]
     },
     "metadata": {
      "needs_background": "light"
     },
     "output_type": "display_data"
    }
   ],
   "source": [
    "# After obtaining the `confusion_matrix` in the las cell\n",
    "# execute this cell to print it into a graphical way.\n",
    "\n",
    "corr_im = plt.imshow(confusion_matrix, cmap=\"Reds\", vmin=0)\n",
    "corr_cbar = plt.colorbar(corr_im)\n",
    "\n",
    "corr_array = corr_im.get_array()\n",
    "for i in range(confusion_matrix.shape[0]):\n",
    "    for j in range(confusion_matrix.shape[1]):\n",
    "        cell_value = corr_array[i][j]\n",
    "        if cell_value > 0.5*np.max(confusion_matrix):\n",
    "            text_color = 'white'\n",
    "        else:\n",
    "            text_color = 'black'\n",
    "        plt.text(i, j, '{:.2f}'.format(cell_value), color=text_color, ha='center', va='center')\n",
    "\n",
    "plt.xticks(ticks=range(len(cancer.target_names)), labels=cancer.target_names)\n",
    "plt.yticks(ticks=range(len(cancer.target_names)), labels=cancer.target_names)\n",
    "\n",
    "plt.xlabel(\"True class\")\n",
    "plt.ylabel(\"Predicted class\")\n",
    "plt.show()"
   ]
  },
  {
   "cell_type": "markdown",
   "metadata": {},
   "source": [
    "### (c) Based on the confusion matrix, calculate the following metrics:"
   ]
  },
  {
   "cell_type": "code",
   "execution_count": 37,
   "metadata": {},
   "outputs": [],
   "source": [
    "tn, fp, fn, tp = confusion_matrix.ravel()"
   ]
  },
  {
   "cell_type": "markdown",
   "metadata": {},
   "source": [
    "#### Accuracy: It is defined as the sum of all correct predictions divided by the total number of predictions:"
   ]
  },
  {
   "cell_type": "code",
   "execution_count": 38,
   "metadata": {},
   "outputs": [
    {
     "name": "stdout",
     "output_type": "stream",
     "text": [
      "Accuracy:  0.9370629370629371\n"
     ]
    }
   ],
   "source": [
    "accuracy = (tp + tn)/(tp + tn + fp + fn)\n",
    "print(\"Accuracy: \",accuracy)"
   ]
  },
  {
   "cell_type": "markdown",
   "metadata": {},
   "source": [
    "#### Recall (True Positive Rate TPR): It is defined to be,"
   ]
  },
  {
   "cell_type": "code",
   "execution_count": 39,
   "metadata": {},
   "outputs": [
    {
     "name": "stdout",
     "output_type": "stream",
     "text": [
      "Recall:  0.9444444444444444\n"
     ]
    }
   ],
   "source": [
    "recall = (tp)/(tp + fn)\n",
    "print(\"Recall: \",recall)"
   ]
  },
  {
   "cell_type": "markdown",
   "metadata": {},
   "source": [
    "#### False Positive Rate (FPR). It is defined to be"
   ]
  },
  {
   "cell_type": "code",
   "execution_count": 40,
   "metadata": {},
   "outputs": [
    {
     "name": "stdout",
     "output_type": "stream",
     "text": [
      "FPR:  0.07547169811320754\n"
     ]
    }
   ],
   "source": [
    "fpr = (fp)/( tn + fp )\n",
    "print(\"FPR: \",fpr)"
   ]
  },
  {
   "cell_type": "markdown",
   "metadata": {},
   "source": [
    "#### F1 Score. It is defined to be:"
   ]
  },
  {
   "cell_type": "code",
   "execution_count": 41,
   "metadata": {},
   "outputs": [
    {
     "name": "stdout",
     "output_type": "stream",
     "text": [
      "F1:  0.9497206703910613\n"
     ]
    }
   ],
   "source": [
    "precision = tp/(fp+tp)\n",
    "f1 = 2 * ((precision*recall)/(precision+recall))\n",
    "print(\"F1: \",f1)"
   ]
  },
  {
   "cell_type": "markdown",
   "metadata": {},
   "source": [
    "#### (d) If a malignant tumor is represented as negative and benign tumor is represented as positive, what does it mean if:"
   ]
  },
  {
   "cell_type": "markdown",
   "metadata": {},
   "source": [
    "- The precision or recall is high:\n",
    "It means that there weren't many False Positives or False Negatives, because the denominator amount is almost the same as the nominator, which is the amount of true positives we would have. This means, that tumors are being located correctly. \n",
    "\n",
    "- The precision is low:\n",
    "If the precision is low, it would mean that we have a large case of false positives, thus the tumors are being falsely flagged as beningn. \n",
    "\n",
    "- The recall is low:\n",
    "If the recall is low, it would mean that we have a large case of false negatives, thus the tumors are being falsely flagged as malignant."
   ]
  },
  {
   "cell_type": "markdown",
   "metadata": {},
   "source": [
    "#### (e) Use the score() function of the model to get the accuracy and use the classification_report() to get the precision, recall and F1-score."
   ]
  },
  {
   "cell_type": "code",
   "execution_count": 42,
   "metadata": {},
   "outputs": [
    {
     "data": {
      "text/plain": [
       "0.9370629370629371"
      ]
     },
     "execution_count": 42,
     "metadata": {},
     "output_type": "execute_result"
    }
   ],
   "source": [
    "accuracy_score(y_test, y_predicted)"
   ]
  },
  {
   "cell_type": "code",
   "execution_count": 43,
   "metadata": {},
   "outputs": [
    {
     "name": "stdout",
     "output_type": "stream",
     "text": [
      "              precision    recall  f1-score   support\n",
      "\n",
      "   malignant       0.91      0.92      0.92        53\n",
      "      benign       0.96      0.94      0.95        90\n",
      "\n",
      "    accuracy                           0.94       143\n",
      "   macro avg       0.93      0.93      0.93       143\n",
      "weighted avg       0.94      0.94      0.94       143\n",
      "\n"
     ]
    }
   ],
   "source": [
    "print(metrics.classification_report(y_test, y_predicted, target_names=cancer.target_names))"
   ]
  },
  {
   "cell_type": "code",
   "execution_count": 44,
   "metadata": {},
   "outputs": [
    {
     "name": "stdout",
     "output_type": "stream",
     "text": [
      "              precision    recall  f1-score   support\n",
      "\n",
      "           0       0.91      0.92      0.92        53\n",
      "           1       0.96      0.94      0.95        90\n",
      "\n",
      "    accuracy                           0.94       143\n",
      "   macro avg       0.93      0.93      0.93       143\n",
      "weighted avg       0.94      0.94      0.94       143\n",
      "\n"
     ]
    }
   ],
   "source": [
    "print(metrics.classification_report(y_test, y_predicted))"
   ]
  },
  {
   "cell_type": "markdown",
   "metadata": {},
   "source": [
    "## 6. ROC curve. The Receiver Operating Characteristic (ROC) curve is an alternative to examine the effectiveness of an algorithm. The ROC curve is created by plotting the TPR against the FPR at various threshold settings."
   ]
  },
  {
   "cell_type": "markdown",
   "metadata": {},
   "source": [
    "## (a) Find the value of the FPR and TPR at different values of the threshold (0.1, 0.2, 0.3, 0.4, 0.5, 0.6, 0.7, 0.8, 0.9) "
   ]
  },
  {
   "cell_type": "code",
   "execution_count": 45,
   "metadata": {},
   "outputs": [],
   "source": [
    "y_probs = logistic_regression_f.probabilities(X_important_test)"
   ]
  },
  {
   "cell_type": "code",
   "execution_count": 46,
   "metadata": {},
   "outputs": [],
   "source": [
    "thresholds = np.linspace(0.1,.9,9)\n",
    "\n",
    "TPR_L = []\n",
    "\n",
    "FPR_L = []\n",
    "\n",
    "for tresh in thresholds:\n",
    "\n",
    "    y_predicted = [1 if value >= tresh else 0 for value in y_probs]\n",
    "\n",
    "    tn, fp, fn, tp = metrics.confusion_matrix(y_test, y_predicted).ravel()\n",
    "    \n",
    "    tpr = tp/(tp+fn)\n",
    "    \n",
    "    TPR_L.append(tpr)\n",
    "    \n",
    "    fpr = fp/(fp+tn)\n",
    "    \n",
    "    FPR_L.append(fpr)\n",
    "    \n",
    "    "
   ]
  },
  {
   "cell_type": "code",
   "execution_count": 47,
   "metadata": {},
   "outputs": [
    {
     "data": {
      "image/png": "[encoded data removed]",
      "text/plain": [
       "<Figure size 576x576 with 1 Axes>"
      ]
     },
     "metadata": {
      "needs_background": "light"
     },
     "output_type": "display_data"
    }
   ],
   "source": [
    "plt.plot(thresholds, TPR_L,'.', markersize = 15, linestyle = '-')\n",
    "plt.title(\"TPR per each treshold\")\n",
    "plt.xlabel(\"Treshold\")\n",
    "plt.ylabel(\"TPR\")\n",
    "plt.show()"
   ]
  },
  {
   "cell_type": "code",
   "execution_count": 48,
   "metadata": {},
   "outputs": [
    {
     "data": {
      "image/png": "[encoded data removed]",
      "text/plain": [
       "<Figure size 576x576 with 1 Axes>"
      ]
     },
     "metadata": {
      "needs_background": "light"
     },
     "output_type": "display_data"
    }
   ],
   "source": [
    "plt.plot(thresholds, FPR_L,'.', markersize = 15, linestyle = '-')\n",
    "plt.title(\"FPR per each treshold\")\n",
    "plt.xlabel(\"Treshold\")\n",
    "plt.ylabel(\"FPR\")\n",
    "plt.show()"
   ]
  },
  {
   "cell_type": "markdown",
   "metadata": {},
   "source": [
    "## (b) What are the values of the TPR and FPR with threshold of value 0 and 1? "
   ]
  },
  {
   "cell_type": "code",
   "execution_count": 49,
   "metadata": {},
   "outputs": [
    {
     "name": "stdout",
     "output_type": "stream",
     "text": [
      "value 0 -- TPR: 1.0 -- FPR: 1.0\n",
      "[[ 0 53]\n",
      " [ 0 90]] \n",
      "\n",
      "value 1 -- TPR: 0.0 -- FPR: 0.0\n",
      "[[53  0]\n",
      " [90  0]] \n",
      "\n"
     ]
    }
   ],
   "source": [
    "for tresh in [0,1]:\n",
    "\n",
    "    y_predicted = [1 if value >= tresh else 0 for value in y_probs]\n",
    "\n",
    "    tn, fp, fn, tp = metrics.confusion_matrix(y_test, y_predicted).ravel()  \n",
    "    \n",
    "    tpr = tp/(tp+fn)\n",
    "    \n",
    "    fpr = fp/(fp+tn)\n",
    "     \n",
    "    print(\"value {} -- TPR: {} -- FPR: {}\".format(tresh, tpr,fpr))\n",
    "    print(metrics.confusion_matrix(y_test, y_predicted), \"\\n\")"
   ]
  },
  {
   "cell_type": "markdown",
   "metadata": {},
   "source": [
    "## (c) Make a scatter plot of the FPR and TPR "
   ]
  },
  {
   "cell_type": "code",
   "execution_count": 50,
   "metadata": {},
   "outputs": [
    {
     "data": {
      "image/png": "[encoded data removed]",
      "text/plain": [
       "<Figure size 576x576 with 1 Axes>"
      ]
     },
     "metadata": {
      "needs_background": "light"
     },
     "output_type": "display_data"
    }
   ],
   "source": [
    "plt.plot(FPR_L, TPR_L, '.', markersize = 15, linestyle = '-')\n",
    "plt.xlabel(\"FPR\")\n",
    "plt.ylabel(\"TPR\")\n",
    "plt.title(\"FPR vs TRP\")\n",
    "plt.show()"
   ]
  },
  {
   "cell_type": "markdown",
   "metadata": {},
   "source": [
    "## (d) Use the roc_curve() function to plot the ROC curve and compute the Area Under the Curve (AUC)."
   ]
  },
  {
   "cell_type": "code",
   "execution_count": 51,
   "metadata": {},
   "outputs": [
    {
     "data": {
      "image/png": "[encoded data removed]",
      "text/plain": [
       "<Figure size 576x576 with 1 Axes>"
      ]
     },
     "metadata": {
      "needs_background": "light"
     },
     "output_type": "display_data"
    }
   ],
   "source": [
    "fpr1, tpr1, thresh = metrics.roc_curve(y_test, y_probs)\n",
    "\n",
    "plt.plot(fpr1, tpr1, linestyle='--',color='green')\n",
    "plt.title('ROC curve')\n",
    "plt.xlabel('False Positive Rate (FPR)')\n",
    "plt.ylabel('True Positive rate (TPR)')\n",
    "plt.show();"
   ]
  },
  {
   "cell_type": "code",
   "execution_count": 52,
   "metadata": {},
   "outputs": [
    {
     "data": {
      "image/png": "[encoded data removed]",
      "text/plain": [
       "<Figure size 576x576 with 1 Axes>"
      ]
     },
     "metadata": {
      "needs_background": "light"
     },
     "output_type": "display_data"
    }
   ],
   "source": [
    "fpr1, tpr1, thresh = metrics.roc_curve(y_test, y_probs)\n",
    "roc_auc = metrics.auc(fpr1, tpr1)\n",
    "display = metrics.RocCurveDisplay(fpr=fpr1, tpr=tpr1, roc_auc=roc_auc, estimator_name='estimator')\n",
    "display.plot()  \n",
    "plt.show()"
   ]
  },
  {
   "cell_type": "code",
   "execution_count": 54,
   "metadata": {},
   "outputs": [
    {
     "data": {
      "image/png": "[encoded data removed]",
      "text/plain": [
       "<Figure size 576x576 with 1 Axes>"
      ]
     },
     "metadata": {
      "needs_background": "light"
     },
     "output_type": "display_data"
    }
   ],
   "source": [
    "roc_auc = metrics.auc(fpr1, tpr1)\n",
    "plt.plot(fpr1, tpr1, marker='.', label=\"AUC = {}\".format(round(roc_auc, 4)))\n",
    "plt.plot([0, 1], [0, 1], linestyle = '--')\n",
    "plt.title('ROC curve')\n",
    "plt.xlabel('False Positive Rate (FPR)')\n",
    "plt.ylabel('True Positive rate (TPR)')\n",
    "plt.legend()\n",
    "plt.show();"
   ]
  },
  {
   "cell_type": "code",
   "execution_count": null,
   "metadata": {},
   "outputs": [],
   "source": []
  }
 ],
 "metadata": {
  "kernelspec": {
   "display_name": "Python 3",
   "language": "python",
   "name": "python3"
  },
  "language_info": {
   "codemirror_mode": {
    "name": "ipython",
    "version": 3
   },
   "file_extension": ".py",
   "mimetype": "text/x-python",
   "name": "python",
   "nbconvert_exporter": "python",
   "pygments_lexer": "ipython3",
   "version": "3.8.6"
  }
 },
 "nbformat": 4,
 "nbformat_minor": 4
}
