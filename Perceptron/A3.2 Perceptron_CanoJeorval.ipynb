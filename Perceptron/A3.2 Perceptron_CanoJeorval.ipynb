{
 "cells": [
  {
   "cell_type": "code",
   "execution_count": 1,
   "metadata": {},
   "outputs": [],
   "source": [
    "import numpy as np\n",
    "import pandas as pd\n",
    "from sklearn import datasets\n",
    "from matplotlib import pyplot as plt\n",
    "import seaborn as sns\n",
    "from sklearn.preprocessing import StandardScaler\n",
    "from sklearn.model_selection import train_test_split\n",
    "import sklearn.metrics as metrics\n",
    "\n",
    "plt.rcParams[\"figure.figsize\"] = (8,8)"
   ]
  },
  {
   "cell_type": "markdown",
   "metadata": {},
   "source": [
    "# Perceptrón\n",
    "\n",
    "## 1. Introduction\n",
    "\n",
    "Neural Networks are computational models whose objective is to replicate information processing methods analogous to those found in neurons in the brain.\n",
    "\n",
    "A neural network is a collection of interconnected neurons that learn incrementally from their enviroment, that is, the supplied data, to capture linear and non-linear trends in complex data, so that it provides predictions for new situations.\n",
    "\n",
    "From a computational point of view, the brain is composed of information-processing elements called neurons. Neurons are made up of three essential elements:\n",
    "\n",
    "1. The dendrites whose function is to receive the electrical pulses emitted by other neurons. \n",
    "2. The body of the neuron, where the nucleus is located, which receives the pulses and transforms them.\n",
    "3. Once the pulses are processed, they are delivered to other neurons through the axon.\n",
    "\n",
    "<center>\n",
    "    <img src=\"Images/Neurona_tagged.png\" width=\"600\">\n",
    "\n",
    "**Fig. 1:** Principal Component of a Neuron.\n",
    "</center>\n",
    "\n",
    "The Perceptron is one of the simples ANN architectures proposed by Frank Rosenblatt in 1957. The Perceptron training algorithm proposed by Rosenblatt was inspired by Hebb's rule. Donal Hebb suggested that when a biological neuron often triggers another neuron, the connection between these two neurons grows stronger. This idea was later summarized by Siegrid Löwel: \"Cells that fire together, wire together\". This rule later became known as Hebb's rule; that is the connection wegith between two neurons is increased whenever they have the same output [1].\n",
    "\n",
    "Perceptrons are trained using a variant of this rule that considers the error made by the network. The Perceptron is fed one training instance at a time, and for each instance it makes its prediction. For every output neuron that produced a wrong prediction, it reinforces the connection weights from the input that would have contributed to the correct prediction [1].\n",
    "\n",
    "## 2. Logic Gates\n",
    "\n",
    "An introductory exercise to neural networks consists of selecting the appropriate weight factors for the creation of logic gates. Figure 2 includes the schema for the perceptron as a logic gate discussed in class.\n",
    "\n",
    "<center>\n",
    "    <img src=\"Images/NeuralNetwork.png\" width=\"600\">\n",
    "\n",
    "**Fig. 2:** Perceptron as Logic Gate.\n",
    "</center>\n",
    "\n",
    "### **OR** Gate\n",
    "\n",
    "The table used to represent the boolean expression of a logic gate is known as Truth Table. The corresponding truth table for the **OR** gate is:  \n",
    "\n",
    "\n",
    "\n",
    "| $x_1$ | $x_2$   | y |\n",
    "| --- |---| ---:|\n",
    "| 0  | 0  | 0  |\n",
    "| 0  | 1  | 1  |\n",
    "| 1  | 0  | 1  |\n",
    "| 1  | 1  | 1  |\n",
    "\n",
    "<center>\n",
    "    Table 1. Truth Table of the **OR** Gate\n",
    "</center>\n",
    "\n",
    "The following code was retrieved from [2].  The four instances ($x_1$, $x_2$) are stored as tuples in `test_inputs` and the corresponding output are in `test_outputs`. Observe that `weight1` corresponds to the weight of $x_1$, `weight2`to the weight of $x_2$ and `bias` to the bias."
   ]
  },
  {
   "cell_type": "code",
   "execution_count": 2,
   "metadata": {},
   "outputs": [
    {
     "name": "stdout",
     "output_type": "stream",
     "text": [
      " X1  X2  Linear Combination  Activation Output Correct?\n",
      "  0   0                 0.0                  1       No\n",
      "  0   1                 0.0                  1      Yes\n",
      "  1   0                 0.0                  1      Yes\n",
      "  1   1                 0.0                  1      Yes\n"
     ]
    }
   ],
   "source": [
    "bias = 0.0\n",
    "weight1 = 0.0\n",
    "weight2 = 0.0\n",
    "\n",
    "# Input and Outputs\n",
    "test_inputs = [(0, 0), (0, 1), (1, 0), (1, 1)]\n",
    "test_outputs = [0, 1, 1, 1]\n",
    "outputs = []\n",
    "\n",
    "for test_input, test_output in zip(test_inputs, test_outputs):\n",
    "    # Linear Combination\n",
    "    linear_combination = weight1 * test_input[0] + weight2 * test_input[1] + bias\n",
    "    \n",
    "    # Activation Function (Step Function)\n",
    "    output = int(linear_combination >= 0)\n",
    "    \n",
    "    # Save if the prediction is correct ('Yes') or not ('No')\n",
    "    is_correct_string = 'Yes' if output == test_output else 'No'\n",
    "    outputs.append([test_input[0], test_input[1], linear_combination, output, is_correct_string])\n",
    "    \n",
    "output_frame = pd.DataFrame(outputs, columns=['X1', 'X2', 'Linear Combination', 'Activation Output', 'Correct?'])\n",
    "\n",
    "print(output_frame.to_string(index=False))"
   ]
  },
  {
   "cell_type": "markdown",
   "metadata": {},
   "source": [
    "**T1.** Which are the correct values of `weight1`,`weight2` anb `bias` such that the perceptron acts as the logical gate **OR**? Justify your answer by using the concepts: *discriminant function* and *decision boundary*. You can add and schema if you need it."
   ]
  },
  {
   "cell_type": "code",
   "execution_count": 3,
   "metadata": {},
   "outputs": [
    {
     "name": "stdout",
     "output_type": "stream",
     "text": [
      " X1  X2  Linear Combination  Activation Output Correct?\n",
      "  0   0                  -1                  0      Yes\n",
      "  0   1                   0                  1      Yes\n",
      "  1   0                   0                  1      Yes\n",
      "  1   1                   1                  1      Yes\n"
     ]
    }
   ],
   "source": [
    "bias = -1\n",
    "weight1 = 1\n",
    "weight2 = 1\n",
    "\n",
    "# Input and Outputs\n",
    "test_inputs = [(0, 0), (0, 1), (1, 0), (1, 1)]\n",
    "test_outputs = [0, 1, 1, 1]\n",
    "outputs = []\n",
    "\n",
    "\n",
    "for test_input, test_output in zip(test_inputs, test_outputs):\n",
    "    # Linear Combination\n",
    "    linear_combination = weight1 * test_input[0] + weight2 * test_input[1] + bias\n",
    "    \n",
    "    # Activation Function (Step Function)\n",
    "    output = int(linear_combination >= 0)\n",
    "    \n",
    "    # Save if the prediction is correct ('Yes') or not ('No')\n",
    "    is_correct_string = 'Yes' if output == test_output else 'No'\n",
    "    outputs.append([test_input[0], test_input[1], linear_combination, output, is_correct_string])\n",
    "    \n",
    "output_frame = pd.DataFrame(outputs, columns=['X1', 'X2', 'Linear Combination', 'Activation Output', 'Correct?'])\n",
    "\n",
    "print(output_frame.to_string(index=False))"
   ]
  },
  {
   "cell_type": "code",
   "execution_count": 4,
   "metadata": {},
   "outputs": [
    {
     "data": {
      "image/png": "[encoded data removed]",
      "text/plain": [
       "<Figure size 576x576 with 1 Axes>"
      ]
     },
     "metadata": {
      "needs_background": "light"
     },
     "output_type": "display_data"
    }
   ],
   "source": [
    "list1 = [(row[0], row[1]) for row in test_inputs if row[0] == 1 or row[1] == 1]\n",
    "list0 = [(row[0], row[1]) for row in test_inputs if row[0] == 0 and row[1] == 0]\n",
    "\n",
    "x_axis_0 = [row[0] for row in list0]\n",
    "y_axis_0 = [row[1] for row in list0]\n",
    "\n",
    "\n",
    "x_axis_1 = [row[0] for row in list1]\n",
    "y_axis_1 = [row[1] for row in list1]\n",
    "\n",
    "x_axis = np.linspace(-1,2,10)\n",
    "y_axis = - x_axis*weight1 - bias\n",
    "\n",
    "\n",
    "plt.scatter(x_axis_0, y_axis_0, label = 0, s = 100)\n",
    "plt.scatter(x_axis_1, y_axis_1, color = 'r', label = 1, s = 100)\n",
    "plt.plot(x_axis, y_axis, '--', color = 'black')\n",
    "plt.xlim([-.1,2])\n",
    "plt.ylim([-.1,2])\n",
    "plt.xlabel(\"$X_1$\")\n",
    "plt.ylabel(\"$X_2$\")\n",
    "plt.grid()\n",
    "plt.legend()\n",
    "plt.show()"
   ]
  },
  {
   "cell_type": "markdown",
   "metadata": {},
   "source": [
    "**Write your answer here!** \n",
    "\n"
   ]
  },
  {
   "cell_type": "markdown",
   "metadata": {},
   "source": [
    "# Answer"
   ]
  },
  {
   "cell_type": "markdown",
   "metadata": {},
   "source": [
    "The decision boundary is defined by the discriminant function = 0. The discriminant function is the equation that will help us define where a boundary exists. Given that equation we can classify where a given point belongs. In this case, our disciminant function is given by \"weight1 * test_input[0] + weight2 * test_input[1] + bias\" with the test inputs acting as the input variables. \n",
    "\n",
    "While testing, we can check the outputs with the ones we're supposed to have with the OR logic gate, for this we created a table to reference it. We figured out the values -1 , 1 and 1 for bias, weight1 and weight2 (respectively) worked. And after that we plotted in order to succesfully showcase our values."
   ]
  },
  {
   "cell_type": "markdown",
   "metadata": {},
   "source": [
    "### Compuerta **AND**\n",
    "\n",
    "The corresponding truth table for the **AND** gate is: \n",
    "\n",
    "\n",
    "| $x_1$ | $x_2$   | y |\n",
    "| ------ |---------| ------:|\n",
    "| 0  | 0  | 0  |\n",
    "| 0  | 1  | 0  |\n",
    "| 1  | 0  | 0  |\n",
    "| 1  | 1  | 1  |\n",
    "\n",
    "<center>\n",
    "    Table 2. Truth Table of the **AND**.\n",
    "</center>\n",
    "\n",
    "**T2.** Which are the correct values of `weight1`,`weight2` anb `bias` such that the perceptron acts as the logical gate **AND**? Justify your answer by using the concepts: *discriminant function* and *decision boundary*. You can add and schema if you need it. \n",
    "\n",
    "Note that you need to write the inputs/outputs for the gate **AND**."
   ]
  },
  {
   "cell_type": "code",
   "execution_count": 5,
   "metadata": {},
   "outputs": [
    {
     "name": "stdout",
     "output_type": "stream",
     "text": [
      " X1  X2  Linear Combination  Activation Output Correct?\n",
      "  0   0                  -2                  0      Yes\n",
      "  0   1                  -1                  0      Yes\n",
      "  1   0                  -1                  0      Yes\n",
      "  1   1                   0                  1      Yes\n"
     ]
    }
   ],
   "source": [
    "weight1 = 1\n",
    "weight2 = 1\n",
    "bias = -2\n",
    "\n",
    "\n",
    "# Input and Outputs\n",
    "test_inputs = [(0, 0), (0, 1), (1, 0), (1, 1)]\n",
    "test_outputs = [0, 0, 0, 1]\n",
    "outputs = []\n",
    "\n",
    "\n",
    "for test_input, test_output in zip(test_inputs, test_outputs):\n",
    "    # Linear Combination\n",
    "    linear_combination = weight1 * test_input[0] + weight2 * test_input[1] + bias\n",
    "    \n",
    "    # Activation Function (Step Function)\n",
    "    output = int(linear_combination >= 0)\n",
    "    \n",
    "    # Save if the prediction is correct ('Yes') or not ('No')\n",
    "    is_correct_string = 'Yes' if output == test_output else 'No'\n",
    "    outputs.append([test_input[0], test_input[1], linear_combination, output, is_correct_string])\n",
    "    \n",
    "output_frame = pd.DataFrame(outputs, columns=['X1', 'X2', 'Linear Combination', 'Activation Output', 'Correct?'])\n",
    "\n",
    "print(output_frame.to_string(index=False))"
   ]
  },
  {
   "cell_type": "code",
   "execution_count": 6,
   "metadata": {},
   "outputs": [
    {
     "data": {
      "image/png": "[encoded data removed]",
      "text/plain": [
       "<Figure size 576x576 with 1 Axes>"
      ]
     },
     "metadata": {
      "needs_background": "light"
     },
     "output_type": "display_data"
    }
   ],
   "source": [
    "list1 = [(row[0], row[1]) for row in test_inputs if row[0] == 1 and row[1] == 1]\n",
    "list0 = [(row[0], row[1]) for row in test_inputs if row[0] == 0 or row[1] == 0]\n",
    "\n",
    "x_axis_0 = [row[0] for row in list0]\n",
    "y_axis_0 = [row[1] for row in list0]\n",
    "\n",
    "\n",
    "x_axis_1 = [row[0] for row in list1]\n",
    "y_axis_1 = [row[1] for row in list1]\n",
    "\n",
    "x_axis = np.linspace(-1,2,10)\n",
    "y_axis = - x_axis*weight1 - bias\n",
    "\n",
    "\n",
    "plt.scatter(x_axis_0, y_axis_0, label = 0, s = 100)\n",
    "plt.scatter(x_axis_1, y_axis_1, color = 'r', label = 1, s = 100)\n",
    "plt.plot(x_axis, y_axis, '--', color = 'black')\n",
    "plt.xlim([-.1,2])\n",
    "plt.ylim([-.1,2])\n",
    "plt.xlabel(\"$X_1$\")\n",
    "plt.ylabel(\"$X_2$\")\n",
    "plt.grid()\n",
    "plt.legend()\n",
    "plt.show()"
   ]
  },
  {
   "cell_type": "markdown",
   "metadata": {},
   "source": [
    "# Answer"
   ]
  },
  {
   "cell_type": "markdown",
   "metadata": {},
   "source": [
    "The decision boundary is defined by the discriminant function = 0. The discriminant function is the equation that will help us define where a boundary exists. Given that equation we can classify where a given point belongs. In this case, our disciminant function is given by \" weight1 * test_input[0] + weight2 * test_input[1] + bias\" with the test inputs acting as the input variables.\n",
    "\n",
    "While testing, we can check the outputs with the ones we're supposed to have with the AND logic gate, for this we created a table to reference it. We figured out the values -2 , 1 and 1 for bias, weight1 and weight2 (respectively) worked. And after that we plotted in order to succesfully showcase our values."
   ]
  },
  {
   "cell_type": "markdown",
   "metadata": {},
   "source": [
    "### Compuerta **NOT**\n",
    "\n",
    "The corresponding truth table for the **NOT** gate is: \n",
    "\n",
    "\n",
    "\n",
    "\n",
    "| $x_1$ | $y$   |\n",
    "| ------ | ------:|\n",
    "| 0  | 1  |\n",
    "| 1  | 0  |\n",
    "\n",
    "<center>\n",
    "    Table 3. Truth Table of the **NOT**.\n",
    "</center>\n",
    "\n",
    "\n",
    "**T3.** Which are the correct values of `weight1` anb `bias` such that the perceptron acts as the logical gate **NOT**? Justify your answer by using the concepts: *discriminant function* and *decision boundary*. You can add and schema if you need it. \n",
    "\n",
    "The following code is the same as in the previous tasks. Adapt the code in order to create a Perceptron which acts as the logical gate **NOT**."
   ]
  },
  {
   "cell_type": "code",
   "execution_count": 7,
   "metadata": {
    "scrolled": true
   },
   "outputs": [
    {
     "name": "stdout",
     "output_type": "stream",
     "text": [
      " X1  Linear Combination  Activation Output Correct?\n",
      "  0                   0                  1      Yes\n",
      "  1                  -1                  0      Yes\n"
     ]
    }
   ],
   "source": [
    "weight1 = -1\n",
    "bias = 0\n",
    "\n",
    "\n",
    "\n",
    "# Input and Outputs\n",
    "test_inputs = [0,1]  \n",
    "test_outputs = [1,0]\n",
    "outputs = []\n",
    "\n",
    "for test_input, test_output in zip(test_inputs, test_outputs):\n",
    "    # Linear Combination\n",
    "    linear_combination = weight1 * test_input  + bias\n",
    "    \n",
    "    # Activation Function (Step Function)\n",
    "    output = int(linear_combination >= 0)\n",
    "    \n",
    "    # Save if the prediction is correct ('Yes') or not ('No')\n",
    "    is_correct_string = 'Yes' if output == test_output else 'No'\n",
    "    outputs.append([test_input, linear_combination, output, is_correct_string])\n",
    "    \n",
    "output_frame = pd.DataFrame(outputs, columns=['X1', 'Linear Combination', 'Activation Output', 'Correct?'])\n",
    "\n",
    "print(output_frame.to_string(index=False))"
   ]
  },
  {
   "cell_type": "markdown",
   "metadata": {},
   "source": [
    "# Note: la gráfica de esta no sé si está bien xd"
   ]
  },
  {
   "cell_type": "code",
   "execution_count": 8,
   "metadata": {},
   "outputs": [
    {
     "data": {
      "image/png": "[encoded data removed]",
      "text/plain": [
       "<Figure size 576x576 with 1 Axes>"
      ]
     },
     "metadata": {
      "needs_background": "light"
     },
     "output_type": "display_data"
    }
   ],
   "source": [
    "list1 = [(0,1)]\n",
    "list0 = [(1,0)]\n",
    "\n",
    "x_axis_0 = [row[0] for row in list0]\n",
    "y_axis_0 = [row[1] for row in list0]\n",
    "\n",
    "\n",
    "x_axis_1 = [row[0] for row in list1]\n",
    "y_axis_1 = [row[1] for row in list1]\n",
    "\n",
    "x_axis = np.linspace(-1,2,10)\n",
    "y_axis = - x_axis*weight1 - bias\n",
    "\n",
    "\n",
    "plt.scatter(x_axis_0, y_axis_0, label = 0, s = 100)\n",
    "plt.scatter(x_axis_1, y_axis_1, color = 'r', label = 1, s = 100)\n",
    "plt.plot(x_axis, y_axis, '--', color = 'black')\n",
    "plt.xlim([-.1,2])\n",
    "plt.ylim([-.1,2])\n",
    "plt.xlabel(\"$X_1$\")\n",
    "plt.ylabel(\"$X_2$\")\n",
    "plt.grid()\n",
    "plt.legend()\n",
    "plt.show()"
   ]
  },
  {
   "cell_type": "markdown",
   "metadata": {},
   "source": [
    "# Answer"
   ]
  },
  {
   "cell_type": "markdown",
   "metadata": {},
   "source": [
    "The decision boundary is defined by the discriminant function = 0. The discriminant function is the equation that will help us define where a boundary exists. Given that equation we can classify where a given point belongs. In this case, our disciminant function is given by \"weight1 * test_input  + bias\" with the test inputs acting as the input variables.\n",
    "\n",
    "While testing, we can check the outputs with the ones we're supposed to have with the NOT logic gate, for this we created a table to reference it. We figured out the values 0 and -1 for bias and weight1 (respectively) worked. And after that we plotted in order to succesfully showcase our values."
   ]
  },
  {
   "cell_type": "markdown",
   "metadata": {},
   "source": [
    "### Compuerta **XOR**\n",
    "\n",
    "The corresponding truth table for the **XOR** gate is: \n",
    "\n",
    "\n",
    "| $x_1$ | $x_2$   | y |\n",
    "| ------ |---------| ------:|\n",
    "| 0  | 0  | 0  |\n",
    "| 0  | 1  | 1  |\n",
    "| 1  | 0  | 1  |\n",
    "| 1  | 1  | 0  |\n",
    "\n",
    "<center>\n",
    "    Table 3. Truth Table of the **XOR**.\n",
    "</center>\n",
    "\n",
    "\n",
    "\n",
    "\n",
    "**T4.** Which are the correct values of `weight1`, `weight2` anb `bias` such that the perceptron acts as the logical gate **XOR**? Justify your answer by using the concepts: *discriminant function* and *decision boundary*. You can add and schema if you need it. \n",
    "\n",
    "The following code is the same as in the previous tasks. Adapt the code in order to create a Perceptron which acts as the logical gate **XOR**."
   ]
  },
  {
   "cell_type": "code",
   "execution_count": 9,
   "metadata": {
    "scrolled": true
   },
   "outputs": [
    {
     "name": "stdout",
     "output_type": "stream",
     "text": [
      " X1  X2  Linear Combination  Activation Output Correct?\n",
      "  0   0                  -1                  0      Yes\n",
      "  0   1                  -3                  0       No\n",
      "  1   0                  -3                  0       No\n",
      "  1   1                  -5                  0      Yes\n"
     ]
    }
   ],
   "source": [
    "weight1 = -2\n",
    "weight2 = -2\n",
    "bias = -1\n",
    "\n",
    "\n",
    "\n",
    "# Input and Outputs\n",
    "test_inputs = [(0, 0), (0, 1), (1, 0), (1, 1)]\n",
    "test_outputs = [0, 1, 1, 0]\n",
    "outputs = []\n",
    "\n",
    "for test_input, test_output in zip(test_inputs, test_outputs):\n",
    "    # Linear Combination\n",
    "    linear_combination = weight1 * test_input[0] + weight2 * test_input[1] + bias\n",
    "    \n",
    "    # Activation Function (Step Function)\n",
    "    output = int(linear_combination >= 0)\n",
    "    \n",
    "    # Save if the prediction is correct ('Yes') or not ('No')\n",
    "    is_correct_string = 'Yes' if output == test_output else 'No'\n",
    "    outputs.append([test_input[0], test_input[1], linear_combination, output, is_correct_string])\n",
    "    \n",
    "output_frame = pd.DataFrame(outputs, columns=['X1', 'X2', 'Linear Combination', 'Activation Output', 'Correct?'])\n",
    "\n",
    "print(output_frame.to_string(index=False))"
   ]
  },
  {
   "cell_type": "code",
   "execution_count": 10,
   "metadata": {},
   "outputs": [
    {
     "data": {
      "image/png": "[encoded data removed]",
      "text/plain": [
       "<Figure size 576x576 with 1 Axes>"
      ]
     },
     "metadata": {
      "needs_background": "light"
     },
     "output_type": "display_data"
    }
   ],
   "source": [
    "list1 = [(row[0], row[1]) for row in test_inputs if (row[0] == 0 and row[1] == 1) or (row[0] == 1 and row[1] == 0)]\n",
    "list0 = [(row[0], row[1]) for row in test_inputs if (row[0] == 0 and row[1] == 0) or (row[0] == 1 and row[1] == 1)]\n",
    "\n",
    "x_axis_0 = [row[0] for row in list0]\n",
    "y_axis_0 = [row[1] for row in list0]\n",
    "\n",
    "\n",
    "x_axis_1 = [row[0] for row in list1]\n",
    "y_axis_1 = [row[1] for row in list1]\n",
    "\n",
    "x_axis = np.linspace(-1,2,10)\n",
    "y_axis = - x_axis*weight1 - bias\n",
    "\n",
    "\n",
    "plt.scatter(x_axis_0, y_axis_0, label = 0, s = 100)\n",
    "plt.scatter(x_axis_1, y_axis_1, color = 'r', label = 1, s = 100)\n",
    "plt.plot(x_axis, y_axis, '--', color = 'black')\n",
    "plt.xlim([-.1,2])\n",
    "plt.ylim([-.1,2])\n",
    "plt.xlabel(\"$X_1$\")\n",
    "plt.ylabel(\"$X_2$\")\n",
    "plt.grid()\n",
    "plt.legend()\n",
    "plt.show()"
   ]
  },
  {
   "cell_type": "markdown",
   "metadata": {},
   "source": [
    "# Answer"
   ]
  },
  {
   "cell_type": "markdown",
   "metadata": {},
   "source": [
    "The decision boundary is defined by the discriminant function = 0. The discriminant function is the equation that will help us define where a boundary exists. Given that equation we can classify where a given point belongs. In this case, our disciminant function is given by \"weight1 * test_input[0] + weight2 * test_input[1] + bias\" with the test inputs acting as the input variables.\n",
    "\n",
    "While testing, we can check the outputs with the ones we're supposed to have with the XOR logic gate, for this we created a table to reference it. For this particular case, however, we can't determine the correct values. Why? Because the XOR logic gate isn't linearly separable. And that completely nullifies our equation. "
   ]
  },
  {
   "cell_type": "markdown",
   "metadata": {},
   "source": [
    "## 3. Perceptron Model\n",
    "\n",
    "The implementation of the Perceptron of this activity will be done by using an Object Oriented Programming style. Consider the following class."
   ]
  },
  {
   "cell_type": "code",
   "execution_count": 11,
   "metadata": {},
   "outputs": [],
   "source": [
    "class Perceptron:\n",
    "    \"\"\"\n",
    "    Class that simulates how a perceptron works\n",
    "    \n",
    "    Parameters:\n",
    "    n_inputs: is the number of inputs that the perceptron will receive, for instance, if the inputs has 2 columns the n_inputs is 2\n",
    "    max_iterations: is the maximum number of iteration the fit will do\n",
    "    learning_rate: is the learning rate\n",
    "    \n",
    "    \n",
    "    Attributes:\n",
    "    self.max_iterations: is the maximum number of iteration the fit will do\n",
    "    self.n_inputs: is the number of inputs that the perceptron will receive, for instance, if the inputs has 2 columns the n_inputs is 2\n",
    "    self.weights: weights for the model, the number of the weights is defined by the n_inputs\n",
    "    self.bias: interception\n",
    "    self.learning_rate: is the learning rate\n",
    "    self.memory: list to save the weights and bias of each iteration\n",
    "    \"\"\"\n",
    "    \n",
    "    def __init__(self, n_inputs, max_iterations=200, learning_rate=0.01):\n",
    "        \"\"\"\n",
    "        initializer of the class\n",
    "        \n",
    "        Input:\n",
    "        n_inputs: is the number of inputs that the perceptron will receive, for instance, if the inputs has 2 columns the n_inputs is 2\n",
    "        max_iterations: is the maximum number of iteration the fit will do\n",
    "        learning_rate: is the learning rate\n",
    "    \n",
    "        \n",
    "        Output:\n",
    "        attributes initialized\n",
    "        \"\"\"\n",
    "        self.max_iterations = max_iterations\n",
    "        self.n_inputs = n_inputs\n",
    "\n",
    "        self.weights = np.array([0 for _ in range(n_inputs)])\n",
    "        self.bias = 0\n",
    "        self.learning_rate = learning_rate\n",
    "        \n",
    "        self.memory = []\n",
    "        \n",
    "        \n",
    "    def prediction(self, inputs):\n",
    "        \"\"\"\n",
    "        Function to predict the activation of the perceptron, either 1 or 0\n",
    "        \n",
    "        Input:\n",
    "        inputs: list of values that are use for predicting\n",
    "        \n",
    "        Output:\n",
    "        return a list of 1 or 0, belonging to the activation of each input\n",
    "        \"\"\"\n",
    "        inputs = np.array(inputs)\n",
    "        activation = []\n",
    "        \n",
    "        for i in inputs:\n",
    "            aux = sum(i * self.weights) + self.bias\n",
    "            if aux >= 0:\n",
    "                activation.append(1)\n",
    "                \n",
    "            else:\n",
    "                activation.append(0)\n",
    "        \n",
    "        return activation\n",
    "    \n",
    "    \n",
    "    def __prediction_for_fit(self, simple_input):\n",
    "        \"\"\"\n",
    "        Private method to predict use in fit\n",
    "        \n",
    "        input:\n",
    "        list of values belonging to 1 row\n",
    "        \n",
    "        output:\n",
    "        return the activation of the perceptron\n",
    "        \n",
    "        \"\"\"\n",
    "        aux = sum(simple_input * self.weights) + self.bias\n",
    "        if aux >= 0:\n",
    "            return 1\n",
    "\n",
    "        else:\n",
    "            return 0\n",
    "    \n",
    "    def fit(self, train_inputs, train_labels):\n",
    "        \"\"\"\n",
    "        Function to fit the perceptron due to given values \n",
    "        \n",
    "        Input:\n",
    "        train_inputs: row for training the model\n",
    "        train_labels: target values for training the model\n",
    "        \n",
    "        \n",
    "        Output:\n",
    "        does not return nothing, but fit the model.\n",
    "        \"\"\"\n",
    "        \n",
    "        train_inputs = np.array(train_inputs)\n",
    "        \n",
    "        #bunch of operations seen in classes, we think is quite intuitive\n",
    "        for epoch in range(self.max_iterations):\n",
    "            for row, real_value in zip(train_inputs, train_labels):\n",
    "                aux = (real_value - self.__prediction_for_fit(row)) \n",
    "                self.weights = self.weights + self.learning_rate * aux * row \n",
    "                self.bias = self.bias + self.learning_rate * aux\n",
    "                \n",
    "            #saving the weights and bias of this last iteration\n",
    "            self.memory.append([self.weights[:], self.bias])\n",
    "                \n",
    "                \n",
    "    def generate_accuracies(self, data_test, target_test):\n",
    "        \"\"\"\n",
    "        Function to generate all the accuracy values for each weight and bias saved in memory attribute \n",
    "        \n",
    "        input:\n",
    "        data_test: row for testing the model\n",
    "        target_test: test targets\n",
    "        \n",
    "        outputs:\n",
    "        return all the error rates for each weight and  bias\n",
    "        \n",
    "        \"\"\"\n",
    "        data_test = np.array(data_test)\n",
    "        accuracies = []\n",
    "        \n",
    "        #ietating in each weight and bias\n",
    "        for i in self.memory:\n",
    "            activation = []\n",
    "            #iterating in each data_test, this is what prediction does\n",
    "            for row in data_test:\n",
    "                aux = sum(row * i[0]) + i[1]\n",
    "                if aux >= 0:\n",
    "                    activation.append(1)\n",
    "                \n",
    "                else:\n",
    "                    activation.append(0)\n",
    "             \n",
    "            #getting the error rate (1 - accuracy)\n",
    "            accuracies.append(1- metrics.accuracy_score(target_test, activation))\n",
    "            \n",
    "        return accuracies"
   ]
  },
  {
   "cell_type": "markdown",
   "metadata": {},
   "source": [
    "**T5.** Complete the function `__init__(self, n_inputs, max_iterations=200, learning_rate=0.01`. It should be initialized `self.weight` as a vector with zero values and `self.bias` to zero.\n",
    "\n",
    "**T6.** Complete the function `Perceptron.fit(self, train_inputs, train_labels)`. The function should inputs `train_inputs` and `train_labels`. The function should apply *The Perceptron Algorithm* in order to obtain the best values for the weight vector and bias. Observe that the class has the following attributes `max_iterations` and `learning_rate`. After each epoch (iteration) print the current *epoch*, *learning_rate* and *missing* items.\n",
    "\n",
    "**T7.** Complete the function `Perceptron.predict(self, inputs)` which should return the predicted values for all instances in `inputs`.\n",
    "\n",
    "You can create \"private\" methods and attributes.\n",
    "\n",
    "**T8.** In the following sections **A. Perceptron OR**, **A. Perceptron OR**, **A. Perceptron OR**, **A. Perceptron OR** train a perceptron model in order to acts as the corresponding logical gate. Do you need 200 iterations? Modify the `max_iterations`if you need it.\n",
    "\n",
    "In each case print the corresponding *weights* and *bias."
   ]
  },
  {
   "cell_type": "markdown",
   "metadata": {},
   "source": [
    "### A. Perceptron OR"
   ]
  },
  {
   "cell_type": "code",
   "execution_count": 12,
   "metadata": {},
   "outputs": [],
   "source": [
    "# Create the perceptron model for the gate OR.\n",
    "\n",
    "perceptron_or = Perceptron(n_inputs = 2, max_iterations=20, learning_rate=0.01)"
   ]
  },
  {
   "cell_type": "code",
   "execution_count": 13,
   "metadata": {},
   "outputs": [],
   "source": [
    "# Input and Outputs\n",
    "test_inputs_or = [(0, 0), (0, 1), (1, 0), (1, 1)]\n",
    "test_inputs_or = np.array(test_inputs_or)\n",
    "\n",
    "test_outputs_or = [0, 1, 1, 1]"
   ]
  },
  {
   "cell_type": "code",
   "execution_count": 14,
   "metadata": {},
   "outputs": [],
   "source": [
    "# Training\n",
    "perceptron_or.fit(test_inputs_or, test_outputs_or)"
   ]
  },
  {
   "cell_type": "code",
   "execution_count": 15,
   "metadata": {},
   "outputs": [
    {
     "data": {
      "text/plain": [
       "array([0.01, 0.01])"
      ]
     },
     "execution_count": 15,
     "metadata": {},
     "output_type": "execute_result"
    }
   ],
   "source": [
    "# Print the weights and bias\n",
    "perceptron_or.weights"
   ]
  },
  {
   "cell_type": "code",
   "execution_count": 16,
   "metadata": {},
   "outputs": [
    {
     "data": {
      "text/plain": [
       "-0.01"
      ]
     },
     "execution_count": 16,
     "metadata": {},
     "output_type": "execute_result"
    }
   ],
   "source": [
    "perceptron_or.bias"
   ]
  },
  {
   "cell_type": "code",
   "execution_count": 17,
   "metadata": {},
   "outputs": [
    {
     "data": {
      "image/png": "[encoded data removed]",
      "text/plain": [
       "<Figure size 576x576 with 1 Axes>"
      ]
     },
     "metadata": {
      "needs_background": "light"
     },
     "output_type": "display_data"
    }
   ],
   "source": [
    "list1 = [(row[0], row[1]) for row in test_inputs_or if row[0] == 1 or row[1] == 1]\n",
    "list0 = [(row[0], row[1]) for row in test_inputs_or if row[0] == 0 and row[1] == 0]\n",
    "\n",
    "x_axis_0 = [row[0] for row in list0]\n",
    "y_axis_0 = [row[1] for row in list0]\n",
    "\n",
    "\n",
    "x_axis_1 = [row[0] for row in list1]\n",
    "y_axis_1 = [row[1] for row in list1]\n",
    "\n",
    "x_axis = np.linspace(-1,2,10)\n",
    "y_axis = (- x_axis*perceptron_or.weights[0] - perceptron_or.bias)/perceptron_or.weights[1]\n",
    "\n",
    "\n",
    "plt.scatter(x_axis_0, y_axis_0, label = 0, s = 100)\n",
    "plt.scatter(x_axis_1, y_axis_1, color = 'r', label = 1, s = 100)\n",
    "plt.plot(x_axis, y_axis, '--', color = 'black')\n",
    "plt.xlim([-.1,2])\n",
    "plt.ylim([-.1,2])\n",
    "plt.xlabel(\"$X_1$\")\n",
    "plt.ylabel(\"$X_2$\")\n",
    "plt.grid()\n",
    "plt.legend()\n",
    "plt.show()"
   ]
  },
  {
   "cell_type": "markdown",
   "metadata": {},
   "source": [
    "### B. Perceptron AND"
   ]
  },
  {
   "cell_type": "code",
   "execution_count": 18,
   "metadata": {},
   "outputs": [],
   "source": [
    "# Create the perceptron model for the gate AND.\n",
    "\n",
    "perceptron_and = Perceptron(n_inputs = 2, max_iterations=20, learning_rate=0.01)"
   ]
  },
  {
   "cell_type": "code",
   "execution_count": 19,
   "metadata": {},
   "outputs": [],
   "source": [
    "# Input and Outputs\n",
    "test_inputs_and =  [(0, 0), (0, 1), (1, 0), (1, 1)]\n",
    "test_inputs_and = np.array(test_inputs_and)\n",
    "\n",
    "test_outputs_and = [0, 0, 0, 1]"
   ]
  },
  {
   "cell_type": "code",
   "execution_count": 20,
   "metadata": {},
   "outputs": [],
   "source": [
    "# Training\n",
    "perceptron_and.fit(test_inputs_and, test_outputs_and)"
   ]
  },
  {
   "cell_type": "code",
   "execution_count": 21,
   "metadata": {},
   "outputs": [
    {
     "data": {
      "text/plain": [
       "array([0.02, 0.01])"
      ]
     },
     "execution_count": 21,
     "metadata": {},
     "output_type": "execute_result"
    }
   ],
   "source": [
    "# Print the weights and bias\n",
    "perceptron_and.weights"
   ]
  },
  {
   "cell_type": "code",
   "execution_count": 22,
   "metadata": {},
   "outputs": [
    {
     "data": {
      "text/plain": [
       "-0.03"
      ]
     },
     "execution_count": 22,
     "metadata": {},
     "output_type": "execute_result"
    }
   ],
   "source": [
    "perceptron_and.bias"
   ]
  },
  {
   "cell_type": "code",
   "execution_count": 23,
   "metadata": {},
   "outputs": [
    {
     "data": {
      "image/png": "[encoded data removed]",
      "text/plain": [
       "<Figure size 576x576 with 1 Axes>"
      ]
     },
     "metadata": {
      "needs_background": "light"
     },
     "output_type": "display_data"
    }
   ],
   "source": [
    "list1 = [(row[0], row[1]) for row in test_inputs_and if row[0] == 1 and row[1] == 1]\n",
    "list0 = [(row[0], row[1]) for row in test_inputs_and if row[0] == 0 or row[1] == 0]\n",
    "\n",
    "x_axis_0 = [row[0] for row in list0]\n",
    "y_axis_0 = [row[1] for row in list0]\n",
    "\n",
    "\n",
    "x_axis_1 = [row[0] for row in list1]\n",
    "y_axis_1 = [row[1] for row in list1]\n",
    "\n",
    "x_axis = np.linspace(-1,2,10)\n",
    "y_axis = (- x_axis*perceptron_and.weights[0] - perceptron_and.bias)/perceptron_and.weights[1]\n",
    "\n",
    "\n",
    "plt.scatter(x_axis_0, y_axis_0, label = 0, s = 100)\n",
    "plt.scatter(x_axis_1, y_axis_1, color = 'r', label = 1, s = 100)\n",
    "plt.plot(x_axis, y_axis, '--', color = 'black')\n",
    "plt.xlim([-.1,2])\n",
    "plt.ylim([-.1,2])\n",
    "plt.xlabel(\"$X_1$\")\n",
    "plt.ylabel(\"$X_2$\")\n",
    "plt.grid()\n",
    "plt.legend()\n",
    "plt.show()"
   ]
  },
  {
   "cell_type": "markdown",
   "metadata": {},
   "source": [
    "### C. Perceptron NOT"
   ]
  },
  {
   "cell_type": "code",
   "execution_count": 24,
   "metadata": {},
   "outputs": [],
   "source": [
    "# Create the perceptron model for the gate NOT.\n",
    "\n",
    "perceptron_not = Perceptron(n_inputs = 1, max_iterations=20, learning_rate=0.01)"
   ]
  },
  {
   "cell_type": "code",
   "execution_count": 25,
   "metadata": {},
   "outputs": [],
   "source": [
    "# Input and Outputs\n",
    "test_inputs_not = [0, 1]\n",
    "test_inputs_not = np.array(test_inputs_not)\n",
    "\n",
    "test_outputs_not = [1, 0]"
   ]
  },
  {
   "cell_type": "code",
   "execution_count": 26,
   "metadata": {},
   "outputs": [],
   "source": [
    "# Training\n",
    "perceptron_not.fit(test_inputs_not, test_outputs_not)"
   ]
  },
  {
   "cell_type": "code",
   "execution_count": 27,
   "metadata": {},
   "outputs": [
    {
     "data": {
      "text/plain": [
       "array([-0.01])"
      ]
     },
     "execution_count": 27,
     "metadata": {},
     "output_type": "execute_result"
    }
   ],
   "source": [
    "# Print the weights and bias\n",
    "perceptron_not.weights"
   ]
  },
  {
   "cell_type": "code",
   "execution_count": 28,
   "metadata": {},
   "outputs": [
    {
     "data": {
      "text/plain": [
       "0.0"
      ]
     },
     "execution_count": 28,
     "metadata": {},
     "output_type": "execute_result"
    }
   ],
   "source": [
    "perceptron_not.bias"
   ]
  },
  {
   "cell_type": "code",
   "execution_count": 29,
   "metadata": {},
   "outputs": [
    {
     "data": {
      "image/png": "[encoded data removed]",
      "text/plain": [
       "<Figure size 576x576 with 1 Axes>"
      ]
     },
     "metadata": {
      "needs_background": "light"
     },
     "output_type": "display_data"
    }
   ],
   "source": [
    "list1 = [(0,1)]\n",
    "list0 = [(1,0)]\n",
    "\n",
    "x_axis_0 = [row[0] for row in list0]\n",
    "y_axis_0 = [row[1] for row in list0]\n",
    "\n",
    "\n",
    "x_axis_1 = [row[0] for row in list1]\n",
    "y_axis_1 = [row[1] for row in list1]\n",
    "\n",
    "x_axis = np.linspace(-1,2,10)\n",
    "y_axis = - x_axis*perceptron_not.weights[0] - perceptron_not.bias\n",
    "\n",
    "\n",
    "plt.scatter(x_axis_0, y_axis_0, label = 0, s = 100)\n",
    "plt.scatter(x_axis_1, y_axis_1, color = 'r', label = 1, s = 100)\n",
    "plt.plot(x_axis, y_axis, '--', color = 'black')\n",
    "plt.xlim([-.1,2])\n",
    "plt.ylim([-.1,2])\n",
    "plt.xlabel(\"$X_1$\")\n",
    "plt.ylabel(\"$X_2$\")\n",
    "plt.grid()\n",
    "plt.legend()\n",
    "plt.show()"
   ]
  },
  {
   "cell_type": "markdown",
   "metadata": {},
   "source": [
    "### D. Perceptron XOR"
   ]
  },
  {
   "cell_type": "code",
   "execution_count": 30,
   "metadata": {},
   "outputs": [],
   "source": [
    "# Create the perceptron model for the gate XOR.\n",
    "\n",
    "perceptron_xor = Perceptron(n_inputs = 2, max_iterations=20, learning_rate=0.01)"
   ]
  },
  {
   "cell_type": "code",
   "execution_count": 31,
   "metadata": {},
   "outputs": [],
   "source": [
    "# Input and Outputs\n",
    "test_inputs_xor = [(0, 0), (0, 1), (1, 0), (1, 1)]\n",
    "test_inputs_xor = np.array(test_inputs_xor)\n",
    "\n",
    "test_outputs_xor = [0, 1, 1, 0]"
   ]
  },
  {
   "cell_type": "code",
   "execution_count": 32,
   "metadata": {},
   "outputs": [],
   "source": [
    "# Training\n",
    "perceptron_xor.fit(test_inputs_xor, test_outputs_xor)"
   ]
  },
  {
   "cell_type": "code",
   "execution_count": 33,
   "metadata": {},
   "outputs": [
    {
     "data": {
      "text/plain": [
       "array([-0.01,  0.  ])"
      ]
     },
     "execution_count": 33,
     "metadata": {},
     "output_type": "execute_result"
    }
   ],
   "source": [
    "# Print the weights and bias\n",
    "perceptron_xor.weights"
   ]
  },
  {
   "cell_type": "code",
   "execution_count": 34,
   "metadata": {},
   "outputs": [
    {
     "data": {
      "text/plain": [
       "0.0"
      ]
     },
     "execution_count": 34,
     "metadata": {},
     "output_type": "execute_result"
    }
   ],
   "source": [
    "perceptron_xor.bias"
   ]
  },
  {
   "cell_type": "code",
   "execution_count": 35,
   "metadata": {},
   "outputs": [
    {
     "name": "stderr",
     "output_type": "stream",
     "text": [
      "<ipython-input-35-0194ec0ba84e>:12: RuntimeWarning: divide by zero encountered in true_divide\n",
      "  y_axis = (- x_axis*perceptron_xor.weights[0] - perceptron_xor.bias)/perceptron_xor.weights[1]\n",
      "<ipython-input-35-0194ec0ba84e>:12: RuntimeWarning: invalid value encountered in true_divide\n",
      "  y_axis = (- x_axis*perceptron_xor.weights[0] - perceptron_xor.bias)/perceptron_xor.weights[1]\n"
     ]
    },
    {
     "data": {
      "image/png": "[encoded data removed]",
      "text/plain": [
       "<Figure size 576x576 with 1 Axes>"
      ]
     },
     "metadata": {
      "needs_background": "light"
     },
     "output_type": "display_data"
    }
   ],
   "source": [
    "list1 = [(row[0], row[1]) for row in test_inputs_xor if (row[0] == 0 and row[1] == 1) or (row[0] == 1 and row[1] == 0)]\n",
    "list0 = [(row[0], row[1]) for row in test_inputs_xor if (row[0] == 0 and row[1] == 0) or (row[0] == 1 and row[1] == 1)]\n",
    "\n",
    "x_axis_0 = [row[0] for row in list0]\n",
    "y_axis_0 = [row[1] for row in list0]\n",
    "\n",
    "\n",
    "x_axis_1 = [row[0] for row in list1]\n",
    "y_axis_1 = [row[1] for row in list1]\n",
    "\n",
    "x_axis = np.linspace(-1,2,10)\n",
    "y_axis = (- x_axis*perceptron_xor.weights[0] - perceptron_xor.bias)/perceptron_xor.weights[1]\n",
    "\n",
    "\n",
    "plt.scatter(x_axis_0, y_axis_0, label = 0, s = 100)\n",
    "plt.scatter(x_axis_1, y_axis_1, color = 'r', label = 1, s = 100)\n",
    "plt.plot(x_axis, y_axis, '--', color = 'black')\n",
    "plt.xlim([-.1,2])\n",
    "plt.ylim([-.1,2])\n",
    "plt.xlabel(\"$X_1$\")\n",
    "plt.ylabel(\"$X_2$\")\n",
    "plt.grid()\n",
    "plt.legend()\n",
    "plt.show()"
   ]
  },
  {
   "cell_type": "markdown",
   "metadata": {},
   "source": [
    "As said before, this last gate is not lineal separable, so the perceptron cannot make a model to separate the classes."
   ]
  },
  {
   "cell_type": "markdown",
   "metadata": {},
   "source": [
    "## 4. Classification\n",
    "\n",
    "The Iris Dataset is one of the most known in the literature. You already worked with this dataset in NB3.1 K Nearest Neighbors. The common goal of this dataset is to predict the type of plant based on the features. One of the classes is linearly separable but the rest are not [[3](https://archive.ics.uci.edu/ml/datasets/iris)]."
   ]
  },
  {
   "cell_type": "code",
   "execution_count": 36,
   "metadata": {},
   "outputs": [],
   "source": [
    "iris = datasets.load_iris()\n",
    "irisDF = pd.DataFrame(iris.data, columns=iris.feature_names)\n",
    "irisDF[\"target\"] = iris.target"
   ]
  },
  {
   "cell_type": "code",
   "execution_count": 37,
   "metadata": {},
   "outputs": [
    {
     "data": {
      "text/html": [
       "<div>\n",
       "<style scoped>\n",
       "    .dataframe tbody tr th:only-of-type {\n",
       "        vertical-align: middle;\n",
       "    }\n",
       "\n",
       "    .dataframe tbody tr th {\n",
       "        vertical-align: top;\n",
       "    }\n",
       "\n",
       "    .dataframe thead th {\n",
       "        text-align: right;\n",
       "    }\n",
       "</style>\n",
       "<table border=\"1\" class=\"dataframe\">\n",
       "  <thead>\n",
       "    <tr style=\"text-align: right;\">\n",
       "      <th></th>\n",
       "      <th>sepal length (cm)</th>\n",
       "      <th>sepal width (cm)</th>\n",
       "      <th>petal length (cm)</th>\n",
       "      <th>petal width (cm)</th>\n",
       "      <th>target</th>\n",
       "    </tr>\n",
       "  </thead>\n",
       "  <tbody>\n",
       "    <tr>\n",
       "      <th>0</th>\n",
       "      <td>5.1</td>\n",
       "      <td>3.5</td>\n",
       "      <td>1.4</td>\n",
       "      <td>0.2</td>\n",
       "      <td>0</td>\n",
       "    </tr>\n",
       "    <tr>\n",
       "      <th>1</th>\n",
       "      <td>4.9</td>\n",
       "      <td>3.0</td>\n",
       "      <td>1.4</td>\n",
       "      <td>0.2</td>\n",
       "      <td>0</td>\n",
       "    </tr>\n",
       "    <tr>\n",
       "      <th>2</th>\n",
       "      <td>4.7</td>\n",
       "      <td>3.2</td>\n",
       "      <td>1.3</td>\n",
       "      <td>0.2</td>\n",
       "      <td>0</td>\n",
       "    </tr>\n",
       "    <tr>\n",
       "      <th>3</th>\n",
       "      <td>4.6</td>\n",
       "      <td>3.1</td>\n",
       "      <td>1.5</td>\n",
       "      <td>0.2</td>\n",
       "      <td>0</td>\n",
       "    </tr>\n",
       "    <tr>\n",
       "      <th>4</th>\n",
       "      <td>5.0</td>\n",
       "      <td>3.6</td>\n",
       "      <td>1.4</td>\n",
       "      <td>0.2</td>\n",
       "      <td>0</td>\n",
       "    </tr>\n",
       "  </tbody>\n",
       "</table>\n",
       "</div>"
      ],
      "text/plain": [
       "   sepal length (cm)  sepal width (cm)  petal length (cm)  petal width (cm)  \\\n",
       "0                5.1               3.5                1.4               0.2   \n",
       "1                4.9               3.0                1.4               0.2   \n",
       "2                4.7               3.2                1.3               0.2   \n",
       "3                4.6               3.1                1.5               0.2   \n",
       "4                5.0               3.6                1.4               0.2   \n",
       "\n",
       "   target  \n",
       "0       0  \n",
       "1       0  \n",
       "2       0  \n",
       "3       0  \n",
       "4       0  "
      ]
     },
     "execution_count": 37,
     "metadata": {},
     "output_type": "execute_result"
    }
   ],
   "source": [
    "irisDF.head()"
   ]
  },
  {
   "cell_type": "markdown",
   "metadata": {},
   "source": [
    "Observe that the target variable corrrespond to 0 for setosa, 1 for versicolor and 2 for virginica.\n",
    "\n",
    "**T9.** Complete the following preprocessing steps:\n",
    "* Select the columns `petal length (cm)` and `petal width (cm)`.\n",
    "* Standardize the input variables."
   ]
  },
  {
   "cell_type": "code",
   "execution_count": 38,
   "metadata": {},
   "outputs": [
    {
     "data": {
      "text/html": [
       "<div>\n",
       "<style scoped>\n",
       "    .dataframe tbody tr th:only-of-type {\n",
       "        vertical-align: middle;\n",
       "    }\n",
       "\n",
       "    .dataframe tbody tr th {\n",
       "        vertical-align: top;\n",
       "    }\n",
       "\n",
       "    .dataframe thead th {\n",
       "        text-align: right;\n",
       "    }\n",
       "</style>\n",
       "<table border=\"1\" class=\"dataframe\">\n",
       "  <thead>\n",
       "    <tr style=\"text-align: right;\">\n",
       "      <th></th>\n",
       "      <th>petal length (cm)</th>\n",
       "      <th>petal width (cm)</th>\n",
       "      <th>target</th>\n",
       "    </tr>\n",
       "  </thead>\n",
       "  <tbody>\n",
       "    <tr>\n",
       "      <th>0</th>\n",
       "      <td>1.4</td>\n",
       "      <td>0.2</td>\n",
       "      <td>0</td>\n",
       "    </tr>\n",
       "    <tr>\n",
       "      <th>1</th>\n",
       "      <td>1.4</td>\n",
       "      <td>0.2</td>\n",
       "      <td>0</td>\n",
       "    </tr>\n",
       "    <tr>\n",
       "      <th>2</th>\n",
       "      <td>1.3</td>\n",
       "      <td>0.2</td>\n",
       "      <td>0</td>\n",
       "    </tr>\n",
       "    <tr>\n",
       "      <th>3</th>\n",
       "      <td>1.5</td>\n",
       "      <td>0.2</td>\n",
       "      <td>0</td>\n",
       "    </tr>\n",
       "    <tr>\n",
       "      <th>4</th>\n",
       "      <td>1.4</td>\n",
       "      <td>0.2</td>\n",
       "      <td>0</td>\n",
       "    </tr>\n",
       "  </tbody>\n",
       "</table>\n",
       "</div>"
      ],
      "text/plain": [
       "   petal length (cm)  petal width (cm)  target\n",
       "0                1.4               0.2       0\n",
       "1                1.4               0.2       0\n",
       "2                1.3               0.2       0\n",
       "3                1.5               0.2       0\n",
       "4                1.4               0.2       0"
      ]
     },
     "execution_count": 38,
     "metadata": {},
     "output_type": "execute_result"
    }
   ],
   "source": [
    "irisDF_selected = irisDF[[\"petal length (cm)\", \"petal width (cm)\", \"target\"]].copy()\n",
    "irisDF_selected.head()"
   ]
  },
  {
   "cell_type": "code",
   "execution_count": 39,
   "metadata": {},
   "outputs": [],
   "source": [
    "iris_scaler = StandardScaler()"
   ]
  },
  {
   "cell_type": "code",
   "execution_count": 40,
   "metadata": {},
   "outputs": [],
   "source": [
    "x = [\"petal length (cm)\", \"petal width (cm)\"]\n",
    "\n",
    "irisDF_selected = irisDF[[\"petal length (cm)\", \"petal width (cm)\", \"target\"]].copy()\n",
    "irisDF_selected.head()\n",
    "irisDF_selected[x] = iris_scaler.fit_transform(irisDF_selected[x])\n",
    "\n",
    "iris_DF_selected_virginica = irisDF_selected.copy()"
   ]
  },
  {
   "cell_type": "code",
   "execution_count": 41,
   "metadata": {},
   "outputs": [
    {
     "data": {
      "text/html": [
       "<div>\n",
       "<style scoped>\n",
       "    .dataframe tbody tr th:only-of-type {\n",
       "        vertical-align: middle;\n",
       "    }\n",
       "\n",
       "    .dataframe tbody tr th {\n",
       "        vertical-align: top;\n",
       "    }\n",
       "\n",
       "    .dataframe thead th {\n",
       "        text-align: right;\n",
       "    }\n",
       "</style>\n",
       "<table border=\"1\" class=\"dataframe\">\n",
       "  <thead>\n",
       "    <tr style=\"text-align: right;\">\n",
       "      <th></th>\n",
       "      <th>petal length (cm)</th>\n",
       "      <th>petal width (cm)</th>\n",
       "      <th>target</th>\n",
       "    </tr>\n",
       "  </thead>\n",
       "  <tbody>\n",
       "    <tr>\n",
       "      <th>0</th>\n",
       "      <td>-1.340227</td>\n",
       "      <td>-1.315444</td>\n",
       "      <td>0</td>\n",
       "    </tr>\n",
       "    <tr>\n",
       "      <th>1</th>\n",
       "      <td>-1.340227</td>\n",
       "      <td>-1.315444</td>\n",
       "      <td>0</td>\n",
       "    </tr>\n",
       "    <tr>\n",
       "      <th>2</th>\n",
       "      <td>-1.397064</td>\n",
       "      <td>-1.315444</td>\n",
       "      <td>0</td>\n",
       "    </tr>\n",
       "    <tr>\n",
       "      <th>3</th>\n",
       "      <td>-1.283389</td>\n",
       "      <td>-1.315444</td>\n",
       "      <td>0</td>\n",
       "    </tr>\n",
       "    <tr>\n",
       "      <th>4</th>\n",
       "      <td>-1.340227</td>\n",
       "      <td>-1.315444</td>\n",
       "      <td>0</td>\n",
       "    </tr>\n",
       "  </tbody>\n",
       "</table>\n",
       "</div>"
      ],
      "text/plain": [
       "   petal length (cm)  petal width (cm)  target\n",
       "0          -1.340227         -1.315444       0\n",
       "1          -1.340227         -1.315444       0\n",
       "2          -1.397064         -1.315444       0\n",
       "3          -1.283389         -1.315444       0\n",
       "4          -1.340227         -1.315444       0"
      ]
     },
     "execution_count": 41,
     "metadata": {},
     "output_type": "execute_result"
    }
   ],
   "source": [
    "irisDF_selected.head()"
   ]
  },
  {
   "cell_type": "markdown",
   "metadata": {},
   "source": [
    "**T10.** Make a scatter plot of `petal width (cm)` (y-axis) vs `petal length (cm)` (x-axis). The data points must be colored according to the target variable."
   ]
  },
  {
   "cell_type": "code",
   "execution_count": 42,
   "metadata": {},
   "outputs": [
    {
     "data": {
      "image/png": "[encoded data removed]",
      "text/plain": [
       "<Figure size 576x576 with 1 Axes>"
      ]
     },
     "metadata": {
      "needs_background": "light"
     },
     "output_type": "display_data"
    }
   ],
   "source": [
    "sns.scatterplot(x=\"petal length (cm)\", y=\"petal width (cm)\", hue=\"target\", data=irisDF_selected)\n",
    "plt.show()"
   ]
  },
  {
   "cell_type": "markdown",
   "metadata": {},
   "source": [
    "## A. Linearly Separable Case\n",
    "\n",
    "Consider that you want to create a model to classify leaves into setosa and not-setosa. As you can observe in **T10.**, those classes are linearly separable.\n",
    "\n",
    "**T11.** Train a Perceptron which classify each instante into setosa (1) and not-setosa (0). In order to fulfill this tasks, consider the following:\n",
    "* Modify the *target* column such that it contains a 1 if the leaf correspond to a setosa plant or 0 if does not correspond to a setosa plat (virginica or versicolor).\n",
    "* Split the dataset into train and test sets. Do not forget make it in a stratified way!\n",
    "* Create and fit a Perceptron Model to the Train Test.\n",
    "* Evaluate the Model with the test set. Present the Confusion Matrix and Accuracy of the Model. "
   ]
  },
  {
   "cell_type": "code",
   "execution_count": 43,
   "metadata": {},
   "outputs": [],
   "source": [
    "setosa_fun = lambda x: 1 if x == 0 else 0"
   ]
  },
  {
   "cell_type": "code",
   "execution_count": 44,
   "metadata": {},
   "outputs": [
    {
     "data": {
      "text/html": [
       "<div>\n",
       "<style scoped>\n",
       "    .dataframe tbody tr th:only-of-type {\n",
       "        vertical-align: middle;\n",
       "    }\n",
       "\n",
       "    .dataframe tbody tr th {\n",
       "        vertical-align: top;\n",
       "    }\n",
       "\n",
       "    .dataframe thead th {\n",
       "        text-align: right;\n",
       "    }\n",
       "</style>\n",
       "<table border=\"1\" class=\"dataframe\">\n",
       "  <thead>\n",
       "    <tr style=\"text-align: right;\">\n",
       "      <th></th>\n",
       "      <th>petal length (cm)</th>\n",
       "      <th>petal width (cm)</th>\n",
       "      <th>target</th>\n",
       "    </tr>\n",
       "  </thead>\n",
       "  <tbody>\n",
       "    <tr>\n",
       "      <th>0</th>\n",
       "      <td>-1.340227</td>\n",
       "      <td>-1.315444</td>\n",
       "      <td>1</td>\n",
       "    </tr>\n",
       "    <tr>\n",
       "      <th>1</th>\n",
       "      <td>-1.340227</td>\n",
       "      <td>-1.315444</td>\n",
       "      <td>1</td>\n",
       "    </tr>\n",
       "    <tr>\n",
       "      <th>2</th>\n",
       "      <td>-1.397064</td>\n",
       "      <td>-1.315444</td>\n",
       "      <td>1</td>\n",
       "    </tr>\n",
       "    <tr>\n",
       "      <th>3</th>\n",
       "      <td>-1.283389</td>\n",
       "      <td>-1.315444</td>\n",
       "      <td>1</td>\n",
       "    </tr>\n",
       "    <tr>\n",
       "      <th>4</th>\n",
       "      <td>-1.340227</td>\n",
       "      <td>-1.315444</td>\n",
       "      <td>1</td>\n",
       "    </tr>\n",
       "  </tbody>\n",
       "</table>\n",
       "</div>"
      ],
      "text/plain": [
       "   petal length (cm)  petal width (cm)  target\n",
       "0          -1.340227         -1.315444       1\n",
       "1          -1.340227         -1.315444       1\n",
       "2          -1.397064         -1.315444       1\n",
       "3          -1.283389         -1.315444       1\n",
       "4          -1.340227         -1.315444       1"
      ]
     },
     "execution_count": 44,
     "metadata": {},
     "output_type": "execute_result"
    }
   ],
   "source": [
    "irisDF_selected.target = irisDF_selected.target.apply(setosa_fun)\n",
    "irisDF_selected.head()"
   ]
  },
  {
   "cell_type": "code",
   "execution_count": 45,
   "metadata": {},
   "outputs": [],
   "source": [
    "iris_data = irisDF_selected[x]\n",
    "iris_target = irisDF_selected[\"target\"]"
   ]
  },
  {
   "cell_type": "code",
   "execution_count": 46,
   "metadata": {},
   "outputs": [],
   "source": [
    "data_train, data_test, target_train, target_test = train_test_split(iris_data,iris_target, train_size = .7, stratify = iris_target, \n",
    "                                                                    random_state = 1)"
   ]
  },
  {
   "cell_type": "code",
   "execution_count": 47,
   "metadata": {},
   "outputs": [],
   "source": [
    "iris_perceptron = Perceptron(n_inputs = 2, max_iterations=10, learning_rate=0.01)"
   ]
  },
  {
   "cell_type": "code",
   "execution_count": 48,
   "metadata": {},
   "outputs": [],
   "source": [
    "iris_perceptron.fit(data_train, target_train)"
   ]
  },
  {
   "cell_type": "code",
   "execution_count": 49,
   "metadata": {},
   "outputs": [],
   "source": [
    "y_prediction = iris_perceptron.prediction(data_test)"
   ]
  },
  {
   "cell_type": "code",
   "execution_count": 50,
   "metadata": {},
   "outputs": [
    {
     "data": {
      "text/plain": [
       "array([[30,  0],\n",
       "       [ 0, 15]], dtype=int64)"
      ]
     },
     "execution_count": 50,
     "metadata": {},
     "output_type": "execute_result"
    }
   ],
   "source": [
    "metrics.confusion_matrix(target_test, y_prediction)"
   ]
  },
  {
   "cell_type": "code",
   "execution_count": 51,
   "metadata": {},
   "outputs": [
    {
     "data": {
      "text/plain": [
       "1.0"
      ]
     },
     "execution_count": 51,
     "metadata": {},
     "output_type": "execute_result"
    }
   ],
   "source": [
    "metrics.accuracy_score(target_test, y_prediction)"
   ]
  },
  {
   "cell_type": "markdown",
   "metadata": {},
   "source": [
    "**T12.** Learning Curves are commonly used to validate the performance of Machine Learning Models. In this context, [2] is an interesting reference that you can read. Make a curve of the **Error Rate** (1 - Accuracy) per epoch. Modify the class in case you need it."
   ]
  },
  {
   "cell_type": "code",
   "execution_count": 52,
   "metadata": {},
   "outputs": [],
   "source": [
    "all_accuracies = iris_perceptron.generate_accuracies(data_test, target_test)"
   ]
  },
  {
   "cell_type": "code",
   "execution_count": 53,
   "metadata": {},
   "outputs": [
    {
     "data": {
      "text/plain": [
       "[0.0, 0.0, 0.0, 0.0, 0.0, 0.0, 0.0, 0.0, 0.0, 0.0]"
      ]
     },
     "execution_count": 53,
     "metadata": {},
     "output_type": "execute_result"
    }
   ],
   "source": [
    "all_accuracies"
   ]
  },
  {
   "cell_type": "code",
   "execution_count": 54,
   "metadata": {},
   "outputs": [
    {
     "data": {
      "image/png": "[encoded data removed]",
      "text/plain": [
       "<Figure size 576x576 with 1 Axes>"
      ]
     },
     "metadata": {
      "needs_background": "light"
     },
     "output_type": "display_data"
    }
   ],
   "source": [
    "x_axis = range(1,len(all_accuracies)+1)\n",
    "plt.scatter(x_axis, all_accuracies)\n",
    "plt.xlabel(\"Iteration\")\n",
    "plt.ylabel(\"Error rate\")\n",
    "plt.title(\"Error rate for each iteration\")\n",
    "plt.show()"
   ]
  },
  {
   "cell_type": "markdown",
   "metadata": {},
   "source": [
    "**T13.** Make a scatter plot of petal width (cm) (y-axis) vs petal length (cm) (x-axis). The data points must be colored according to the target variable (setosa, no-setosa). Also, include the *decision boundary*."
   ]
  },
  {
   "cell_type": "code",
   "execution_count": 55,
   "metadata": {},
   "outputs": [
    {
     "data": {
      "image/png": "[encoded data removed]",
      "text/plain": [
       "<Figure size 576x576 with 1 Axes>"
      ]
     },
     "metadata": {
      "needs_background": "light"
     },
     "output_type": "display_data"
    }
   ],
   "source": [
    "x_axis = np.linspace(-2,2,100)\n",
    "y_axis = (- x_axis*iris_perceptron.weights[0] - iris_perceptron.bias)/iris_perceptron.weights[1]\n",
    "\n",
    "sns.scatterplot(x=\"petal length (cm)\", y=\"petal width (cm)\", hue=\"target\", data=irisDF_selected)\n",
    "plt.plot(x_axis, y_axis, '--',color = \"black\")\n",
    "plt.grid()\n",
    "plt.xlim([-1.5,2])\n",
    "plt.ylim([-1.5,2])\n",
    "plt.show()"
   ]
  },
  {
   "cell_type": "markdown",
   "metadata": {},
   "source": [
    "## B. Non Linearly Separable Case\n",
    "\n",
    "Consider that you want to create a model to classify leaves into virginica and no-virginica. As you can observe in **T10.**, those classes are not linearly separable.\n",
    "\n",
    "**T14.** Train a Perceptron which classify each instante into virginica (1) and no-virginica (0). In order to fulfill this tasks, consider the following:\n",
    "* Modify the *target* column such that it contains a 1 if the leaf correspond to a virginica plant or 0 if does not correspond to a virginica plant (setosa or versicolor).\n",
    "* Split the dataset into train and test sets. Do not forget make it in a stratified way!\n",
    "* Create and fit a Perceptron Model to the Train Test.\n",
    "* Evaluate the Model with the test set. Present the Confusion Matrix and Accuracy of the Model. "
   ]
  },
  {
   "cell_type": "code",
   "execution_count": 56,
   "metadata": {},
   "outputs": [
    {
     "data": {
      "text/html": [
       "<div>\n",
       "<style scoped>\n",
       "    .dataframe tbody tr th:only-of-type {\n",
       "        vertical-align: middle;\n",
       "    }\n",
       "\n",
       "    .dataframe tbody tr th {\n",
       "        vertical-align: top;\n",
       "    }\n",
       "\n",
       "    .dataframe thead th {\n",
       "        text-align: right;\n",
       "    }\n",
       "</style>\n",
       "<table border=\"1\" class=\"dataframe\">\n",
       "  <thead>\n",
       "    <tr style=\"text-align: right;\">\n",
       "      <th></th>\n",
       "      <th>petal length (cm)</th>\n",
       "      <th>petal width (cm)</th>\n",
       "      <th>target</th>\n",
       "    </tr>\n",
       "  </thead>\n",
       "  <tbody>\n",
       "    <tr>\n",
       "      <th>0</th>\n",
       "      <td>-1.340227</td>\n",
       "      <td>-1.315444</td>\n",
       "      <td>0</td>\n",
       "    </tr>\n",
       "    <tr>\n",
       "      <th>1</th>\n",
       "      <td>-1.340227</td>\n",
       "      <td>-1.315444</td>\n",
       "      <td>0</td>\n",
       "    </tr>\n",
       "    <tr>\n",
       "      <th>2</th>\n",
       "      <td>-1.397064</td>\n",
       "      <td>-1.315444</td>\n",
       "      <td>0</td>\n",
       "    </tr>\n",
       "    <tr>\n",
       "      <th>3</th>\n",
       "      <td>-1.283389</td>\n",
       "      <td>-1.315444</td>\n",
       "      <td>0</td>\n",
       "    </tr>\n",
       "    <tr>\n",
       "      <th>4</th>\n",
       "      <td>-1.340227</td>\n",
       "      <td>-1.315444</td>\n",
       "      <td>0</td>\n",
       "    </tr>\n",
       "  </tbody>\n",
       "</table>\n",
       "</div>"
      ],
      "text/plain": [
       "   petal length (cm)  petal width (cm)  target\n",
       "0          -1.340227         -1.315444       0\n",
       "1          -1.340227         -1.315444       0\n",
       "2          -1.397064         -1.315444       0\n",
       "3          -1.283389         -1.315444       0\n",
       "4          -1.340227         -1.315444       0"
      ]
     },
     "execution_count": 56,
     "metadata": {},
     "output_type": "execute_result"
    }
   ],
   "source": [
    "virginica_fun = lambda x: 1 if x == 2 else 0\n",
    "\n",
    "iris_DF_selected_virginica .target = iris_DF_selected_virginica .target.apply(virginica_fun)\n",
    "iris_DF_selected_virginica .head()"
   ]
  },
  {
   "cell_type": "code",
   "execution_count": 57,
   "metadata": {},
   "outputs": [],
   "source": [
    "iris_data_virginica = iris_DF_selected_virginica[x]\n",
    "iris_target_virginica = iris_DF_selected_virginica[\"target\"]\n",
    "\n",
    "data_train_v, data_test_v, target_train_v, target_test_v = train_test_split(iris_data_virginica,iris_target_virginica, train_size = .7, \n",
    "                                                                    stratify = iris_target_virginica, random_state = 1)"
   ]
  },
  {
   "cell_type": "code",
   "execution_count": 58,
   "metadata": {},
   "outputs": [],
   "source": [
    "iris_perceptron_v = Perceptron(n_inputs = 2, max_iterations=100, learning_rate=0.01)\n",
    "iris_perceptron_v.fit(data_train_v, target_train_v)"
   ]
  },
  {
   "cell_type": "code",
   "execution_count": 59,
   "metadata": {},
   "outputs": [],
   "source": [
    "y_prediction_v = iris_perceptron_v.prediction(data_test_v)"
   ]
  },
  {
   "cell_type": "code",
   "execution_count": 60,
   "metadata": {},
   "outputs": [
    {
     "data": {
      "text/plain": [
       "array([[30,  0],\n",
       "       [ 6,  9]], dtype=int64)"
      ]
     },
     "execution_count": 60,
     "metadata": {},
     "output_type": "execute_result"
    }
   ],
   "source": [
    "metrics.confusion_matrix(target_test_v, y_prediction_v)"
   ]
  },
  {
   "cell_type": "code",
   "execution_count": 61,
   "metadata": {},
   "outputs": [
    {
     "data": {
      "text/plain": [
       "0.8666666666666667"
      ]
     },
     "execution_count": 61,
     "metadata": {},
     "output_type": "execute_result"
    }
   ],
   "source": [
    "metrics.accuracy_score(target_test_v, y_prediction_v)"
   ]
  },
  {
   "cell_type": "markdown",
   "metadata": {},
   "source": [
    "**T15.** Make a curve of the **Error Rate** (1 - Accuracy) per epoch. Modify the class in case you need it. What do you expect in this case? What can you observe in this case?"
   ]
  },
  {
   "cell_type": "markdown",
   "metadata": {},
   "source": [
    "We expect the curve to showcase how the error rate goes down per epoch."
   ]
  },
  {
   "cell_type": "code",
   "execution_count": 62,
   "metadata": {},
   "outputs": [],
   "source": [
    "all_accuracies_v = iris_perceptron_v.generate_accuracies(data_test_v, target_test_v)"
   ]
  },
  {
   "cell_type": "code",
   "execution_count": 63,
   "metadata": {},
   "outputs": [
    {
     "data": {
      "image/png": "[encoded data removed]",
      "text/plain": [
       "<Figure size 576x576 with 1 Axes>"
      ]
     },
     "metadata": {
      "needs_background": "light"
     },
     "output_type": "display_data"
    }
   ],
   "source": [
    "x_axis = range(1,len(all_accuracies_v)+1)\n",
    "plt.scatter(x_axis, all_accuracies_v)\n",
    "plt.show()"
   ]
  },
  {
   "cell_type": "markdown",
   "metadata": {},
   "source": [
    "We got what we wanted, error rate tends to go down per epoch but then about 40 epochs in, it becomes stale and repetitive."
   ]
  },
  {
   "cell_type": "markdown",
   "metadata": {},
   "source": [
    "**T16.** Make a scatter plot of petal width (cm) (y-axis) vs petal length (cm) (x-axis). The data points must be colored according to the target variable (setosa, no-setosa). Also, include the *decision boundary*."
   ]
  },
  {
   "cell_type": "code",
   "execution_count": 64,
   "metadata": {},
   "outputs": [
    {
     "data": {
      "image/png": "[encoded data removed]",
      "text/plain": [
       "<Figure size 576x576 with 1 Axes>"
      ]
     },
     "metadata": {
      "needs_background": "light"
     },
     "output_type": "display_data"
    }
   ],
   "source": [
    "x_axis = np.linspace(-2,2,100)\n",
    "y_axis = (- x_axis*iris_perceptron_v.weights[0] - iris_perceptron_v.bias)/iris_perceptron_v.weights[1]\n",
    "\n",
    "sns.scatterplot(x=\"petal length (cm)\", y=\"petal width (cm)\", hue=\"target\", data=iris_DF_selected_virginica)\n",
    "plt.plot(x_axis, y_axis, '--',color = \"black\")\n",
    "plt.grid()\n",
    "plt.xlim([-1.5,2])\n",
    "plt.ylim([-1.5,2])\n",
    "plt.show()"
   ]
  },
  {
   "cell_type": "markdown",
   "metadata": {},
   "source": [
    "## C. Perceptron (Scikit-Learn)\n",
    "\n",
    "Scikit-Learn implements a Perceptron Classifier in `sklearn.linear_model.Perceptron`.\n",
    "\n",
    "**T17.** Complete tasks **T11**, **T12** and **T13** but using the Perceptron Model implemented in scikit-learn."
   ]
  },
  {
   "cell_type": "markdown",
   "metadata": {},
   "source": [
    "## Disclaimer: we did not find how to get the weight and bias for each iteration in sklearn, so we used learning_curve that gives the accuracy, but for the cross validation group"
   ]
  },
  {
   "cell_type": "code",
   "execution_count": 65,
   "metadata": {},
   "outputs": [],
   "source": [
    "from sklearn.linear_model import Perceptron\n",
    "from sklearn.model_selection import validation_curve\n",
    "from sklearn.model_selection import learning_curve\n",
    "from sklearn.model_selection import ShuffleSplit\n"
   ]
  },
  {
   "cell_type": "code",
   "execution_count": 66,
   "metadata": {},
   "outputs": [
    {
     "data": {
      "text/html": [
       "<div>\n",
       "<style scoped>\n",
       "    .dataframe tbody tr th:only-of-type {\n",
       "        vertical-align: middle;\n",
       "    }\n",
       "\n",
       "    .dataframe tbody tr th {\n",
       "        vertical-align: top;\n",
       "    }\n",
       "\n",
       "    .dataframe thead th {\n",
       "        text-align: right;\n",
       "    }\n",
       "</style>\n",
       "<table border=\"1\" class=\"dataframe\">\n",
       "  <thead>\n",
       "    <tr style=\"text-align: right;\">\n",
       "      <th></th>\n",
       "      <th>petal length (cm)</th>\n",
       "      <th>petal width (cm)</th>\n",
       "      <th>target</th>\n",
       "    </tr>\n",
       "  </thead>\n",
       "  <tbody>\n",
       "    <tr>\n",
       "      <th>0</th>\n",
       "      <td>-1.340227</td>\n",
       "      <td>-1.315444</td>\n",
       "      <td>1</td>\n",
       "    </tr>\n",
       "    <tr>\n",
       "      <th>1</th>\n",
       "      <td>-1.340227</td>\n",
       "      <td>-1.315444</td>\n",
       "      <td>1</td>\n",
       "    </tr>\n",
       "    <tr>\n",
       "      <th>2</th>\n",
       "      <td>-1.397064</td>\n",
       "      <td>-1.315444</td>\n",
       "      <td>1</td>\n",
       "    </tr>\n",
       "    <tr>\n",
       "      <th>3</th>\n",
       "      <td>-1.283389</td>\n",
       "      <td>-1.315444</td>\n",
       "      <td>1</td>\n",
       "    </tr>\n",
       "    <tr>\n",
       "      <th>4</th>\n",
       "      <td>-1.340227</td>\n",
       "      <td>-1.315444</td>\n",
       "      <td>1</td>\n",
       "    </tr>\n",
       "  </tbody>\n",
       "</table>\n",
       "</div>"
      ],
      "text/plain": [
       "   petal length (cm)  petal width (cm)  target\n",
       "0          -1.340227         -1.315444       1\n",
       "1          -1.340227         -1.315444       1\n",
       "2          -1.397064         -1.315444       1\n",
       "3          -1.283389         -1.315444       1\n",
       "4          -1.340227         -1.315444       1"
      ]
     },
     "execution_count": 66,
     "metadata": {},
     "output_type": "execute_result"
    }
   ],
   "source": [
    "irisDF_selected.head()"
   ]
  },
  {
   "cell_type": "code",
   "execution_count": 67,
   "metadata": {},
   "outputs": [],
   "source": [
    "x = [\"petal length (cm)\", \"petal width (cm)\"]"
   ]
  },
  {
   "cell_type": "code",
   "execution_count": 68,
   "metadata": {},
   "outputs": [],
   "source": [
    "iris_data = irisDF_selected[x]\n",
    "iris_target = irisDF_selected[\"target\"]"
   ]
  },
  {
   "cell_type": "code",
   "execution_count": 69,
   "metadata": {},
   "outputs": [],
   "source": [
    "data_train, data_test, target_train, target_test = train_test_split(iris_data,iris_target, train_size = .7, stratify = iris_target, \n",
    "                                                                    random_state = 1)"
   ]
  },
  {
   "cell_type": "code",
   "execution_count": 70,
   "metadata": {},
   "outputs": [
    {
     "data": {
      "text/plain": [
       "Perceptron(l1_ratio=0.01, max_iter=100)"
      ]
     },
     "execution_count": 70,
     "metadata": {},
     "output_type": "execute_result"
    }
   ],
   "source": [
    "clf = Perceptron(tol=1e-3, random_state=0, l1_ratio=0.01, max_iter=100)\n",
    "clf.fit(data_train, target_train)"
   ]
  },
  {
   "cell_type": "code",
   "execution_count": 71,
   "metadata": {},
   "outputs": [],
   "source": [
    "y_prediction = clf.predict(data_test)"
   ]
  },
  {
   "cell_type": "code",
   "execution_count": 72,
   "metadata": {},
   "outputs": [
    {
     "data": {
      "text/plain": [
       "array([[30,  0],\n",
       "       [ 0, 15]], dtype=int64)"
      ]
     },
     "execution_count": 72,
     "metadata": {},
     "output_type": "execute_result"
    }
   ],
   "source": [
    "metrics.confusion_matrix(target_test, y_prediction)"
   ]
  },
  {
   "cell_type": "code",
   "execution_count": 73,
   "metadata": {},
   "outputs": [
    {
     "data": {
      "text/plain": [
       "1.0"
      ]
     },
     "execution_count": 73,
     "metadata": {},
     "output_type": "execute_result"
    }
   ],
   "source": [
    "metrics.accuracy_score(target_test, y_prediction)"
   ]
  },
  {
   "cell_type": "code",
   "execution_count": 74,
   "metadata": {},
   "outputs": [],
   "source": [
    "train_sizes, train_scores, valid_scores = learning_curve(clf, iris_data, iris_target, train_sizes=[70], cv=5)"
   ]
  },
  {
   "cell_type": "code",
   "execution_count": 75,
   "metadata": {},
   "outputs": [
    {
     "data": {
      "image/png": "[encoded data removed]",
      "text/plain": [
       "<Figure size 576x576 with 1 Axes>"
      ]
     },
     "metadata": {
      "needs_background": "light"
     },
     "output_type": "display_data"
    }
   ],
   "source": [
    "valid_scores = 1-valid_scores\n",
    "plt.plot(range(1,valid_scores.shape[1]+1),valid_scores[0])\n",
    "plt.xlabel(\"Iteration\")\n",
    "plt.ylabel(\"Error rate\")\n",
    "plt.title(\"Error rate for each iteration\")\n",
    "plt.show()"
   ]
  },
  {
   "cell_type": "markdown",
   "metadata": {},
   "source": [
    "As you can see since the first iteration it gets the error rate equal to 0"
   ]
  },
  {
   "cell_type": "code",
   "execution_count": 76,
   "metadata": {},
   "outputs": [],
   "source": [
    "x_axis = np.linspace(-2,2,100)\n",
    "\n",
    "b, b1 = clf.coef_[0]\n",
    "intercept = clf.intercept_\n",
    "\n",
    "y_axis = (- x_axis*b - intercept)/b1"
   ]
  },
  {
   "cell_type": "code",
   "execution_count": 77,
   "metadata": {},
   "outputs": [
    {
     "data": {
      "image/png": "[encoded data removed]",
      "text/plain": [
       "<Figure size 576x576 with 1 Axes>"
      ]
     },
     "metadata": {
      "needs_background": "light"
     },
     "output_type": "display_data"
    }
   ],
   "source": [
    "sns.scatterplot(x=\"petal length (cm)\", y=\"petal width (cm)\", hue=\"target\", data=irisDF_selected)\n",
    "plt.plot(x_axis, y_axis, '--',color = \"black\")\n",
    "plt.grid()\n",
    "plt.xlim([-1.5,2])\n",
    "plt.ylim([-1.5,2])\n",
    "plt.show()"
   ]
  },
  {
   "cell_type": "markdown",
   "metadata": {},
   "source": [
    "**T18.** Complete tasks **T14**, **T15** and **T16** but using the Perceptron Model implemented in scikit-learn."
   ]
  },
  {
   "cell_type": "code",
   "execution_count": 78,
   "metadata": {},
   "outputs": [],
   "source": [
    "data_train_v, data_test_v, target_train_v, target_test_v = train_test_split(iris_data_virginica,iris_target_virginica, train_size = .7, \n",
    "                                                                    stratify = iris_target_virginica, random_state = 1)"
   ]
  },
  {
   "cell_type": "code",
   "execution_count": 79,
   "metadata": {},
   "outputs": [
    {
     "data": {
      "text/plain": [
       "Perceptron(l1_ratio=0.01, max_iter=100)"
      ]
     },
     "execution_count": 79,
     "metadata": {},
     "output_type": "execute_result"
    }
   ],
   "source": [
    "clf = Perceptron(tol=1e-3, random_state=0, l1_ratio=0.01, max_iter=100)\n",
    "clf.fit(data_train_v, target_train_v)"
   ]
  },
  {
   "cell_type": "code",
   "execution_count": 80,
   "metadata": {},
   "outputs": [],
   "source": [
    "y_prediction = clf.predict(data_test_v)"
   ]
  },
  {
   "cell_type": "code",
   "execution_count": 81,
   "metadata": {},
   "outputs": [
    {
     "data": {
      "text/plain": [
       "array([[30,  0],\n",
       "       [ 6,  9]], dtype=int64)"
      ]
     },
     "execution_count": 81,
     "metadata": {},
     "output_type": "execute_result"
    }
   ],
   "source": [
    "metrics.confusion_matrix(target_test_v, y_prediction_v)"
   ]
  },
  {
   "cell_type": "code",
   "execution_count": 82,
   "metadata": {},
   "outputs": [
    {
     "data": {
      "text/plain": [
       "0.8666666666666667"
      ]
     },
     "execution_count": 82,
     "metadata": {},
     "output_type": "execute_result"
    }
   ],
   "source": [
    "metrics.accuracy_score(target_test_v, y_prediction_v)"
   ]
  },
  {
   "cell_type": "code",
   "execution_count": 83,
   "metadata": {},
   "outputs": [
    {
     "data": {
      "text/plain": [
       "(150, 2)"
      ]
     },
     "execution_count": 83,
     "metadata": {},
     "output_type": "execute_result"
    }
   ],
   "source": [
    "iris_data_virginica.shape"
   ]
  },
  {
   "cell_type": "code",
   "execution_count": 84,
   "metadata": {},
   "outputs": [],
   "source": [
    "train_sizes, train_scores, valid_scores = learning_curve(clf, iris_data_virginica, iris_target_virginica, train_sizes=[90], cv=5)"
   ]
  },
  {
   "cell_type": "code",
   "execution_count": 85,
   "metadata": {},
   "outputs": [
    {
     "data": {
      "image/png": "[encoded data removed]",
      "text/plain": [
       "<Figure size 576x576 with 1 Axes>"
      ]
     },
     "metadata": {
      "needs_background": "light"
     },
     "output_type": "display_data"
    }
   ],
   "source": [
    "# La grafica no es similiar al anterior porque el la funcion learning curve y la funcion perception\n",
    "valid_scores = 1-valid_scores\n",
    "plt.plot(range(1,valid_scores.shape[1]+1),valid_scores[0])\n",
    "plt.xlabel(\"Iteration\")\n",
    "plt.ylabel(\"Error rate\")\n",
    "plt.title(\"Error rate for each iteration\")\n",
    "plt.show()"
   ]
  },
  {
   "cell_type": "code",
   "execution_count": 86,
   "metadata": {},
   "outputs": [],
   "source": [
    "x_axis = np.linspace(-2,2,100)\n",
    "b, b1 = clf.coef_[0]\n",
    "intercept = clf.intercept_\n",
    "\n",
    "y_axis = (- x_axis*b - intercept)/b1"
   ]
  },
  {
   "cell_type": "code",
   "execution_count": 87,
   "metadata": {},
   "outputs": [
    {
     "data": {
      "image/png": "[encoded data removed]",
      "text/plain": [
       "<Figure size 576x576 with 1 Axes>"
      ]
     },
     "metadata": {
      "needs_background": "light"
     },
     "output_type": "display_data"
    }
   ],
   "source": [
    "sns.scatterplot(x=\"petal length (cm)\", y=\"petal width (cm)\", hue=\"target\", data=iris_DF_selected_virginica)\n",
    "plt.plot(x_axis, y_axis, '--',color = \"black\")\n",
    "plt.grid()\n",
    "plt.xlim([-1.5,2])\n",
    "plt.ylim([-1.5,2])\n",
    "plt.show()"
   ]
  },
  {
   "cell_type": "markdown",
   "metadata": {},
   "source": [
    "## Additional Material\n",
    "\n",
    "[1] Deep Learning (PyTorch) from Udacity's Repository: https://github.com/udacity/deep-learning-v2-pytorch\n",
    "\n",
    "[2] How to use Learning Curves to Diagnose Machine Learning Model Performance: https://machinelearningmastery.com/learning-curves-for-diagnosing-machine-learning-model-performance/ "
   ]
  }
 ],
 "metadata": {
  "kernelspec": {
   "display_name": "Python 3",
   "language": "python",
   "name": "python3"
  },
  "language_info": {
   "codemirror_mode": {
    "name": "ipython",
    "version": 3
   },
   "file_extension": ".py",
   "mimetype": "text/x-python",
   "name": "python",
   "nbconvert_exporter": "python",
   "pygments_lexer": "ipython3",
   "version": "3.8.6"
  }
 },
 "nbformat": 4,
 "nbformat_minor": 4
}
